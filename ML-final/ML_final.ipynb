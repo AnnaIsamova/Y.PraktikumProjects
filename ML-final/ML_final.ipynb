{
 "nbformat": 4,
 "nbformat_minor": 0,
 "metadata": {
  "colab": {
   "name": "ML-final_comments.ipynb",
   "provenance": [],
   "collapsed_sections": [],
   "toc_visible": true
  },
  "kernelspec": {
   "display_name": "Python 3",
   "language": "python",
   "name": "python3"
  },
  "language_info": {
   "codemirror_mode": {
    "name": "ipython",
    "version": 3
   },
   "file_extension": ".py",
   "mimetype": "text/x-python",
   "name": "python",
   "nbconvert_exporter": "python",
   "pygments_lexer": "ipython3",
   "version": "3.7.4"
  }
 },
 "cells": [
  {
   "cell_type": "markdown",
   "metadata": {
    "colab_type": "text",
    "id": "8Jvdg-upN7Ra"
   },
   "source": [
    "# Описание проекта\n",
    "\n",
    "Подготовьте прототип модели машинного обучения для «Цифры». Компания разрабатывает решения для эффективной работы промышленных предприятий.\n",
    "\n",
    "Модель должна предсказать коэффициент восстановления золота из золотосодержащей руды. В вашем распоряжении данные с параметрами добычи и очистки. \n",
    "\n",
    "Модель поможет оптимизировать производство, чтобы не запускать предприятие с убыточными характеристиками.\n",
    "\n",
    "Вам нужно:\n",
    "\n",
    "1. Подготовить данные;\n",
    "2. Провести исследовательский анализ данных;\n",
    "3. Построить и обучить модель.\n",
    "\n",
    "Чтобы выполнить проект, обращайтесь к библиотекам *pandas*, *matplotlib* и *sklearn.* Вам поможет их документация."
   ]
  },
  {
   "cell_type": "markdown",
   "metadata": {
    "colab_type": "text",
    "id": "RtzPHIrgN7Rc"
   },
   "source": [
    "# 1. Подготовка данных"
   ]
  },
  {
   "cell_type": "markdown",
   "metadata": {
    "colab_type": "text",
    "id": "ev8pic7fN7Rd"
   },
   "source": [
    "1.1. Откройте файлы и изучите их."
   ]
  },
  {
   "cell_type": "code",
   "metadata": {
    "colab_type": "code",
    "id": "y8-7HwiBN7Re",
    "colab": {}
   },
   "source": [
    "import pandas as pd\n",
    "import numpy as np\n",
    "%matplotlib inline\n",
    "import matplotlib.pyplot as plt\n",
    "import seaborn as sns\n",
    "import pylab\n",
    "from sklearn.metrics import mean_absolute_error\n",
    "from sklearn.linear_model import LinearRegression\n",
    "from sklearn.preprocessing import StandardScaler\n",
    "from sklearn.model_selection import cross_val_score\n",
    "from sklearn.metrics import fbeta_score, make_scorer\n",
    "from sklearn.ensemble import RandomForestRegressor\n",
    "from sklearn.tree import DecisionTreeRegressor\n",
    "import warnings\n",
    "warnings.filterwarnings(\"ignore\")"
   ],
   "execution_count": 0,
   "outputs": []
  },
  {
   "cell_type": "code",
   "metadata": {
    "colab_type": "code",
    "id": "Cg-sWJwSN7Rj",
    "colab": {}
   },
   "source": [
    "d_all = pd.read_csv('/content/drive/My Drive/datasets/gold_recovery_full.csv', index_col='date')"
   ],
   "execution_count": 0,
   "outputs": []
  },
  {
   "cell_type": "code",
   "metadata": {
    "colab_type": "code",
    "id": "HYSNUl4KN7Rn",
    "colab": {}
   },
   "source": [
    "d_train = pd.read_csv('/content/drive/My Drive/datasets/gold_recovery_train.csv', index_col='date')"
   ],
   "execution_count": 0,
   "outputs": []
  },
  {
   "cell_type": "code",
   "metadata": {
    "colab_type": "code",
    "id": "i4RJ2M6EN7Rq",
    "colab": {}
   },
   "source": [
    "d_test = pd.read_csv('/content/drive/My Drive/datasets/gold_recovery_test.csv', index_col='date')"
   ],
   "execution_count": 0,
   "outputs": []
  },
  {
   "cell_type": "code",
   "metadata": {
    "colab_type": "code",
    "id": "k87FsyZaN7Rt",
    "outputId": "8b386c76-d632-49b0-fea2-2d6cdc3a4c50",
    "scrolled": true,
    "colab": {
     "base_uri": "https://localhost:8080/",
     "height": 1000
    }
   },
   "source": [
    "d_all.info()"
   ],
   "execution_count": 0,
   "outputs": [
    {
     "output_type": "stream",
     "text": [
      "<class 'pandas.core.frame.DataFrame'>\n",
      "Index: 22716 entries, 2016-01-15 00:00:00 to 2018-08-18 10:59:59\n",
      "Data columns (total 86 columns):\n",
      " #   Column                                              Non-Null Count  Dtype  \n",
      "---  ------                                              --------------  -----  \n",
      " 0   final.output.concentrate_ag                         22627 non-null  float64\n",
      " 1   final.output.concentrate_pb                         22629 non-null  float64\n",
      " 2   final.output.concentrate_sol                        22331 non-null  float64\n",
      " 3   final.output.concentrate_au                         22630 non-null  float64\n",
      " 4   final.output.recovery                               20753 non-null  float64\n",
      " 5   final.output.tail_ag                                22633 non-null  float64\n",
      " 6   final.output.tail_pb                                22516 non-null  float64\n",
      " 7   final.output.tail_sol                               22445 non-null  float64\n",
      " 8   final.output.tail_au                                22635 non-null  float64\n",
      " 9   primary_cleaner.input.sulfate                       21107 non-null  float64\n",
      " 10  primary_cleaner.input.depressant                    21170 non-null  float64\n",
      " 11  primary_cleaner.input.feed_size                     22716 non-null  float64\n",
      " 12  primary_cleaner.input.xanthate                      21565 non-null  float64\n",
      " 13  primary_cleaner.output.concentrate_ag               22618 non-null  float64\n",
      " 14  primary_cleaner.output.concentrate_pb               22268 non-null  float64\n",
      " 15  primary_cleaner.output.concentrate_sol              21918 non-null  float64\n",
      " 16  primary_cleaner.output.concentrate_au               22618 non-null  float64\n",
      " 17  primary_cleaner.output.tail_ag                      22614 non-null  float64\n",
      " 18  primary_cleaner.output.tail_pb                      22594 non-null  float64\n",
      " 19  primary_cleaner.output.tail_sol                     22365 non-null  float64\n",
      " 20  primary_cleaner.output.tail_au                      22617 non-null  float64\n",
      " 21  primary_cleaner.state.floatbank8_a_air              22660 non-null  float64\n",
      " 22  primary_cleaner.state.floatbank8_a_level            22667 non-null  float64\n",
      " 23  primary_cleaner.state.floatbank8_b_air              22660 non-null  float64\n",
      " 24  primary_cleaner.state.floatbank8_b_level            22673 non-null  float64\n",
      " 25  primary_cleaner.state.floatbank8_c_air              22662 non-null  float64\n",
      " 26  primary_cleaner.state.floatbank8_c_level            22673 non-null  float64\n",
      " 27  primary_cleaner.state.floatbank8_d_air              22661 non-null  float64\n",
      " 28  primary_cleaner.state.floatbank8_d_level            22673 non-null  float64\n",
      " 29  rougher.calculation.sulfate_to_au_concentrate       22672 non-null  float64\n",
      " 30  rougher.calculation.floatbank10_sulfate_to_au_feed  22672 non-null  float64\n",
      " 31  rougher.calculation.floatbank11_sulfate_to_au_feed  22672 non-null  float64\n",
      " 32  rougher.calculation.au_pb_ratio                     21089 non-null  float64\n",
      " 33  rougher.input.feed_ag                               22618 non-null  float64\n",
      " 34  rougher.input.feed_pb                               22472 non-null  float64\n",
      " 35  rougher.input.feed_rate                             22163 non-null  float64\n",
      " 36  rougher.input.feed_size                             22277 non-null  float64\n",
      " 37  rougher.input.feed_sol                              22357 non-null  float64\n",
      " 38  rougher.input.feed_au                               22617 non-null  float64\n",
      " 39  rougher.input.floatbank10_sulfate                   21415 non-null  float64\n",
      " 40  rougher.input.floatbank10_xanthate                  22247 non-null  float64\n",
      " 41  rougher.input.floatbank11_sulfate                   22038 non-null  float64\n",
      " 42  rougher.input.floatbank11_xanthate                  20459 non-null  float64\n",
      " 43  rougher.output.concentrate_ag                       22618 non-null  float64\n",
      " 44  rougher.output.concentrate_pb                       22618 non-null  float64\n",
      " 45  rougher.output.concentrate_sol                      22526 non-null  float64\n",
      " 46  rougher.output.concentrate_au                       22618 non-null  float64\n",
      " 47  rougher.output.recovery                             19597 non-null  float64\n",
      " 48  rougher.output.tail_ag                              19979 non-null  float64\n",
      " 49  rougher.output.tail_pb                              22618 non-null  float64\n",
      " 50  rougher.output.tail_sol                             19980 non-null  float64\n",
      " 51  rougher.output.tail_au                              19980 non-null  float64\n",
      " 52  rougher.state.floatbank10_a_air                     22646 non-null  float64\n",
      " 53  rougher.state.floatbank10_a_level                   22647 non-null  float64\n",
      " 54  rougher.state.floatbank10_b_air                     22646 non-null  float64\n",
      " 55  rougher.state.floatbank10_b_level                   22647 non-null  float64\n",
      " 56  rougher.state.floatbank10_c_air                     22646 non-null  float64\n",
      " 57  rougher.state.floatbank10_c_level                   22654 non-null  float64\n",
      " 58  rougher.state.floatbank10_d_air                     22641 non-null  float64\n",
      " 59  rougher.state.floatbank10_d_level                   22649 non-null  float64\n",
      " 60  rougher.state.floatbank10_e_air                     22096 non-null  float64\n",
      " 61  rougher.state.floatbank10_e_level                   22649 non-null  float64\n",
      " 62  rougher.state.floatbank10_f_air                     22641 non-null  float64\n",
      " 63  rougher.state.floatbank10_f_level                   22642 non-null  float64\n",
      " 64  secondary_cleaner.output.tail_ag                    22616 non-null  float64\n",
      " 65  secondary_cleaner.output.tail_pb                    22600 non-null  float64\n",
      " 66  secondary_cleaner.output.tail_sol                   20501 non-null  float64\n",
      " 67  secondary_cleaner.output.tail_au                    22618 non-null  float64\n",
      " 68  secondary_cleaner.state.floatbank2_a_air            22333 non-null  float64\n",
      " 69  secondary_cleaner.state.floatbank2_a_level          22591 non-null  float64\n",
      " 70  secondary_cleaner.state.floatbank2_b_air            22538 non-null  float64\n",
      " 71  secondary_cleaner.state.floatbank2_b_level          22588 non-null  float64\n",
      " 72  secondary_cleaner.state.floatbank3_a_air            22585 non-null  float64\n",
      " 73  secondary_cleaner.state.floatbank3_a_level          22587 non-null  float64\n",
      " 74  secondary_cleaner.state.floatbank3_b_air            22592 non-null  float64\n",
      " 75  secondary_cleaner.state.floatbank3_b_level          22590 non-null  float64\n",
      " 76  secondary_cleaner.state.floatbank4_a_air            22571 non-null  float64\n",
      " 77  secondary_cleaner.state.floatbank4_a_level          22587 non-null  float64\n",
      " 78  secondary_cleaner.state.floatbank4_b_air            22608 non-null  float64\n",
      " 79  secondary_cleaner.state.floatbank4_b_level          22607 non-null  float64\n",
      " 80  secondary_cleaner.state.floatbank5_a_air            22615 non-null  float64\n",
      " 81  secondary_cleaner.state.floatbank5_a_level          22615 non-null  float64\n",
      " 82  secondary_cleaner.state.floatbank5_b_air            22615 non-null  float64\n",
      " 83  secondary_cleaner.state.floatbank5_b_level          22616 non-null  float64\n",
      " 84  secondary_cleaner.state.floatbank6_a_air            22597 non-null  float64\n",
      " 85  secondary_cleaner.state.floatbank6_a_level          22615 non-null  float64\n",
      "dtypes: float64(86)\n",
      "memory usage: 15.1+ MB\n"
     ],
     "name": "stdout"
    }
   ]
  },
  {
   "cell_type": "code",
   "metadata": {
    "colab_type": "code",
    "id": "XX6pqwRHN7Ry",
    "outputId": "52ddd647-d88e-4fb5-e34e-435648d61018",
    "scrolled": true,
    "colab": {
     "base_uri": "https://localhost:8080/",
     "height": 1000
    }
   },
   "source": [
    "d_train.info()"
   ],
   "execution_count": 0,
   "outputs": [
    {
     "output_type": "stream",
     "text": [
      "<class 'pandas.core.frame.DataFrame'>\n",
      "Index: 16860 entries, 2016-01-15 00:00:00 to 2018-08-18 10:59:59\n",
      "Data columns (total 86 columns):\n",
      " #   Column                                              Non-Null Count  Dtype  \n",
      "---  ------                                              --------------  -----  \n",
      " 0   final.output.concentrate_ag                         16788 non-null  float64\n",
      " 1   final.output.concentrate_pb                         16788 non-null  float64\n",
      " 2   final.output.concentrate_sol                        16490 non-null  float64\n",
      " 3   final.output.concentrate_au                         16789 non-null  float64\n",
      " 4   final.output.recovery                               15339 non-null  float64\n",
      " 5   final.output.tail_ag                                16794 non-null  float64\n",
      " 6   final.output.tail_pb                                16677 non-null  float64\n",
      " 7   final.output.tail_sol                               16715 non-null  float64\n",
      " 8   final.output.tail_au                                16794 non-null  float64\n",
      " 9   primary_cleaner.input.sulfate                       15553 non-null  float64\n",
      " 10  primary_cleaner.input.depressant                    15598 non-null  float64\n",
      " 11  primary_cleaner.input.feed_size                     16860 non-null  float64\n",
      " 12  primary_cleaner.input.xanthate                      15875 non-null  float64\n",
      " 13  primary_cleaner.output.concentrate_ag               16778 non-null  float64\n",
      " 14  primary_cleaner.output.concentrate_pb               16502 non-null  float64\n",
      " 15  primary_cleaner.output.concentrate_sol              16224 non-null  float64\n",
      " 16  primary_cleaner.output.concentrate_au               16778 non-null  float64\n",
      " 17  primary_cleaner.output.tail_ag                      16777 non-null  float64\n",
      " 18  primary_cleaner.output.tail_pb                      16761 non-null  float64\n",
      " 19  primary_cleaner.output.tail_sol                     16579 non-null  float64\n",
      " 20  primary_cleaner.output.tail_au                      16777 non-null  float64\n",
      " 21  primary_cleaner.state.floatbank8_a_air              16820 non-null  float64\n",
      " 22  primary_cleaner.state.floatbank8_a_level            16827 non-null  float64\n",
      " 23  primary_cleaner.state.floatbank8_b_air              16820 non-null  float64\n",
      " 24  primary_cleaner.state.floatbank8_b_level            16833 non-null  float64\n",
      " 25  primary_cleaner.state.floatbank8_c_air              16822 non-null  float64\n",
      " 26  primary_cleaner.state.floatbank8_c_level            16833 non-null  float64\n",
      " 27  primary_cleaner.state.floatbank8_d_air              16821 non-null  float64\n",
      " 28  primary_cleaner.state.floatbank8_d_level            16833 non-null  float64\n",
      " 29  rougher.calculation.sulfate_to_au_concentrate       16833 non-null  float64\n",
      " 30  rougher.calculation.floatbank10_sulfate_to_au_feed  16833 non-null  float64\n",
      " 31  rougher.calculation.floatbank11_sulfate_to_au_feed  16833 non-null  float64\n",
      " 32  rougher.calculation.au_pb_ratio                     15618 non-null  float64\n",
      " 33  rougher.input.feed_ag                               16778 non-null  float64\n",
      " 34  rougher.input.feed_pb                               16632 non-null  float64\n",
      " 35  rougher.input.feed_rate                             16347 non-null  float64\n",
      " 36  rougher.input.feed_size                             16443 non-null  float64\n",
      " 37  rougher.input.feed_sol                              16568 non-null  float64\n",
      " 38  rougher.input.feed_au                               16777 non-null  float64\n",
      " 39  rougher.input.floatbank10_sulfate                   15816 non-null  float64\n",
      " 40  rougher.input.floatbank10_xanthate                  16514 non-null  float64\n",
      " 41  rougher.input.floatbank11_sulfate                   16237 non-null  float64\n",
      " 42  rougher.input.floatbank11_xanthate                  14956 non-null  float64\n",
      " 43  rougher.output.concentrate_ag                       16778 non-null  float64\n",
      " 44  rougher.output.concentrate_pb                       16778 non-null  float64\n",
      " 45  rougher.output.concentrate_sol                      16698 non-null  float64\n",
      " 46  rougher.output.concentrate_au                       16778 non-null  float64\n",
      " 47  rougher.output.recovery                             14287 non-null  float64\n",
      " 48  rougher.output.tail_ag                              14610 non-null  float64\n",
      " 49  rougher.output.tail_pb                              16778 non-null  float64\n",
      " 50  rougher.output.tail_sol                             14611 non-null  float64\n",
      " 51  rougher.output.tail_au                              14611 non-null  float64\n",
      " 52  rougher.state.floatbank10_a_air                     16807 non-null  float64\n",
      " 53  rougher.state.floatbank10_a_level                   16807 non-null  float64\n",
      " 54  rougher.state.floatbank10_b_air                     16807 non-null  float64\n",
      " 55  rougher.state.floatbank10_b_level                   16807 non-null  float64\n",
      " 56  rougher.state.floatbank10_c_air                     16807 non-null  float64\n",
      " 57  rougher.state.floatbank10_c_level                   16814 non-null  float64\n",
      " 58  rougher.state.floatbank10_d_air                     16802 non-null  float64\n",
      " 59  rougher.state.floatbank10_d_level                   16809 non-null  float64\n",
      " 60  rougher.state.floatbank10_e_air                     16257 non-null  float64\n",
      " 61  rougher.state.floatbank10_e_level                   16809 non-null  float64\n",
      " 62  rougher.state.floatbank10_f_air                     16802 non-null  float64\n",
      " 63  rougher.state.floatbank10_f_level                   16802 non-null  float64\n",
      " 64  secondary_cleaner.output.tail_ag                    16776 non-null  float64\n",
      " 65  secondary_cleaner.output.tail_pb                    16764 non-null  float64\n",
      " 66  secondary_cleaner.output.tail_sol                   14874 non-null  float64\n",
      " 67  secondary_cleaner.output.tail_au                    16778 non-null  float64\n",
      " 68  secondary_cleaner.state.floatbank2_a_air            16497 non-null  float64\n",
      " 69  secondary_cleaner.state.floatbank2_a_level          16751 non-null  float64\n",
      " 70  secondary_cleaner.state.floatbank2_b_air            16705 non-null  float64\n",
      " 71  secondary_cleaner.state.floatbank2_b_level          16748 non-null  float64\n",
      " 72  secondary_cleaner.state.floatbank3_a_air            16763 non-null  float64\n",
      " 73  secondary_cleaner.state.floatbank3_a_level          16747 non-null  float64\n",
      " 74  secondary_cleaner.state.floatbank3_b_air            16752 non-null  float64\n",
      " 75  secondary_cleaner.state.floatbank3_b_level          16750 non-null  float64\n",
      " 76  secondary_cleaner.state.floatbank4_a_air            16731 non-null  float64\n",
      " 77  secondary_cleaner.state.floatbank4_a_level          16747 non-null  float64\n",
      " 78  secondary_cleaner.state.floatbank4_b_air            16768 non-null  float64\n",
      " 79  secondary_cleaner.state.floatbank4_b_level          16767 non-null  float64\n",
      " 80  secondary_cleaner.state.floatbank5_a_air            16775 non-null  float64\n",
      " 81  secondary_cleaner.state.floatbank5_a_level          16775 non-null  float64\n",
      " 82  secondary_cleaner.state.floatbank5_b_air            16775 non-null  float64\n",
      " 83  secondary_cleaner.state.floatbank5_b_level          16776 non-null  float64\n",
      " 84  secondary_cleaner.state.floatbank6_a_air            16757 non-null  float64\n",
      " 85  secondary_cleaner.state.floatbank6_a_level          16775 non-null  float64\n",
      "dtypes: float64(86)\n",
      "memory usage: 11.2+ MB\n"
     ],
     "name": "stdout"
    }
   ]
  },
  {
   "cell_type": "markdown",
   "metadata": {
    "colab_type": "text",
    "id": "bPx3G2g0N7R1"
   },
   "source": [
    "1.2. Проверьте, что эффективность обогащения рассчитана правильно. Вычислите её на обучающей выборке для признака rougher.output.recovery. Найдите MAE между вашими расчётами и значением признака. Опишите выводы."
   ]
  },
  {
   "cell_type": "markdown",
   "metadata": {
    "colab_type": "text",
    "id": "yVwhhk5HS2-q"
   },
   "source": [
    "Для того, чтобы рассчитать MAE необходимо избавиться от пропусков."
   ]
  },
  {
   "cell_type": "code",
   "metadata": {
    "colab_type": "code",
    "id": "uguxAsGiTE1V",
    "colab": {}
   },
   "source": [
    "d_train = d_train.dropna(subset= (['rougher.output.concentrate_au', 'rougher.input.feed_au',\n",
    "                                   'rougher.output.tail_au', 'rougher.output.recovery']))"
   ],
   "execution_count": 0,
   "outputs": []
  },
  {
   "cell_type": "code",
   "metadata": {
    "colab_type": "code",
    "id": "7lNpaC-SUjHs",
    "colab": {}
   },
   "source": [
    "C = d_train['rougher.output.concentrate_au']\n",
    "F = d_train['rougher.input.feed_au']\n",
    "T = d_train['rougher.output.tail_au']"
   ],
   "execution_count": 0,
   "outputs": []
  },
  {
   "cell_type": "code",
   "metadata": {
    "colab_type": "code",
    "id": "XnOgjYkhN7R2",
    "colab": {}
   },
   "source": [
    "d_train['rougher.output.recovery_calculate'] = (C*(F-T)) / (F[F!=0]*(C-T)) * 100"
   ],
   "execution_count": 0,
   "outputs": []
  },
  {
   "cell_type": "markdown",
   "metadata": {
    "colab_type": "text",
    "id": "ANoO6D5_VN9n"
   },
   "source": [
    "Для того, чтобы исключить деление на 0, в знаменателе берем только те значения доли золота в исходном сырье (F), чтобы они не были равны нулю."
   ]
  },
  {
   "cell_type": "code",
   "metadata": {
    "colab_type": "code",
    "id": "57s8YVXsN7R6",
    "outputId": "d9445381-77c9-4492-8145-43cce55563ef",
    "colab": {
     "base_uri": "https://localhost:8080/",
     "height": 238
    }
   },
   "source": [
    "d_train['rougher.output.recovery_calculate']"
   ],
   "execution_count": 0,
   "outputs": [
    {
     "output_type": "execute_result",
     "data": {
      "text/plain": [
       "date\n",
       "2016-01-15 00:00:00    87.107763\n",
       "2016-01-15 01:00:00    86.843261\n",
       "2016-01-15 02:00:00    86.842308\n",
       "2016-01-15 03:00:00    87.226430\n",
       "2016-01-15 04:00:00    86.688794\n",
       "                         ...    \n",
       "2018-08-18 06:59:59    89.574376\n",
       "2018-08-18 07:59:59    87.724007\n",
       "2018-08-18 08:59:59    88.890579\n",
       "2018-08-18 09:59:59    89.858126\n",
       "2018-08-18 10:59:59    89.514960\n",
       "Name: rougher.output.recovery_calculate, Length: 14287, dtype: float64"
      ]
     },
     "metadata": {
      "tags": []
     },
     "execution_count": 306
    }
   ]
  },
  {
   "cell_type": "code",
   "metadata": {
    "colab_type": "code",
    "id": "QNFmC_E9N7R_",
    "outputId": "7dd24e26-aba2-4efc-c9a5-b584abfffc23",
    "colab": {
     "base_uri": "https://localhost:8080/",
     "height": 238
    }
   },
   "source": [
    "d_train['rougher.output.recovery']"
   ],
   "execution_count": 0,
   "outputs": [
    {
     "output_type": "execute_result",
     "data": {
      "text/plain": [
       "date\n",
       "2016-01-15 00:00:00    87.107763\n",
       "2016-01-15 01:00:00    86.843261\n",
       "2016-01-15 02:00:00    86.842308\n",
       "2016-01-15 03:00:00    87.226430\n",
       "2016-01-15 04:00:00    86.688794\n",
       "                         ...    \n",
       "2018-08-18 06:59:59    89.574376\n",
       "2018-08-18 07:59:59    87.724007\n",
       "2018-08-18 08:59:59    88.890579\n",
       "2018-08-18 09:59:59    89.858126\n",
       "2018-08-18 10:59:59    89.514960\n",
       "Name: rougher.output.recovery, Length: 14287, dtype: float64"
      ]
     },
     "metadata": {
      "tags": []
     },
     "execution_count": 307
    }
   ]
  },
  {
   "cell_type": "markdown",
   "metadata": {
    "colab_type": "text",
    "id": "1NZchEvaN7SD"
   },
   "source": [
    "Рассчитаем МАЕ."
   ]
  },
  {
   "cell_type": "code",
   "metadata": {
    "colab_type": "code",
    "id": "whgLZ7tlN7SW",
    "colab": {}
   },
   "source": [
    "mae = mean_absolute_error(d_train['rougher.output.recovery'], d_train['rougher.output.recovery_calculate'])"
   ],
   "execution_count": 0,
   "outputs": []
  },
  {
   "cell_type": "code",
   "metadata": {
    "colab_type": "code",
    "id": "e4EXaQDpN7SZ",
    "outputId": "64931163-2ddd-40c3-cc7c-d765a069b21e",
    "colab": {
     "base_uri": "https://localhost:8080/",
     "height": 34
    }
   },
   "source": [
    "mae"
   ],
   "execution_count": 0,
   "outputs": [
    {
     "output_type": "execute_result",
     "data": {
      "text/plain": [
       "9.444891926100695e-15"
      ]
     },
     "metadata": {
      "tags": []
     },
     "execution_count": 309
    }
   ]
  },
  {
   "cell_type": "markdown",
   "metadata": {
    "colab_type": "text",
    "id": "IjrdV2OIN7Sc"
   },
   "source": [
    "Средняя абсолютная ошибка, можно сказать, равна 0. Можно сделать вывод, что эффективность обогащения рассчитана правильно"
   ]
  },
  {
   "cell_type": "markdown",
   "metadata": {
    "colab_type": "text",
    "id": "qmMQvLzwN7Sc"
   },
   "source": [
    "1.3. Проанализируйте признаки, недоступные в тестовой выборке. Что это за параметры? К какому типу относятся?"
   ]
  },
  {
   "cell_type": "code",
   "metadata": {
    "colab_type": "code",
    "id": "wMrU0X0VN7Sd",
    "outputId": "6edf7924-8d6c-45f9-da74-2abc68c473b2",
    "scrolled": true,
    "colab": {
     "base_uri": "https://localhost:8080/",
     "height": 1000
    }
   },
   "source": [
    "d_train.info()"
   ],
   "execution_count": 0,
   "outputs": [
    {
     "output_type": "stream",
     "text": [
      "<class 'pandas.core.frame.DataFrame'>\n",
      "Index: 14287 entries, 2016-01-15 00:00:00 to 2018-08-18 10:59:59\n",
      "Data columns (total 87 columns):\n",
      " #   Column                                              Non-Null Count  Dtype  \n",
      "---  ------                                              --------------  -----  \n",
      " 0   final.output.concentrate_ag                         14282 non-null  float64\n",
      " 1   final.output.concentrate_pb                         14282 non-null  float64\n",
      " 2   final.output.concentrate_sol                        14055 non-null  float64\n",
      " 3   final.output.concentrate_au                         14283 non-null  float64\n",
      " 4   final.output.recovery                               14149 non-null  float64\n",
      " 5   final.output.tail_ag                                14287 non-null  float64\n",
      " 6   final.output.tail_pb                                14173 non-null  float64\n",
      " 7   final.output.tail_sol                               14279 non-null  float64\n",
      " 8   final.output.tail_au                                14287 non-null  float64\n",
      " 9   primary_cleaner.input.sulfate                       14261 non-null  float64\n",
      " 10  primary_cleaner.input.depressant                    14249 non-null  float64\n",
      " 11  primary_cleaner.input.feed_size                     14287 non-null  float64\n",
      " 12  primary_cleaner.input.xanthate                      14182 non-null  float64\n",
      " 13  primary_cleaner.output.concentrate_ag               14287 non-null  float64\n",
      " 14  primary_cleaner.output.concentrate_pb               14164 non-null  float64\n",
      " 15  primary_cleaner.output.concentrate_sol              13949 non-null  float64\n",
      " 16  primary_cleaner.output.concentrate_au               14287 non-null  float64\n",
      " 17  primary_cleaner.output.tail_ag                      14286 non-null  float64\n",
      " 18  primary_cleaner.output.tail_pb                      14271 non-null  float64\n",
      " 19  primary_cleaner.output.tail_sol                     14208 non-null  float64\n",
      " 20  primary_cleaner.output.tail_au                      14287 non-null  float64\n",
      " 21  primary_cleaner.state.floatbank8_a_air              14283 non-null  float64\n",
      " 22  primary_cleaner.state.floatbank8_a_level            14286 non-null  float64\n",
      " 23  primary_cleaner.state.floatbank8_b_air              14283 non-null  float64\n",
      " 24  primary_cleaner.state.floatbank8_b_level            14286 non-null  float64\n",
      " 25  primary_cleaner.state.floatbank8_c_air              14285 non-null  float64\n",
      " 26  primary_cleaner.state.floatbank8_c_level            14286 non-null  float64\n",
      " 27  primary_cleaner.state.floatbank8_d_air              14284 non-null  float64\n",
      " 28  primary_cleaner.state.floatbank8_d_level            14286 non-null  float64\n",
      " 29  rougher.calculation.sulfate_to_au_concentrate       14286 non-null  float64\n",
      " 30  rougher.calculation.floatbank10_sulfate_to_au_feed  14286 non-null  float64\n",
      " 31  rougher.calculation.floatbank11_sulfate_to_au_feed  14286 non-null  float64\n",
      " 32  rougher.calculation.au_pb_ratio                     14287 non-null  float64\n",
      " 33  rougher.input.feed_ag                               14287 non-null  float64\n",
      " 34  rougher.input.feed_pb                               14164 non-null  float64\n",
      " 35  rougher.input.feed_rate                             14274 non-null  float64\n",
      " 36  rougher.input.feed_size                             14138 non-null  float64\n",
      " 37  rougher.input.feed_sol                              14191 non-null  float64\n",
      " 38  rougher.input.feed_au                               14287 non-null  float64\n",
      " 39  rougher.input.floatbank10_sulfate                   14256 non-null  float64\n",
      " 40  rougher.input.floatbank10_xanthate                  14278 non-null  float64\n",
      " 41  rougher.input.floatbank11_sulfate                   14249 non-null  float64\n",
      " 42  rougher.input.floatbank11_xanthate                  13853 non-null  float64\n",
      " 43  rougher.output.concentrate_ag                       14287 non-null  float64\n",
      " 44  rougher.output.concentrate_pb                       14287 non-null  float64\n",
      " 45  rougher.output.concentrate_sol                      14261 non-null  float64\n",
      " 46  rougher.output.concentrate_au                       14287 non-null  float64\n",
      " 47  rougher.output.recovery                             14287 non-null  float64\n",
      " 48  rougher.output.tail_ag                              14286 non-null  float64\n",
      " 49  rougher.output.tail_pb                              14287 non-null  float64\n",
      " 50  rougher.output.tail_sol                             14287 non-null  float64\n",
      " 51  rougher.output.tail_au                              14287 non-null  float64\n",
      " 52  rougher.state.floatbank10_a_air                     14286 non-null  float64\n",
      " 53  rougher.state.floatbank10_a_level                   14286 non-null  float64\n",
      " 54  rougher.state.floatbank10_b_air                     14286 non-null  float64\n",
      " 55  rougher.state.floatbank10_b_level                   14286 non-null  float64\n",
      " 56  rougher.state.floatbank10_c_air                     14286 non-null  float64\n",
      " 57  rougher.state.floatbank10_c_level                   14286 non-null  float64\n",
      " 58  rougher.state.floatbank10_d_air                     14287 non-null  float64\n",
      " 59  rougher.state.floatbank10_d_level                   14287 non-null  float64\n",
      " 60  rougher.state.floatbank10_e_air                     13849 non-null  float64\n",
      " 61  rougher.state.floatbank10_e_level                   14287 non-null  float64\n",
      " 62  rougher.state.floatbank10_f_air                     14287 non-null  float64\n",
      " 63  rougher.state.floatbank10_f_level                   14287 non-null  float64\n",
      " 64  secondary_cleaner.output.tail_ag                    14285 non-null  float64\n",
      " 65  secondary_cleaner.output.tail_pb                    14277 non-null  float64\n",
      " 66  secondary_cleaner.output.tail_sol                   12633 non-null  float64\n",
      " 67  secondary_cleaner.output.tail_au                    14287 non-null  float64\n",
      " 68  secondary_cleaner.state.floatbank2_a_air            14068 non-null  float64\n",
      " 69  secondary_cleaner.state.floatbank2_a_level          14286 non-null  float64\n",
      " 70  secondary_cleaner.state.floatbank2_b_air            14264 non-null  float64\n",
      " 71  secondary_cleaner.state.floatbank2_b_level          14286 non-null  float64\n",
      " 72  secondary_cleaner.state.floatbank3_a_air            14283 non-null  float64\n",
      " 73  secondary_cleaner.state.floatbank3_a_level          14286 non-null  float64\n",
      " 74  secondary_cleaner.state.floatbank3_b_air            14286 non-null  float64\n",
      " 75  secondary_cleaner.state.floatbank3_b_level          14286 non-null  float64\n",
      " 76  secondary_cleaner.state.floatbank4_a_air            14281 non-null  float64\n",
      " 77  secondary_cleaner.state.floatbank4_a_level          14286 non-null  float64\n",
      " 78  secondary_cleaner.state.floatbank4_b_air            14286 non-null  float64\n",
      " 79  secondary_cleaner.state.floatbank4_b_level          14286 non-null  float64\n",
      " 80  secondary_cleaner.state.floatbank5_a_air            14286 non-null  float64\n",
      " 81  secondary_cleaner.state.floatbank5_a_level          14286 non-null  float64\n",
      " 82  secondary_cleaner.state.floatbank5_b_air            14286 non-null  float64\n",
      " 83  secondary_cleaner.state.floatbank5_b_level          14286 non-null  float64\n",
      " 84  secondary_cleaner.state.floatbank6_a_air            14284 non-null  float64\n",
      " 85  secondary_cleaner.state.floatbank6_a_level          14286 non-null  float64\n",
      " 86  rougher.output.recovery_calculate                   14287 non-null  float64\n",
      "dtypes: float64(87)\n",
      "memory usage: 10.2+ MB\n"
     ],
     "name": "stdout"
    }
   ]
  },
  {
   "cell_type": "code",
   "metadata": {
    "colab_type": "code",
    "id": "WxuJ_-yQN7Sf",
    "outputId": "19354c7d-dbad-494f-bbd3-eeac68ea82c9",
    "scrolled": true,
    "colab": {
     "base_uri": "https://localhost:8080/",
     "height": 1000
    }
   },
   "source": [
    "d_test.info()"
   ],
   "execution_count": 0,
   "outputs": [
    {
     "output_type": "stream",
     "text": [
      "<class 'pandas.core.frame.DataFrame'>\n",
      "Index: 5856 entries, 2016-09-01 00:59:59 to 2017-12-31 23:59:59\n",
      "Data columns (total 52 columns):\n",
      " #   Column                                      Non-Null Count  Dtype  \n",
      "---  ------                                      --------------  -----  \n",
      " 0   primary_cleaner.input.sulfate               5554 non-null   float64\n",
      " 1   primary_cleaner.input.depressant            5572 non-null   float64\n",
      " 2   primary_cleaner.input.feed_size             5856 non-null   float64\n",
      " 3   primary_cleaner.input.xanthate              5690 non-null   float64\n",
      " 4   primary_cleaner.state.floatbank8_a_air      5840 non-null   float64\n",
      " 5   primary_cleaner.state.floatbank8_a_level    5840 non-null   float64\n",
      " 6   primary_cleaner.state.floatbank8_b_air      5840 non-null   float64\n",
      " 7   primary_cleaner.state.floatbank8_b_level    5840 non-null   float64\n",
      " 8   primary_cleaner.state.floatbank8_c_air      5840 non-null   float64\n",
      " 9   primary_cleaner.state.floatbank8_c_level    5840 non-null   float64\n",
      " 10  primary_cleaner.state.floatbank8_d_air      5840 non-null   float64\n",
      " 11  primary_cleaner.state.floatbank8_d_level    5840 non-null   float64\n",
      " 12  rougher.input.feed_ag                       5840 non-null   float64\n",
      " 13  rougher.input.feed_pb                       5840 non-null   float64\n",
      " 14  rougher.input.feed_rate                     5816 non-null   float64\n",
      " 15  rougher.input.feed_size                     5834 non-null   float64\n",
      " 16  rougher.input.feed_sol                      5789 non-null   float64\n",
      " 17  rougher.input.feed_au                       5840 non-null   float64\n",
      " 18  rougher.input.floatbank10_sulfate           5599 non-null   float64\n",
      " 19  rougher.input.floatbank10_xanthate          5733 non-null   float64\n",
      " 20  rougher.input.floatbank11_sulfate           5801 non-null   float64\n",
      " 21  rougher.input.floatbank11_xanthate          5503 non-null   float64\n",
      " 22  rougher.state.floatbank10_a_air             5839 non-null   float64\n",
      " 23  rougher.state.floatbank10_a_level           5840 non-null   float64\n",
      " 24  rougher.state.floatbank10_b_air             5839 non-null   float64\n",
      " 25  rougher.state.floatbank10_b_level           5840 non-null   float64\n",
      " 26  rougher.state.floatbank10_c_air             5839 non-null   float64\n",
      " 27  rougher.state.floatbank10_c_level           5840 non-null   float64\n",
      " 28  rougher.state.floatbank10_d_air             5839 non-null   float64\n",
      " 29  rougher.state.floatbank10_d_level           5840 non-null   float64\n",
      " 30  rougher.state.floatbank10_e_air             5839 non-null   float64\n",
      " 31  rougher.state.floatbank10_e_level           5840 non-null   float64\n",
      " 32  rougher.state.floatbank10_f_air             5839 non-null   float64\n",
      " 33  rougher.state.floatbank10_f_level           5840 non-null   float64\n",
      " 34  secondary_cleaner.state.floatbank2_a_air    5836 non-null   float64\n",
      " 35  secondary_cleaner.state.floatbank2_a_level  5840 non-null   float64\n",
      " 36  secondary_cleaner.state.floatbank2_b_air    5833 non-null   float64\n",
      " 37  secondary_cleaner.state.floatbank2_b_level  5840 non-null   float64\n",
      " 38  secondary_cleaner.state.floatbank3_a_air    5822 non-null   float64\n",
      " 39  secondary_cleaner.state.floatbank3_a_level  5840 non-null   float64\n",
      " 40  secondary_cleaner.state.floatbank3_b_air    5840 non-null   float64\n",
      " 41  secondary_cleaner.state.floatbank3_b_level  5840 non-null   float64\n",
      " 42  secondary_cleaner.state.floatbank4_a_air    5840 non-null   float64\n",
      " 43  secondary_cleaner.state.floatbank4_a_level  5840 non-null   float64\n",
      " 44  secondary_cleaner.state.floatbank4_b_air    5840 non-null   float64\n",
      " 45  secondary_cleaner.state.floatbank4_b_level  5840 non-null   float64\n",
      " 46  secondary_cleaner.state.floatbank5_a_air    5840 non-null   float64\n",
      " 47  secondary_cleaner.state.floatbank5_a_level  5840 non-null   float64\n",
      " 48  secondary_cleaner.state.floatbank5_b_air    5840 non-null   float64\n",
      " 49  secondary_cleaner.state.floatbank5_b_level  5840 non-null   float64\n",
      " 50  secondary_cleaner.state.floatbank6_a_air    5840 non-null   float64\n",
      " 51  secondary_cleaner.state.floatbank6_a_level  5840 non-null   float64\n",
      "dtypes: float64(52)\n",
      "memory usage: 2.4+ MB\n"
     ],
     "name": "stdout"
    }
   ]
  },
  {
   "cell_type": "markdown",
   "metadata": {
    "colab_type": "text",
    "id": "hTuZtY2wN7Si"
   },
   "source": [
    "Тестовая выборка не содержит данных о final.output, primary_cleaner.output, rougher.output, secondary_cleaner.output, rougher.calculation, т.е. все данные, которые мы получаем на выходе, а также, которые можно посчитать. "
   ]
  },
  {
   "cell_type": "markdown",
   "metadata": {
    "colab_type": "text",
    "id": "Iq86FsalN7Si"
   },
   "source": [
    "1.4. Проведите предобработку данных."
   ]
  },
  {
   "cell_type": "markdown",
   "metadata": {
    "colab_type": "text",
    "id": "pldtivVrN7Sj"
   },
   "source": [
    "Поскольку пропуски в целевых данных обусловоены последовательностью технологического процесса, мы не можем знать наперед, какие данные мы получим в итоге, поэтому заполнять пропуски агрегированными данными некорректно. Для обучения модели в данных не должно быть пропусков. Заполним пропуски данными из целого сета, оставшиеся пропуски дропнем. Также, в тестовой выборке отсутствуют целевые признаки, мы можем взять их из целого сета."
   ]
  },
  {
   "cell_type": "code",
   "metadata": {
    "colab_type": "code",
    "id": "_8tsQr7PXw-E",
    "colab": {}
   },
   "source": [
    "d_test = d_test.merge(d_all[['final.output.recovery', 'rougher.output.recovery']], on='date', how='left')"
   ],
   "execution_count": 0,
   "outputs": []
  },
  {
   "cell_type": "code",
   "metadata": {
    "colab_type": "code",
    "id": "c6sBcnhqN7Sm",
    "outputId": "c5b39114-41fc-4910-b48b-b2ad8104af30",
    "colab": {
     "base_uri": "https://localhost:8080/",
     "height": 51
    }
   },
   "source": [
    "print(d_train['final.output.recovery'].isna().sum())\n",
    "print(d_train['rougher.output.recovery'].isna().sum())"
   ],
   "execution_count": 0,
   "outputs": [
    {
     "output_type": "stream",
     "text": [
      "138\n",
      "0\n"
     ],
     "name": "stdout"
    }
   ]
  },
  {
   "cell_type": "code",
   "metadata": {
    "colab_type": "code",
    "id": "S2vqKubFbFJV",
    "outputId": "0685f900-4df5-4d62-8a70-718bb99e4fa2",
    "colab": {
     "base_uri": "https://localhost:8080/",
     "height": 34
    }
   },
   "source": [
    "d_train = d_train.dropna(subset=['final.output.recovery'])\n",
    "print(d_train['final.output.recovery'].isna().sum())"
   ],
   "execution_count": 0,
   "outputs": [
    {
     "output_type": "stream",
     "text": [
      "0\n"
     ],
     "name": "stdout"
    }
   ]
  },
  {
   "cell_type": "code",
   "metadata": {
    "colab_type": "code",
    "id": "EZDKMRIYN7So",
    "outputId": "4ee043d6-6cff-437e-dfa8-68f762576ce5",
    "colab": {
     "base_uri": "https://localhost:8080/",
     "height": 51
    }
   },
   "source": [
    "print(d_test['final.output.recovery'].isna().sum())\n",
    "print(d_test['rougher.output.recovery'].isna().sum())"
   ],
   "execution_count": 0,
   "outputs": [
    {
     "output_type": "stream",
     "text": [
      "442\n",
      "546\n"
     ],
     "name": "stdout"
    }
   ]
  },
  {
   "cell_type": "code",
   "metadata": {
    "colab_type": "code",
    "id": "BVzWVAUGbsXQ",
    "outputId": "91e9e752-ee60-40f4-f388-766de5261884",
    "colab": {
     "base_uri": "https://localhost:8080/",
     "height": 51
    }
   },
   "source": [
    "d_test = d_test.dropna(subset=['final.output.recovery'])\n",
    "d_test = d_test.dropna(subset=['rougher.output.recovery'])\n",
    "print(d_test['final.output.recovery'].isna().sum())\n",
    "print(d_test['rougher.output.recovery'].isna().sum())"
   ],
   "execution_count": 0,
   "outputs": [
    {
     "output_type": "stream",
     "text": [
      "0\n",
      "0\n"
     ],
     "name": "stdout"
    }
   ]
  },
  {
   "cell_type": "markdown",
   "metadata": {
    "colab_type": "text",
    "id": "D_e003eXcLkF"
   },
   "source": [
    "Целевые параметры предобработаны.  \n",
    "Оставшиеся пропуски можно заполнить методом ffill"
   ]
  },
  {
   "cell_type": "code",
   "metadata": {
    "colab_type": "code",
    "id": "v_Fyzpv7b9eO",
    "colab": {}
   },
   "source": [
    "d_test = d_test.fillna(method='ffill')\n",
    "d_train = d_train.fillna(method='ffill')"
   ],
   "execution_count": 0,
   "outputs": []
  },
  {
   "cell_type": "code",
   "metadata": {
    "colab_type": "code",
    "id": "eVxPQK1yc94b",
    "outputId": "f90dfe5f-687e-43cc-b6f5-c0d82b1e05ee",
    "colab": {
     "base_uri": "https://localhost:8080/",
     "height": 952
    }
   },
   "source": [
    "d_test.isna().sum()"
   ],
   "execution_count": 0,
   "outputs": [
    {
     "output_type": "execute_result",
     "data": {
      "text/plain": [
       "primary_cleaner.input.sulfate                 0\n",
       "primary_cleaner.input.depressant              0\n",
       "primary_cleaner.input.feed_size               0\n",
       "primary_cleaner.input.xanthate                0\n",
       "primary_cleaner.state.floatbank8_a_air        0\n",
       "primary_cleaner.state.floatbank8_a_level      0\n",
       "primary_cleaner.state.floatbank8_b_air        0\n",
       "primary_cleaner.state.floatbank8_b_level      0\n",
       "primary_cleaner.state.floatbank8_c_air        0\n",
       "primary_cleaner.state.floatbank8_c_level      0\n",
       "primary_cleaner.state.floatbank8_d_air        0\n",
       "primary_cleaner.state.floatbank8_d_level      0\n",
       "rougher.input.feed_ag                         0\n",
       "rougher.input.feed_pb                         0\n",
       "rougher.input.feed_rate                       0\n",
       "rougher.input.feed_size                       0\n",
       "rougher.input.feed_sol                        0\n",
       "rougher.input.feed_au                         0\n",
       "rougher.input.floatbank10_sulfate             0\n",
       "rougher.input.floatbank10_xanthate            0\n",
       "rougher.input.floatbank11_sulfate             0\n",
       "rougher.input.floatbank11_xanthate            0\n",
       "rougher.state.floatbank10_a_air               0\n",
       "rougher.state.floatbank10_a_level             0\n",
       "rougher.state.floatbank10_b_air               0\n",
       "rougher.state.floatbank10_b_level             0\n",
       "rougher.state.floatbank10_c_air               0\n",
       "rougher.state.floatbank10_c_level             0\n",
       "rougher.state.floatbank10_d_air               0\n",
       "rougher.state.floatbank10_d_level             0\n",
       "rougher.state.floatbank10_e_air               0\n",
       "rougher.state.floatbank10_e_level             0\n",
       "rougher.state.floatbank10_f_air               0\n",
       "rougher.state.floatbank10_f_level             0\n",
       "secondary_cleaner.state.floatbank2_a_air      0\n",
       "secondary_cleaner.state.floatbank2_a_level    0\n",
       "secondary_cleaner.state.floatbank2_b_air      0\n",
       "secondary_cleaner.state.floatbank2_b_level    0\n",
       "secondary_cleaner.state.floatbank3_a_air      0\n",
       "secondary_cleaner.state.floatbank3_a_level    0\n",
       "secondary_cleaner.state.floatbank3_b_air      0\n",
       "secondary_cleaner.state.floatbank3_b_level    0\n",
       "secondary_cleaner.state.floatbank4_a_air      0\n",
       "secondary_cleaner.state.floatbank4_a_level    0\n",
       "secondary_cleaner.state.floatbank4_b_air      0\n",
       "secondary_cleaner.state.floatbank4_b_level    0\n",
       "secondary_cleaner.state.floatbank5_a_air      0\n",
       "secondary_cleaner.state.floatbank5_a_level    0\n",
       "secondary_cleaner.state.floatbank5_b_air      0\n",
       "secondary_cleaner.state.floatbank5_b_level    0\n",
       "secondary_cleaner.state.floatbank6_a_air      0\n",
       "secondary_cleaner.state.floatbank6_a_level    0\n",
       "final.output.recovery                         0\n",
       "rougher.output.recovery                       0\n",
       "dtype: int64"
      ]
     },
     "metadata": {
      "tags": []
     },
     "execution_count": 318
    }
   ]
  },
  {
   "cell_type": "code",
   "metadata": {
    "colab_type": "code",
    "id": "3smk02I7dEDJ",
    "outputId": "ac741439-7b0a-4f97-be9a-f6a46cdc8135",
    "colab": {
     "base_uri": "https://localhost:8080/",
     "height": 221
    }
   },
   "source": [
    "d_train.isna().sum()"
   ],
   "execution_count": 0,
   "outputs": [
    {
     "output_type": "execute_result",
     "data": {
      "text/plain": [
       "final.output.concentrate_ag                   0\n",
       "final.output.concentrate_pb                   0\n",
       "final.output.concentrate_sol                  0\n",
       "final.output.concentrate_au                   0\n",
       "final.output.recovery                         0\n",
       "                                             ..\n",
       "secondary_cleaner.state.floatbank5_b_air      0\n",
       "secondary_cleaner.state.floatbank5_b_level    0\n",
       "secondary_cleaner.state.floatbank6_a_air      0\n",
       "secondary_cleaner.state.floatbank6_a_level    0\n",
       "rougher.output.recovery_calculate             0\n",
       "Length: 87, dtype: int64"
      ]
     },
     "metadata": {
      "tags": []
     },
     "execution_count": 319
    }
   ]
  },
  {
   "cell_type": "markdown",
   "metadata": {
    "colab_type": "text",
    "id": "cSpr6yPXdMvg"
   },
   "source": [
    "Все пропуски заполнены или удалены.  \n",
    "Проверим данные на наличие дубликатов."
   ]
  },
  {
   "cell_type": "code",
   "metadata": {
    "colab_type": "code",
    "id": "t9olO261dL6Y",
    "outputId": "da46a382-469c-4d85-fbce-55713a8c9991",
    "colab": {
     "base_uri": "https://localhost:8080/",
     "height": 51
    }
   },
   "source": [
    "print(d_train.duplicated().sum())\n",
    "print(d_test.duplicated().sum())"
   ],
   "execution_count": 0,
   "outputs": [
    {
     "output_type": "stream",
     "text": [
      "0\n",
      "0\n"
     ],
     "name": "stdout"
    }
   ]
  },
  {
   "cell_type": "code",
   "metadata": {
    "colab_type": "code",
    "id": "yznIpI_edU_l",
    "outputId": "e48026c7-0e05-4d26-e5fe-efb52171bd24",
    "colab": {
     "base_uri": "https://localhost:8080/",
     "height": 51
    }
   },
   "source": [
    "print(d_train.shape)\n",
    "print(d_test.shape)"
   ],
   "execution_count": 0,
   "outputs": [
    {
     "output_type": "stream",
     "text": [
      "(14149, 87)\n",
      "(5290, 54)\n"
     ],
     "name": "stdout"
    }
   ]
  },
  {
   "cell_type": "markdown",
   "metadata": {
    "colab_type": "text",
    "id": "4E3MaX8gN7S7"
   },
   "source": [
    "# 2. Анализ данных"
   ]
  },
  {
   "cell_type": "markdown",
   "metadata": {
    "colab_type": "text",
    "id": "JTWjwMvyN7S7"
   },
   "source": [
    "2.1. Посмотрите, как меняется концентрация металлов (Au, Ag, Pb) на различных этапах очистки. Опишите выводы.  \n",
    "Исследовательский анализ данных нагляднее проводить на целом сете."
   ]
  },
  {
   "cell_type": "code",
   "metadata": {
    "colab_type": "code",
    "id": "UejKqefrN7S8",
    "colab": {}
   },
   "source": [
    "rougher_output_concentrate = d_all[['rougher.output.concentrate_ag', 'rougher.output.concentrate_pb',\n",
    "                                    'rougher.output.concentrate_au']]"
   ],
   "execution_count": 0,
   "outputs": []
  },
  {
   "cell_type": "code",
   "metadata": {
    "colab_type": "code",
    "id": "pKq0DpH2N7S-",
    "colab": {}
   },
   "source": [
    "primary_cleaner_output_concentrate = d_all[['primary_cleaner.output.concentrate_ag',\n",
    "                                            'primary_cleaner.output.concentrate_pb',\n",
    "                                           'primary_cleaner.output.concentrate_au']]"
   ],
   "execution_count": 0,
   "outputs": []
  },
  {
   "cell_type": "code",
   "metadata": {
    "colab_type": "code",
    "id": "nKMGpXVXN7TB",
    "colab": {}
   },
   "source": [
    "final_otput_concentrate = d_all[['final.output.concentrate_ag', 'final.output.concentrate_pb',\n",
    "                                'final.output.concentrate_au']]"
   ],
   "execution_count": 0,
   "outputs": []
  },
  {
   "cell_type": "code",
   "metadata": {
    "colab_type": "code",
    "id": "n2hmSXKEN7TD",
    "outputId": "0b46a477-3196-4886-8392-386093fb2da6",
    "colab": {
     "base_uri": "https://localhost:8080/",
     "height": 444
    }
   },
   "source": [
    "plt.figure(figsize=(12,7))\n",
    "ax = sns.boxplot(data=rougher_output_concentrate, orient=\"h\", palette=\"Set2\", width=0.5)\\\n",
    "    .set_title('Концентрация металлов после флотации')"
   ],
   "execution_count": 0,
   "outputs": [
    {
     "output_type": "display_data",
     "data": {
      "image/png": "[encoded data removed]",
      "text/plain": [
       "<Figure size 864x504 with 1 Axes>"
      ]
     },
     "metadata": {
      "tags": [],
      "needs_background": "light"
     }
    }
   ]
  },
  {
   "cell_type": "code",
   "metadata": {
    "colab_type": "code",
    "id": "blQr8hdwN7TG",
    "outputId": "e644f2b2-a08b-4d5c-e0a6-e413e779b6a7",
    "colab": {
     "base_uri": "https://localhost:8080/",
     "height": 444
    }
   },
   "source": [
    "plt.figure(figsize=(12,7))\n",
    "ax = sns.boxplot(data=primary_cleaner_output_concentrate, orient=\"h\", palette=\"Set2\", width=0.5)\\\n",
    "    .set_title('Концентрация металлов после первичной очистки')"
   ],
   "execution_count": 0,
   "outputs": [
    {
     "output_type": "display_data",
     "data": {
      "image/png": "[encoded data removed]",
      "text/plain": [
       "<Figure size 864x504 with 1 Axes>"
      ]
     },
     "metadata": {
      "tags": [],
      "needs_background": "light"
     }
    }
   ]
  },
  {
   "cell_type": "code",
   "metadata": {
    "colab_type": "code",
    "id": "RYB2K_HsN7TJ",
    "outputId": "852ddcd7-6399-4889-eee0-015420eb4e81",
    "colab": {
     "base_uri": "https://localhost:8080/",
     "height": 444
    }
   },
   "source": [
    "plt.figure(figsize=(12,7))\n",
    "ax = sns.boxplot(data=final_otput_concentrate, orient=\"h\", palette=\"Set2\", width=0.5).\\\n",
    "    set_title('Концентрация металлов после финальной очистки')"
   ],
   "execution_count": 0,
   "outputs": [
    {
     "output_type": "display_data",
     "data": {
      "image/png": "[encoded data removed]",
      "text/plain": [
       "<Figure size 864x504 with 1 Axes>"
      ]
     },
     "metadata": {
      "tags": [],
      "needs_background": "light"
     }
    }
   ]
  },
  {
   "cell_type": "markdown",
   "metadata": {
    "colab_type": "text",
    "id": "BskI0Ow6N7TM"
   },
   "source": [
    "Вывод: после процедуры флотации можно отметить невысокую концентрацию серебра и свинца, и высокую концентрацию золота. После первичной очистки концентрация свинца и серебра немного увеличивается, а золота снижается, на финальной стадии все показатели возвращаются к таковым после флотации.  \n",
    "Таким образом, концентрация золота после каждого этапа очистки увеличивется."
   ]
  },
  {
   "cell_type": "markdown",
   "metadata": {
    "colab_type": "text",
    "id": "zGJ02-dVN7TM"
   },
   "source": [
    "2.2. Сравните распределения размеров гранул сырья на обучающей и тестовой выборках. Если распределения сильно отличаются друг от друга, оценка модели будет неправильной."
   ]
  },
  {
   "cell_type": "code",
   "metadata": {
    "colab_type": "code",
    "id": "uAL_O-5XN7TN",
    "outputId": "ba601e98-a140-42c5-999c-6856ba71cb25",
    "colab": {
     "base_uri": "https://localhost:8080/",
     "height": 428
    }
   },
   "source": [
    "plt.figure(figsize=(12,7))\n",
    "plt.hist([d_train['rougher.input.feed_size'], d_test['rougher.input.feed_size']], bins = 100,\n",
    "         label=['Обучающая выборка', 'Тестовая выборка'], range=(0,150))\n",
    "plt.legend()\n",
    "plt.show()"
   ],
   "execution_count": 0,
   "outputs": [
    {
     "output_type": "display_data",
     "data": {
      "image/png": "[encoded data removed]",
      "text/plain": [
       "<Figure size 864x504 with 1 Axes>"
      ]
     },
     "metadata": {
      "tags": [],
      "needs_background": "light"
     }
    }
   ]
  },
  {
   "cell_type": "markdown",
   "metadata": {
    "colab_type": "text",
    "id": "bFlKDGXZN7TP"
   },
   "source": [
    "Вывод: распределение размеров гранул сырья на обучающей и тестовой выборке немного различается."
   ]
  },
  {
   "cell_type": "markdown",
   "metadata": {
    "id": "nXX3krm6EVJk",
    "colab_type": "text"
   },
   "source": [
    "<font color='blue'><u><b>КОММЕНТАРИЙ РЕВЬЮЕРА</b></u></font><br />\n",
    "<font color='green'>\n",
    "или по-другому: отличаются немного, т.е. можно работать дальше"
   ]
  },
  {
   "cell_type": "markdown",
   "metadata": {
    "colab_type": "text",
    "id": "2v_kdX7fN7TQ"
   },
   "source": [
    "2.3. Исследуйте суммарную концентрацию всех веществ на разных стадиях: в сырье, в черновом и финальном концентратах. Заметили аномальные значения в суммарном распределении или нет? Если они есть, стоит ли их удалять из обеих выборок? Опишите выводы и удалите аномалии."
   ]
  },
  {
   "cell_type": "code",
   "metadata": {
    "colab_type": "code",
    "id": "JODShWP-N7TR",
    "colab": {}
   },
   "source": [
    "d_train['rougher.output.concentrate_sum'] = (\n",
    "    d_train['rougher.output.concentrate_ag']\n",
    "    + d_train['rougher.output.concentrate_pb']\n",
    "    + d_train['rougher.output.concentrate_au']\n",
    "    + d_train['rougher.output.concentrate_sol']\n",
    ")"
   ],
   "execution_count": 0,
   "outputs": []
  },
  {
   "cell_type": "code",
   "metadata": {
    "colab_type": "code",
    "id": "NZOBe45YN7TT",
    "colab": {}
   },
   "source": [
    "d_train['primary_cleaner.output.concentrate_sum'] = (\n",
    "    d_train['primary_cleaner.output.concentrate_ag']\n",
    "    + d_train['primary_cleaner.output.concentrate_pb']\n",
    "    + d_train['primary_cleaner.output.concentrate_au']\n",
    "    + d_train['primary_cleaner.output.concentrate_sol']\n",
    ")"
   ],
   "execution_count": 0,
   "outputs": []
  },
  {
   "cell_type": "code",
   "metadata": {
    "colab_type": "code",
    "id": "T6BzdwYyN7Ta",
    "colab": {}
   },
   "source": [
    "d_train['final.output.concentrate_sum'] = (\n",
    "    d_train['final.output.concentrate_ag']\n",
    "    + d_train['final.output.concentrate_pb']\n",
    "    + d_train['final.output.concentrate_au']\n",
    "    + d_train['final.output.concentrate_sol']\n",
    ")"
   ],
   "execution_count": 0,
   "outputs": []
  },
  {
   "cell_type": "code",
   "metadata": {
    "colab_type": "code",
    "id": "jtYkg3ibN7Td",
    "outputId": "8244598c-9909-4746-c848-cb7cee28bda5",
    "colab": {
     "base_uri": "https://localhost:8080/",
     "height": 430
    }
   },
   "source": [
    "plt.figure(figsize=(12,7))\n",
    "plt.hist([d_train['rougher.output.concentrate_sum'], \n",
    "          d_train['primary_cleaner.output.concentrate_sum'],\n",
    "          d_train['final.output.concentrate_sum']], bins = 50, \n",
    "          label=['Флотация','Первичная очистка', 'Финальная очистка'])\n",
    "plt.legend()\n",
    "plt.show()"
   ],
   "execution_count": 0,
   "outputs": [
    {
     "output_type": "display_data",
     "data": {
      "image/png": "[encoded data removed]",
      "text/plain": [
       "<Figure size 864x504 with 1 Axes>"
      ]
     },
     "metadata": {
      "tags": [],
      "needs_background": "light"
     }
    }
   ]
  },
  {
   "cell_type": "code",
   "metadata": {
    "colab_type": "code",
    "id": "hL9E6eXrhlyn",
    "outputId": "7186ae5c-f005-4ac2-e56d-5ae31ffedc4a",
    "colab": {
     "base_uri": "https://localhost:8080/",
     "height": 473
    }
   },
   "source": [
    "plt.figure(figsize=(12,7))\n",
    "ax = sns.boxplot(data= d_train[['rougher.output.concentrate_sum',\n",
    "                                'primary_cleaner.output.concentrate_sum',\n",
    "                                'final.output.concentrate_sum']],\n",
    "                  orient=\"h\", palette=\"Set2\", width=0.5)\\\n",
    "    .set_title('Концентрация металлов после финальной очистки')\n",
    "plt.xlabel('Суммарная концентрация металлов', labelpad=15, fontsize=14)\n",
    "plt.ylabel('Этапы очистки', labelpad=15, fontsize=14)\n",
    "plt.yticks(np.arange(3), ('Сырье', 'Черновой концентрат', 'Финальный концентрат'))\n",
    "plt.show()"
   ],
   "execution_count": 0,
   "outputs": [
    {
     "output_type": "display_data",
     "data": {
      "image/png": "[encoded data removed]",
      "text/plain": [
       "<Figure size 864x504 with 1 Axes>"
      ]
     },
     "metadata": {
      "tags": [],
      "needs_background": "light"
     }
    }
   ]
  },
  {
   "cell_type": "markdown",
   "metadata": {
    "colab_type": "text",
    "id": "xniw8BxxN7Tg"
   },
   "source": [
    "Самая высокая суммарная концентрация веществ находится в исходном сырье. На этом графике можно увидеть большое количество выбросов. Для обучения модели их лучше удалить."
   ]
  },
  {
   "cell_type": "code",
   "metadata": {
    "id": "-tkY1F98FOaK",
    "colab_type": "code",
    "colab": {}
   },
   "source": [
    "d_train = d_train[(d_train['final.output.concentrate_sum'] > 50) &\n",
    "                  (d_train['rougher.output.concentrate_sum'] > 0.1)  &\n",
    "                  (d_train['primary_cleaner.output.concentrate_sum'] > 0.1) &\n",
    "                  (d_train['final.output.concentrate_sum'] > 0.1)]"
   ],
   "execution_count": 0,
   "outputs": []
  },
  {
   "cell_type": "markdown",
   "metadata": {
    "colab_type": "text",
    "id": "MfyfwBOaN7Tt"
   },
   "source": [
    "# 3. Модель"
   ]
  },
  {
   "cell_type": "markdown",
   "metadata": {
    "colab_type": "text",
    "id": "Fnc5SAHuN7Tu"
   },
   "source": [
    "3.1. Напишите функцию для вычисления sMAPE."
   ]
  },
  {
   "cell_type": "code",
   "metadata": {
    "colab_type": "code",
    "id": "Zbc0Oidt0WG4",
    "colab": {}
   },
   "source": [
    "def smape(target, prediction):\n",
    "    smape_rougher = 0\n",
    "    smape_final = 0\n",
    "    for i in range(0, len(prediction)):\n",
    "        smape_rouger_calc = abs(target['rougher.output.recovery'][i] - prediction[i][0]) / \\\n",
    "                            ((abs(target['rougher.output.recovery'][i]) + abs(prediction[i][0])) / 2) * 100\n",
    "        smape_rougher += smape_rouger_calc\n",
    "        \n",
    "        smape_final_calc = abs(target['final.output.recovery'][i] - prediction[i][1]) / \\\n",
    "                           ((abs(target['final.output.recovery'][i]) + abs(prediction[i][1])) / 2) * 100\n",
    "        smape_final += smape_final_calc\n",
    "    \n",
    "    smape_rougher = smape_rougher / len(prediction)\n",
    "    smape_final = smape_final / len(prediction)\n",
    "    final_smape_score = 0.25 * smape_rougher + 0.75 * smape_final\n",
    "    return final_smape_score"
   ],
   "execution_count": 0,
   "outputs": []
  },
  {
   "cell_type": "markdown",
   "metadata": {
    "colab_type": "text",
    "id": "10VhdDPzN7Tz"
   },
   "source": [
    "Целевые признаки для тестовой выборки возьмем из большого сета, дропнем пропуски."
   ]
  },
  {
   "cell_type": "code",
   "metadata": {
    "colab_type": "code",
    "id": "6Dbr_PlhN7T-",
    "colab": {}
   },
   "source": [
    "target_train = d_train[['rougher.output.recovery', 'final.output.recovery']]"
   ],
   "execution_count": 0,
   "outputs": []
  },
  {
   "cell_type": "code",
   "metadata": {
    "colab_type": "code",
    "id": "_KFbFbOXN7UC",
    "colab": {}
   },
   "source": [
    "features_train = d_train[['primary_cleaner.input.sulfate', 'primary_cleaner.input.depressant',\n",
    "       'primary_cleaner.input.feed_size', 'primary_cleaner.input.xanthate',\n",
    "       'primary_cleaner.state.floatbank8_a_air',\n",
    "       'primary_cleaner.state.floatbank8_a_level',\n",
    "       'primary_cleaner.state.floatbank8_b_air',\n",
    "       'primary_cleaner.state.floatbank8_b_level',\n",
    "       'primary_cleaner.state.floatbank8_c_air',\n",
    "       'primary_cleaner.state.floatbank8_c_level',\n",
    "       'primary_cleaner.state.floatbank8_d_air',\n",
    "       'primary_cleaner.state.floatbank8_d_level', 'rougher.input.feed_ag',\n",
    "       'rougher.input.feed_pb', 'rougher.input.feed_rate',\n",
    "       'rougher.input.feed_size', 'rougher.input.feed_sol',\n",
    "       'rougher.input.feed_au', 'rougher.input.floatbank10_sulfate',\n",
    "       'rougher.input.floatbank10_xanthate',\n",
    "       'rougher.input.floatbank11_sulfate',\n",
    "       'rougher.input.floatbank11_xanthate', 'rougher.state.floatbank10_a_air',\n",
    "       'rougher.state.floatbank10_a_level', 'rougher.state.floatbank10_b_air',\n",
    "       'rougher.state.floatbank10_b_level', 'rougher.state.floatbank10_c_air',\n",
    "       'rougher.state.floatbank10_c_level', 'rougher.state.floatbank10_d_air',\n",
    "       'rougher.state.floatbank10_d_level', 'rougher.state.floatbank10_e_air',\n",
    "       'rougher.state.floatbank10_e_level', 'rougher.state.floatbank10_f_air',\n",
    "       'rougher.state.floatbank10_f_level',\n",
    "       'secondary_cleaner.state.floatbank2_a_air',\n",
    "       'secondary_cleaner.state.floatbank2_a_level',\n",
    "       'secondary_cleaner.state.floatbank2_b_air',\n",
    "       'secondary_cleaner.state.floatbank2_b_level',\n",
    "       'secondary_cleaner.state.floatbank3_a_air',\n",
    "       'secondary_cleaner.state.floatbank3_a_level',\n",
    "       'secondary_cleaner.state.floatbank3_b_air',\n",
    "       'secondary_cleaner.state.floatbank3_b_level',\n",
    "       'secondary_cleaner.state.floatbank4_a_air',\n",
    "       'secondary_cleaner.state.floatbank4_a_level',\n",
    "       'secondary_cleaner.state.floatbank4_b_air',\n",
    "       'secondary_cleaner.state.floatbank4_b_level',\n",
    "       'secondary_cleaner.state.floatbank5_a_air',\n",
    "       'secondary_cleaner.state.floatbank5_a_level',\n",
    "       'secondary_cleaner.state.floatbank5_b_air',\n",
    "       'secondary_cleaner.state.floatbank5_b_level',\n",
    "       'secondary_cleaner.state.floatbank6_a_air',\n",
    "       'secondary_cleaner.state.floatbank6_a_level']]"
   ],
   "execution_count": 0,
   "outputs": []
  },
  {
   "cell_type": "code",
   "metadata": {
    "colab_type": "code",
    "id": "qqiLFN4dN7UE",
    "colab": {}
   },
   "source": [
    "target_test = d_test[['rougher.output.recovery', 'final.output.recovery']]"
   ],
   "execution_count": 0,
   "outputs": []
  },
  {
   "cell_type": "code",
   "metadata": {
    "colab_type": "code",
    "id": "JeeywTwqN7UH",
    "colab": {}
   },
   "source": [
    "featuers_test = d_test[['primary_cleaner.input.sulfate', 'primary_cleaner.input.depressant',\n",
    "       'primary_cleaner.input.feed_size', 'primary_cleaner.input.xanthate',\n",
    "       'primary_cleaner.state.floatbank8_a_air',\n",
    "       'primary_cleaner.state.floatbank8_a_level',\n",
    "       'primary_cleaner.state.floatbank8_b_air',\n",
    "       'primary_cleaner.state.floatbank8_b_level',\n",
    "       'primary_cleaner.state.floatbank8_c_air',\n",
    "       'primary_cleaner.state.floatbank8_c_level',\n",
    "       'primary_cleaner.state.floatbank8_d_air',\n",
    "       'primary_cleaner.state.floatbank8_d_level', 'rougher.input.feed_ag',\n",
    "       'rougher.input.feed_pb', 'rougher.input.feed_rate',\n",
    "       'rougher.input.feed_size', 'rougher.input.feed_sol',\n",
    "       'rougher.input.feed_au', 'rougher.input.floatbank10_sulfate',\n",
    "       'rougher.input.floatbank10_xanthate',\n",
    "       'rougher.input.floatbank11_sulfate',\n",
    "       'rougher.input.floatbank11_xanthate', 'rougher.state.floatbank10_a_air',\n",
    "       'rougher.state.floatbank10_a_level', 'rougher.state.floatbank10_b_air',\n",
    "       'rougher.state.floatbank10_b_level', 'rougher.state.floatbank10_c_air',\n",
    "       'rougher.state.floatbank10_c_level', 'rougher.state.floatbank10_d_air',\n",
    "       'rougher.state.floatbank10_d_level', 'rougher.state.floatbank10_e_air',\n",
    "       'rougher.state.floatbank10_e_level', 'rougher.state.floatbank10_f_air',\n",
    "       'rougher.state.floatbank10_f_level',\n",
    "       'secondary_cleaner.state.floatbank2_a_air',\n",
    "       'secondary_cleaner.state.floatbank2_a_level',\n",
    "       'secondary_cleaner.state.floatbank2_b_air',\n",
    "       'secondary_cleaner.state.floatbank2_b_level',\n",
    "       'secondary_cleaner.state.floatbank3_a_air',\n",
    "       'secondary_cleaner.state.floatbank3_a_level',\n",
    "       'secondary_cleaner.state.floatbank3_b_air',\n",
    "       'secondary_cleaner.state.floatbank3_b_level',\n",
    "       'secondary_cleaner.state.floatbank4_a_air',\n",
    "       'secondary_cleaner.state.floatbank4_a_level',\n",
    "       'secondary_cleaner.state.floatbank4_b_air',\n",
    "       'secondary_cleaner.state.floatbank4_b_level',\n",
    "       'secondary_cleaner.state.floatbank5_a_air',\n",
    "       'secondary_cleaner.state.floatbank5_a_level',\n",
    "       'secondary_cleaner.state.floatbank5_b_air',\n",
    "       'secondary_cleaner.state.floatbank5_b_level',\n",
    "       'secondary_cleaner.state.floatbank6_a_air',\n",
    "       'secondary_cleaner.state.floatbank6_a_level']]"
   ],
   "execution_count": 0,
   "outputs": []
  },
  {
   "cell_type": "markdown",
   "metadata": {
    "colab_type": "text",
    "id": "4Bc-eWaCN7UE"
   },
   "source": [
    "Выше мы исследовали, что распределение, например, размера гранул руды в обучающей и тестовой выборке разное.\n",
    "Уравновесим выборки."
   ]
  },
  {
   "cell_type": "code",
   "metadata": {
    "colab_type": "code",
    "id": "Gx3gIWx-N7UJ",
    "colab": {}
   },
   "source": [
    "#scaler = StandardScaler()"
   ],
   "execution_count": 0,
   "outputs": []
  },
  {
   "cell_type": "code",
   "metadata": {
    "colab_type": "code",
    "id": "qD24glOYN7UM",
    "colab": {}
   },
   "source": [
    "#scaler.fit(features_train)"
   ],
   "execution_count": 0,
   "outputs": []
  },
  {
   "cell_type": "code",
   "metadata": {
    "colab_type": "code",
    "id": "gid37WP9N7UO",
    "colab": {}
   },
   "source": [
    "#features_train_scaled = scaler.transform(features_train)"
   ],
   "execution_count": 0,
   "outputs": []
  },
  {
   "cell_type": "code",
   "metadata": {
    "colab_type": "code",
    "id": "CmHYnnbdN7UQ",
    "colab": {}
   },
   "source": [
    "#features_test_scaled = scaler.transform(featuers_test)"
   ],
   "execution_count": 0,
   "outputs": []
  },
  {
   "cell_type": "markdown",
   "metadata": {
    "colab_type": "text",
    "id": "inUEnBXQN7US"
   },
   "source": [
    "Сделаем smape_final метрикой для кросс-валидации."
   ]
  },
  {
   "cell_type": "code",
   "metadata": {
    "colab_type": "code",
    "id": "cZhwifSdN7US",
    "colab": {}
   },
   "source": [
    "score = make_scorer(smape)"
   ],
   "execution_count": 0,
   "outputs": []
  },
  {
   "cell_type": "markdown",
   "metadata": {
    "colab_type": "text",
    "id": "m_AHbh-xN7UU"
   },
   "source": [
    "Напишем функция для проверки модели путем кросс-валидации:"
   ]
  },
  {
   "cell_type": "code",
   "metadata": {
    "colab_type": "code",
    "id": "Dc7QTdQKN7UU",
    "colab": {}
   },
   "source": [
    "def cross_val(model, features, target):\n",
    "    final_score = cross_val_score(model, features, target, cv=5, scoring=score)\n",
    "    return final_score.mean()"
   ],
   "execution_count": 0,
   "outputs": []
  },
  {
   "cell_type": "markdown",
   "metadata": {
    "colab_type": "text",
    "id": "AGRquGVNN7UW"
   },
   "source": [
    "Данные подготовлены, выборки уравновешены, попробуем обучить модель. Начнем с самой простой - линейной регрессии."
   ]
  },
  {
   "cell_type": "code",
   "metadata": {
    "colab_type": "code",
    "id": "KuPWfOzaN7UX",
    "colab": {}
   },
   "source": [
    "reg = LinearRegression()"
   ],
   "execution_count": 0,
   "outputs": []
  },
  {
   "cell_type": "code",
   "metadata": {
    "colab_type": "code",
    "id": "tx9vUUjNN7UY",
    "outputId": "b55d9586-0a6f-4be8-cd17-1e8ba9b353f8",
    "colab": {
     "base_uri": "https://localhost:8080/",
     "height": 34
    }
   },
   "source": [
    "reg.fit(features_train, target_train)"
   ],
   "execution_count": 0,
   "outputs": [
    {
     "output_type": "execute_result",
     "data": {
      "text/plain": [
       "LinearRegression(copy_X=True, fit_intercept=True, n_jobs=None, normalize=False)"
      ]
     },
     "metadata": {
      "tags": []
     },
     "execution_count": 347
    }
   ]
  },
  {
   "cell_type": "code",
   "metadata": {
    "colab_type": "code",
    "id": "SmStsZ_1N7Ub",
    "outputId": "5758881d-21e5-426f-b528-a54dea428d4b",
    "colab": {
     "base_uri": "https://localhost:8080/",
     "height": 68
    }
   },
   "source": [
    "%%time\n",
    "cross_val(reg, features_train, target_train)"
   ],
   "execution_count": 0,
   "outputs": [
    {
     "output_type": "stream",
     "text": [
      "CPU times: user 1.49 s, sys: 499 ms, total: 1.99 s\n",
      "Wall time: 1.34 s\n"
     ],
     "name": "stdout"
    },
    {
     "output_type": "execute_result",
     "data": {
      "text/plain": [
       "10.000365242094144"
      ]
     },
     "metadata": {
      "tags": []
     },
     "execution_count": 348
    }
   ]
  },
  {
   "cell_type": "markdown",
   "metadata": {
    "colab_type": "text",
    "id": "SVAbFGiMN7Uc"
   },
   "source": [
    "Далее подберем гиперпараметры и обучим дерево и случайный лес."
   ]
  },
  {
   "cell_type": "code",
   "metadata": {
    "colab_type": "code",
    "id": "gJQw3FssN7Ud",
    "scrolled": true,
    "outputId": "022ca5de-19a5-46c3-b03c-a244bae4e675",
    "colab": {
     "base_uri": "https://localhost:8080/",
     "height": 969
    }
   },
   "source": [
    "%%time\n",
    "for depth in range(4, 10):\n",
    "    for samples in range(2, 11):\n",
    "        tree_regressor = DecisionTreeRegressor(random_state=42, max_depth=depth, min_samples_leaf = samples)\n",
    "        smape_score = cross_val_score(tree_regressor, features_train, target_train, cv=5, scoring=score)\n",
    "        print('max_depth=', depth, \"min_samples_leaf =\", samples, \" -- \", end='')\n",
    "        print('smape_score:', smape_score.mean())"
   ],
   "execution_count": 0,
   "outputs": [
    {
     "output_type": "stream",
     "text": [
      "max_depth= 4 min_samples_leaf = 2  -- smape_score: 9.408953668678752\n",
      "max_depth= 4 min_samples_leaf = 3  -- smape_score: 9.637129136313195\n",
      "max_depth= 4 min_samples_leaf = 4  -- smape_score: 9.460593730710453\n",
      "max_depth= 4 min_samples_leaf = 5  -- smape_score: 9.26372755357124\n",
      "max_depth= 4 min_samples_leaf = 6  -- smape_score: 9.260002042504444\n",
      "max_depth= 4 min_samples_leaf = 7  -- smape_score: 9.260002042504444\n",
      "max_depth= 4 min_samples_leaf = 8  -- smape_score: 9.260002042504444\n",
      "max_depth= 4 min_samples_leaf = 9  -- smape_score: 9.270567780487333\n",
      "max_depth= 4 min_samples_leaf = 10  -- smape_score: 9.276242875601657\n",
      "max_depth= 5 min_samples_leaf = 2  -- smape_score: 9.87210297004636\n",
      "max_depth= 5 min_samples_leaf = 3  -- smape_score: 10.045923612016168\n",
      "max_depth= 5 min_samples_leaf = 4  -- smape_score: 9.92981606369969\n",
      "max_depth= 5 min_samples_leaf = 5  -- smape_score: 9.529417435799823\n",
      "max_depth= 5 min_samples_leaf = 6  -- smape_score: 9.442931360871954\n",
      "max_depth= 5 min_samples_leaf = 7  -- smape_score: 9.814339916253484\n",
      "max_depth= 5 min_samples_leaf = 8  -- smape_score: 9.824355335660773\n",
      "max_depth= 5 min_samples_leaf = 9  -- smape_score: 9.844477233231318\n",
      "max_depth= 5 min_samples_leaf = 10  -- smape_score: 9.850743357597704\n",
      "max_depth= 6 min_samples_leaf = 2  -- smape_score: 10.036523251286384\n",
      "max_depth= 6 min_samples_leaf = 3  -- smape_score: 10.226557552289671\n",
      "max_depth= 6 min_samples_leaf = 4  -- smape_score: 10.092261977086988\n",
      "max_depth= 6 min_samples_leaf = 5  -- smape_score: 9.725048898977258\n",
      "max_depth= 6 min_samples_leaf = 6  -- smape_score: 9.557024471372136\n",
      "max_depth= 6 min_samples_leaf = 7  -- smape_score: 9.630343680520246\n",
      "max_depth= 6 min_samples_leaf = 8  -- smape_score: 9.655252281432496\n",
      "max_depth= 6 min_samples_leaf = 9  -- smape_score: 9.690078967094127\n",
      "max_depth= 6 min_samples_leaf = 10  -- smape_score: 9.705239520859289\n",
      "max_depth= 7 min_samples_leaf = 2  -- smape_score: 11.15557217682739\n",
      "max_depth= 7 min_samples_leaf = 3  -- smape_score: 11.13784702688166\n",
      "max_depth= 7 min_samples_leaf = 4  -- smape_score: 10.09742207078152\n",
      "max_depth= 7 min_samples_leaf = 5  -- smape_score: 9.764947544131994\n",
      "max_depth= 7 min_samples_leaf = 6  -- smape_score: 9.790767366661171\n",
      "max_depth= 7 min_samples_leaf = 7  -- smape_score: 9.936164111286086\n",
      "max_depth= 7 min_samples_leaf = 8  -- smape_score: 9.835960799083063\n",
      "max_depth= 7 min_samples_leaf = 9  -- smape_score: 9.799932791116484\n",
      "max_depth= 7 min_samples_leaf = 10  -- smape_score: 9.8195682192741\n",
      "max_depth= 8 min_samples_leaf = 2  -- smape_score: 12.788188130581762\n",
      "max_depth= 8 min_samples_leaf = 3  -- smape_score: 11.660634694008333\n",
      "max_depth= 8 min_samples_leaf = 4  -- smape_score: 10.568122328979205\n",
      "max_depth= 8 min_samples_leaf = 5  -- smape_score: 10.426996742000789\n",
      "max_depth= 8 min_samples_leaf = 6  -- smape_score: 10.428786314185594\n",
      "max_depth= 8 min_samples_leaf = 7  -- smape_score: 10.411678453633392\n",
      "max_depth= 8 min_samples_leaf = 8  -- smape_score: 10.286230604062494\n",
      "max_depth= 8 min_samples_leaf = 9  -- smape_score: 10.13211606277805\n",
      "max_depth= 8 min_samples_leaf = 10  -- smape_score: 10.102879789967862\n",
      "max_depth= 9 min_samples_leaf = 2  -- smape_score: 13.658529970610038\n",
      "max_depth= 9 min_samples_leaf = 3  -- smape_score: 12.400122225846621\n",
      "max_depth= 9 min_samples_leaf = 4  -- smape_score: 11.222002846014979\n",
      "max_depth= 9 min_samples_leaf = 5  -- smape_score: 10.92892427820463\n",
      "max_depth= 9 min_samples_leaf = 6  -- smape_score: 10.783681976882628\n",
      "max_depth= 9 min_samples_leaf = 7  -- smape_score: 10.592708254494294\n",
      "max_depth= 9 min_samples_leaf = 8  -- smape_score: 10.486643005237523\n",
      "max_depth= 9 min_samples_leaf = 9  -- smape_score: 10.288453532522956\n",
      "max_depth= 9 min_samples_leaf = 10  -- smape_score: 10.33338867036852\n",
      "CPU times: user 2min 39s, sys: 96 ms, total: 2min 39s\n",
      "Wall time: 2min 39s\n"
     ],
     "name": "stdout"
    }
   ]
  },
  {
   "cell_type": "markdown",
   "metadata": {
    "colab_type": "text",
    "id": "Hjijk6MVN7Ue"
   },
   "source": [
    "Лучший smape для дерева решений на гиперпараметрах:  \n",
    "max_depth= 4 min_samples_leaf = 6  -- smape_score: 9.260002042504444"
   ]
  },
  {
   "cell_type": "code",
   "metadata": {
    "colab_type": "code",
    "id": "K-na1AgoN7Uf",
    "scrolled": true,
    "outputId": "11b2b276-2541-4913-8b5a-2b0839a6f258",
    "colab": {
     "base_uri": "https://localhost:8080/",
     "height": 1000
    }
   },
   "source": [
    "%%time\n",
    "for depth in range(3, 16, 2):\n",
    "    for estim in range(4, 101, 10):\n",
    "        forest_regressor = RandomForestRegressor(random_state=42, max_depth=depth, n_estimators=estim)\n",
    "        smape_score = cross_val_score(forest_regressor, features_train, target_train, cv=5, scoring=score)\n",
    "        print('max_depth=', depth, ',', \"n_estimators =\", estim, \" -- \", end='')\n",
    "        print('smape_score:', smape_score.mean())"
   ],
   "execution_count": 0,
   "outputs": [
    {
     "output_type": "stream",
     "text": [
      "max_depth= 3 , n_estimators = 4  -- smape_score: 9.048045126103833\n",
      "max_depth= 3 , n_estimators = 14  -- smape_score: 8.68942516394917\n",
      "max_depth= 3 , n_estimators = 24  -- smape_score: 8.59142732159778\n",
      "max_depth= 3 , n_estimators = 34  -- smape_score: 8.61400890075504\n",
      "max_depth= 3 , n_estimators = 44  -- smape_score: 8.588872360441657\n",
      "max_depth= 3 , n_estimators = 54  -- smape_score: 8.586863771737741\n",
      "max_depth= 3 , n_estimators = 64  -- smape_score: 8.6102030720842\n",
      "max_depth= 3 , n_estimators = 74  -- smape_score: 8.600817481648544\n",
      "max_depth= 3 , n_estimators = 84  -- smape_score: 8.636598382505639\n",
      "max_depth= 3 , n_estimators = 94  -- smape_score: 8.634340662457237\n",
      "max_depth= 5 , n_estimators = 4  -- smape_score: 9.240359881297051\n",
      "max_depth= 5 , n_estimators = 14  -- smape_score: 9.082454894309926\n",
      "max_depth= 5 , n_estimators = 24  -- smape_score: 8.891503481254876\n",
      "max_depth= 5 , n_estimators = 34  -- smape_score: 8.93173106725154\n",
      "max_depth= 5 , n_estimators = 44  -- smape_score: 8.855996298865982\n",
      "max_depth= 5 , n_estimators = 54  -- smape_score: 8.902711651683749\n",
      "max_depth= 5 , n_estimators = 64  -- smape_score: 8.930560661994107\n",
      "max_depth= 5 , n_estimators = 74  -- smape_score: 8.885905431256695\n",
      "max_depth= 5 , n_estimators = 84  -- smape_score: 8.92778566539767\n",
      "max_depth= 5 , n_estimators = 94  -- smape_score: 8.908704977811375\n",
      "max_depth= 7 , n_estimators = 4  -- smape_score: 9.79336440024847\n",
      "max_depth= 7 , n_estimators = 14  -- smape_score: 9.522346268844412\n",
      "max_depth= 7 , n_estimators = 24  -- smape_score: 9.214945762434489\n",
      "max_depth= 7 , n_estimators = 34  -- smape_score: 9.241208124240023\n",
      "max_depth= 7 , n_estimators = 44  -- smape_score: 9.137525866613426\n",
      "max_depth= 7 , n_estimators = 54  -- smape_score: 9.200900889610136\n",
      "max_depth= 7 , n_estimators = 64  -- smape_score: 9.154755243597565\n",
      "max_depth= 7 , n_estimators = 74  -- smape_score: 9.07597378329437\n",
      "max_depth= 7 , n_estimators = 84  -- smape_score: 9.094985675588573\n",
      "max_depth= 7 , n_estimators = 94  -- smape_score: 9.065418894724782\n",
      "max_depth= 9 , n_estimators = 4  -- smape_score: 10.183669773276744\n",
      "max_depth= 9 , n_estimators = 14  -- smape_score: 9.603037093477734\n",
      "max_depth= 9 , n_estimators = 24  -- smape_score: 9.312700953981448\n",
      "max_depth= 9 , n_estimators = 34  -- smape_score: 9.222236687587468\n",
      "max_depth= 9 , n_estimators = 44  -- smape_score: 9.090872740696657\n",
      "max_depth= 9 , n_estimators = 54  -- smape_score: 9.109286650837669\n",
      "max_depth= 9 , n_estimators = 64  -- smape_score: 9.087702866773034\n",
      "max_depth= 9 , n_estimators = 74  -- smape_score: 9.03236593299825\n",
      "max_depth= 9 , n_estimators = 84  -- smape_score: 9.047861446753059\n",
      "max_depth= 9 , n_estimators = 94  -- smape_score: 9.033109241166132\n",
      "max_depth= 11 , n_estimators = 4  -- smape_score: 10.115494356746927\n",
      "max_depth= 11 , n_estimators = 14  -- smape_score: 9.661777234263567\n",
      "max_depth= 11 , n_estimators = 24  -- smape_score: 9.41552959052958\n",
      "max_depth= 11 , n_estimators = 34  -- smape_score: 9.300257303914645\n",
      "max_depth= 11 , n_estimators = 44  -- smape_score: 9.14685030525349\n",
      "max_depth= 11 , n_estimators = 54  -- smape_score: 9.220943146768374\n",
      "max_depth= 11 , n_estimators = 64  -- smape_score: 9.205549367822492\n",
      "max_depth= 11 , n_estimators = 74  -- smape_score: 9.143378416600754\n",
      "max_depth= 11 , n_estimators = 84  -- smape_score: 9.146932777823562\n",
      "max_depth= 11 , n_estimators = 94  -- smape_score: 9.108880687974862\n",
      "max_depth= 13 , n_estimators = 4  -- smape_score: 10.371481636065983\n",
      "max_depth= 13 , n_estimators = 14  -- smape_score: 9.512136829269988\n",
      "max_depth= 13 , n_estimators = 24  -- smape_score: 9.2698703091029\n",
      "max_depth= 13 , n_estimators = 34  -- smape_score: 9.259704739133742\n",
      "max_depth= 13 , n_estimators = 44  -- smape_score: 9.159241091249983\n",
      "max_depth= 13 , n_estimators = 54  -- smape_score: 9.256997857178623\n",
      "max_depth= 13 , n_estimators = 64  -- smape_score: 9.241463050004926\n",
      "max_depth= 13 , n_estimators = 74  -- smape_score: 9.189657550093747\n",
      "max_depth= 13 , n_estimators = 84  -- smape_score: 9.179413507866972\n",
      "max_depth= 13 , n_estimators = 94  -- smape_score: 9.131591272856255\n",
      "max_depth= 15 , n_estimators = 4  -- smape_score: 10.468057250725705\n",
      "max_depth= 15 , n_estimators = 14  -- smape_score: 9.750249852710457\n",
      "max_depth= 15 , n_estimators = 24  -- smape_score: 9.481541393255252\n",
      "max_depth= 15 , n_estimators = 34  -- smape_score: 9.443523446498366\n",
      "max_depth= 15 , n_estimators = 44  -- smape_score: 9.3477553971065\n",
      "max_depth= 15 , n_estimators = 54  -- smape_score: 9.384588775308767\n",
      "max_depth= 15 , n_estimators = 64  -- smape_score: 9.313463465598195\n",
      "max_depth= 15 , n_estimators = 74  -- smape_score: 9.206524533256289\n",
      "max_depth= 15 , n_estimators = 84  -- smape_score: 9.178312861867232\n",
      "max_depth= 15 , n_estimators = 94  -- smape_score: 9.131514082327449\n",
      "CPU times: user 1h 29min 7s, sys: 788 ms, total: 1h 29min 7s\n",
      "Wall time: 1h 29min 10s\n"
     ],
     "name": "stdout"
    }
   ]
  },
  {
   "cell_type": "markdown",
   "metadata": {
    "colab_type": "text",
    "id": "ZF1JE2vdN7Uj"
   },
   "source": [
    "Лучший smape для случайного леса:  \n",
    "max_depth= 3 , n_estimators = 54  -- smape_score: 8.586863771737741"
   ]
  },
  {
   "cell_type": "markdown",
   "metadata": {
    "colab_type": "text",
    "id": "2PzWdYViN7Uj"
   },
   "source": [
    "Лучше всего себя показывает случайный лес.\n",
    "Проверим модель на тестовой выборке."
   ]
  },
  {
   "cell_type": "code",
   "metadata": {
    "colab_type": "code",
    "id": "fb8hWoD0N7Uj",
    "colab": {}
   },
   "source": [
    "forest_regressor = RandomForestRegressor(random_state=42, max_depth= 3, n_estimators=54)"
   ],
   "execution_count": 0,
   "outputs": []
  },
  {
   "cell_type": "code",
   "metadata": {
    "id": "YPDcnCd77Ipo",
    "colab_type": "code",
    "outputId": "3455e48a-4788-4c60-8f9e-28625b87302b",
    "colab": {
     "base_uri": "https://localhost:8080/",
     "height": 170
    }
   },
   "source": [
    "%%time\n",
    "forest_regressor.fit(features_train, target_train)"
   ],
   "execution_count": 0,
   "outputs": [
    {
     "output_type": "stream",
     "text": [
      "CPU times: user 8.53 s, sys: 1 ms, total: 8.53 s\n",
      "Wall time: 8.54 s\n"
     ],
     "name": "stdout"
    },
    {
     "output_type": "execute_result",
     "data": {
      "text/plain": [
       "RandomForestRegressor(bootstrap=True, ccp_alpha=0.0, criterion='mse',\n",
       "                      max_depth=3, max_features='auto', max_leaf_nodes=None,\n",
       "                      max_samples=None, min_impurity_decrease=0.0,\n",
       "                      min_impurity_split=None, min_samples_leaf=1,\n",
       "                      min_samples_split=2, min_weight_fraction_leaf=0.0,\n",
       "                      n_estimators=54, n_jobs=None, oob_score=False,\n",
       "                      random_state=42, verbose=0, warm_start=False)"
      ]
     },
     "metadata": {
      "tags": []
     },
     "execution_count": 360
    }
   ]
  },
  {
   "cell_type": "code",
   "metadata": {
    "id": "ttKlZ4SP7Iyf",
    "colab_type": "code",
    "outputId": "bec0e207-db56-4cd6-d55f-bed352d65994",
    "colab": {
     "base_uri": "https://localhost:8080/",
     "height": 68
    }
   },
   "source": [
    "%%time\n",
    "test_prediction_forest = forest_regressor.predict(featuers_test)\n",
    "print('sMAPE:', smape(target_test, test_prediction_forest))"
   ],
   "execution_count": 0,
   "outputs": [
    {
     "output_type": "stream",
     "text": [
      "sMAPE: 9.27301844448515\n",
      "CPU times: user 390 ms, sys: 0 ns, total: 390 ms\n",
      "Wall time: 391 ms\n"
     ],
     "name": "stdout"
    }
   ]
  },
  {
   "cell_type": "markdown",
   "metadata": {
    "id": "uKn-GhdUqAf2",
    "colab_type": "text"
   },
   "source": [
    "Протестим дерево решений"
   ]
  },
  {
   "cell_type": "code",
   "metadata": {
    "id": "8MfI_oWbqEZ0",
    "colab_type": "code",
    "colab": {}
   },
   "source": [
    "tree_regressor = DecisionTreeRegressor(random_state=42, max_depth=4, min_samples_leaf = 6)"
   ],
   "execution_count": 0,
   "outputs": []
  },
  {
   "cell_type": "code",
   "metadata": {
    "id": "HnmlLZNE63Dp",
    "colab_type": "code",
    "outputId": "b74ee281-842d-4f9d-f3d4-4d5f127dc711",
    "colab": {
     "base_uri": "https://localhost:8080/",
     "height": 153
    }
   },
   "source": [
    "%%time\n",
    "tree_regressor.fit(features_train, target_train)"
   ],
   "execution_count": 0,
   "outputs": [
    {
     "output_type": "stream",
     "text": [
      "CPU times: user 342 ms, sys: 1 µs, total: 342 ms\n",
      "Wall time: 344 ms\n"
     ],
     "name": "stdout"
    },
    {
     "output_type": "execute_result",
     "data": {
      "text/plain": [
       "DecisionTreeRegressor(ccp_alpha=0.0, criterion='mse', max_depth=4,\n",
       "                      max_features=None, max_leaf_nodes=None,\n",
       "                      min_impurity_decrease=0.0, min_impurity_split=None,\n",
       "                      min_samples_leaf=6, min_samples_split=2,\n",
       "                      min_weight_fraction_leaf=0.0, presort='deprecated',\n",
       "                      random_state=42, splitter='best')"
      ]
     },
     "metadata": {
      "tags": []
     },
     "execution_count": 363
    }
   ]
  },
  {
   "cell_type": "code",
   "metadata": {
    "id": "DFApxLDj63Nj",
    "colab_type": "code",
    "outputId": "a8b8b8d2-b5b0-446e-d490-60ee861228b6",
    "colab": {
     "base_uri": "https://localhost:8080/",
     "height": 68
    }
   },
   "source": [
    "%%time\n",
    "test_prediction_tree = tree_regressor.predict(featuers_test)\n",
    "print('sMAPE:', smape(target_test, test_prediction_tree))"
   ],
   "execution_count": 0,
   "outputs": [
    {
     "output_type": "stream",
     "text": [
      "sMAPE: 12.345463478946273\n",
      "CPU times: user 396 ms, sys: 0 ns, total: 396 ms\n",
      "Wall time: 398 ms\n"
     ],
     "name": "stdout"
    }
   ]
  },
  {
   "cell_type": "markdown",
   "metadata": {
    "id": "iSQEwkK-ItbL",
    "colab_type": "text"
   },
   "source": [
    "**Рассчитаем константный прогноз**"
   ]
  },
  {
   "cell_type": "markdown",
   "metadata": {
    "id": "hH4TcGqj6NhB",
    "colab_type": "text"
   },
   "source": [
    "Сделаем DataFrame  с тем же количеством наблюдений, но все значения будут равны среднему по выборке, поскольку целевые значения в тестовой выборке мы как не знаем, эти значения возьмем из обучающей."
   ]
  },
  {
   "cell_type": "code",
   "metadata": {
    "id": "Wp0wfeCDSXsk",
    "colab_type": "code",
    "colab": {}
   },
   "source": [
    "target_test_constant = target_test[['rougher.output.recovery','final.output.recovery']]"
   ],
   "execution_count": 0,
   "outputs": []
  },
  {
   "cell_type": "code",
   "metadata": {
    "id": "VW8FqI1bacXD",
    "colab_type": "code",
    "outputId": "15a8addc-17df-4866-8ddc-50375403d54e",
    "colab": {
     "base_uri": "https://localhost:8080/",
     "height": 450
    }
   },
   "source": [
    "target_test_constant"
   ],
   "execution_count": 0,
   "outputs": [
    {
     "output_type": "execute_result",
     "data": {
      "text/html": [
       "<div>\n",
       "<style scoped>\n",
       "    .dataframe tbody tr th:only-of-type {\n",
       "        vertical-align: middle;\n",
       "    }\n",
       "\n",
       "    .dataframe tbody tr th {\n",
       "        vertical-align: top;\n",
       "    }\n",
       "\n",
       "    .dataframe thead th {\n",
       "        text-align: right;\n",
       "    }\n",
       "</style>\n",
       "<table border=\"1\" class=\"dataframe\">\n",
       "  <thead>\n",
       "    <tr style=\"text-align: right;\">\n",
       "      <th></th>\n",
       "      <th>rougher.output.recovery</th>\n",
       "      <th>final.output.recovery</th>\n",
       "    </tr>\n",
       "    <tr>\n",
       "      <th>date</th>\n",
       "      <th></th>\n",
       "      <th></th>\n",
       "    </tr>\n",
       "  </thead>\n",
       "  <tbody>\n",
       "    <tr>\n",
       "      <th>2016-09-01 00:59:59</th>\n",
       "      <td>89.993421</td>\n",
       "      <td>70.273583</td>\n",
       "    </tr>\n",
       "    <tr>\n",
       "      <th>2016-09-01 01:59:59</th>\n",
       "      <td>88.089657</td>\n",
       "      <td>68.910432</td>\n",
       "    </tr>\n",
       "    <tr>\n",
       "      <th>2016-09-01 02:59:59</th>\n",
       "      <td>88.412756</td>\n",
       "      <td>68.143213</td>\n",
       "    </tr>\n",
       "    <tr>\n",
       "      <th>2016-09-01 03:59:59</th>\n",
       "      <td>87.360133</td>\n",
       "      <td>67.776393</td>\n",
       "    </tr>\n",
       "    <tr>\n",
       "      <th>2016-09-01 04:59:59</th>\n",
       "      <td>83.236367</td>\n",
       "      <td>61.467078</td>\n",
       "    </tr>\n",
       "    <tr>\n",
       "      <th>...</th>\n",
       "      <td>...</td>\n",
       "      <td>...</td>\n",
       "    </tr>\n",
       "    <tr>\n",
       "      <th>2017-12-31 19:59:59</th>\n",
       "      <td>95.172585</td>\n",
       "      <td>68.919891</td>\n",
       "    </tr>\n",
       "    <tr>\n",
       "      <th>2017-12-31 20:59:59</th>\n",
       "      <td>94.575036</td>\n",
       "      <td>68.440582</td>\n",
       "    </tr>\n",
       "    <tr>\n",
       "      <th>2017-12-31 21:59:59</th>\n",
       "      <td>93.018138</td>\n",
       "      <td>67.092759</td>\n",
       "    </tr>\n",
       "    <tr>\n",
       "      <th>2017-12-31 22:59:59</th>\n",
       "      <td>92.599042</td>\n",
       "      <td>68.061186</td>\n",
       "    </tr>\n",
       "    <tr>\n",
       "      <th>2017-12-31 23:59:59</th>\n",
       "      <td>91.177695</td>\n",
       "      <td>71.699976</td>\n",
       "    </tr>\n",
       "  </tbody>\n",
       "</table>\n",
       "<p>5290 rows × 2 columns</p>\n",
       "</div>"
      ],
      "text/plain": [
       "                     rougher.output.recovery  final.output.recovery\n",
       "date                                                               \n",
       "2016-09-01 00:59:59                89.993421              70.273583\n",
       "2016-09-01 01:59:59                88.089657              68.910432\n",
       "2016-09-01 02:59:59                88.412756              68.143213\n",
       "2016-09-01 03:59:59                87.360133              67.776393\n",
       "2016-09-01 04:59:59                83.236367              61.467078\n",
       "...                                      ...                    ...\n",
       "2017-12-31 19:59:59                95.172585              68.919891\n",
       "2017-12-31 20:59:59                94.575036              68.440582\n",
       "2017-12-31 21:59:59                93.018138              67.092759\n",
       "2017-12-31 22:59:59                92.599042              68.061186\n",
       "2017-12-31 23:59:59                91.177695              71.699976\n",
       "\n",
       "[5290 rows x 2 columns]"
      ]
     },
     "metadata": {
      "tags": []
     },
     "execution_count": 366
    }
   ]
  },
  {
   "cell_type": "code",
   "metadata": {
    "id": "w4Y0APtDY5H1",
    "colab_type": "code",
    "colab": {}
   },
   "source": [
    "target_test_constant[\"rougher.output.recovery\"] = target_train[\"rougher.output.recovery\"].mean()"
   ],
   "execution_count": 0,
   "outputs": []
  },
  {
   "cell_type": "code",
   "metadata": {
    "id": "SjbA9JoESvmO",
    "colab_type": "code",
    "colab": {}
   },
   "source": [
    "target_test_constant['final.output.recovery'] = target_train['final.output.recovery'].mean()"
   ],
   "execution_count": 0,
   "outputs": []
  },
  {
   "cell_type": "code",
   "metadata": {
    "id": "9vmY707oZtwM",
    "colab_type": "code",
    "outputId": "aa14a691-fd69-48ad-9f3b-14b46d42d235",
    "colab": {
     "base_uri": "https://localhost:8080/",
     "height": 450
    }
   },
   "source": [
    "target_test_constant"
   ],
   "execution_count": 0,
   "outputs": [
    {
     "output_type": "execute_result",
     "data": {
      "text/html": [
       "<div>\n",
       "<style scoped>\n",
       "    .dataframe tbody tr th:only-of-type {\n",
       "        vertical-align: middle;\n",
       "    }\n",
       "\n",
       "    .dataframe tbody tr th {\n",
       "        vertical-align: top;\n",
       "    }\n",
       "\n",
       "    .dataframe thead th {\n",
       "        text-align: right;\n",
       "    }\n",
       "</style>\n",
       "<table border=\"1\" class=\"dataframe\">\n",
       "  <thead>\n",
       "    <tr style=\"text-align: right;\">\n",
       "      <th></th>\n",
       "      <th>rougher.output.recovery</th>\n",
       "      <th>final.output.recovery</th>\n",
       "    </tr>\n",
       "    <tr>\n",
       "      <th>date</th>\n",
       "      <th></th>\n",
       "      <th></th>\n",
       "    </tr>\n",
       "  </thead>\n",
       "  <tbody>\n",
       "    <tr>\n",
       "      <th>2016-09-01 00:59:59</th>\n",
       "      <td>84.620876</td>\n",
       "      <td>66.81803</td>\n",
       "    </tr>\n",
       "    <tr>\n",
       "      <th>2016-09-01 01:59:59</th>\n",
       "      <td>84.620876</td>\n",
       "      <td>66.81803</td>\n",
       "    </tr>\n",
       "    <tr>\n",
       "      <th>2016-09-01 02:59:59</th>\n",
       "      <td>84.620876</td>\n",
       "      <td>66.81803</td>\n",
       "    </tr>\n",
       "    <tr>\n",
       "      <th>2016-09-01 03:59:59</th>\n",
       "      <td>84.620876</td>\n",
       "      <td>66.81803</td>\n",
       "    </tr>\n",
       "    <tr>\n",
       "      <th>2016-09-01 04:59:59</th>\n",
       "      <td>84.620876</td>\n",
       "      <td>66.81803</td>\n",
       "    </tr>\n",
       "    <tr>\n",
       "      <th>...</th>\n",
       "      <td>...</td>\n",
       "      <td>...</td>\n",
       "    </tr>\n",
       "    <tr>\n",
       "      <th>2017-12-31 19:59:59</th>\n",
       "      <td>84.620876</td>\n",
       "      <td>66.81803</td>\n",
       "    </tr>\n",
       "    <tr>\n",
       "      <th>2017-12-31 20:59:59</th>\n",
       "      <td>84.620876</td>\n",
       "      <td>66.81803</td>\n",
       "    </tr>\n",
       "    <tr>\n",
       "      <th>2017-12-31 21:59:59</th>\n",
       "      <td>84.620876</td>\n",
       "      <td>66.81803</td>\n",
       "    </tr>\n",
       "    <tr>\n",
       "      <th>2017-12-31 22:59:59</th>\n",
       "      <td>84.620876</td>\n",
       "      <td>66.81803</td>\n",
       "    </tr>\n",
       "    <tr>\n",
       "      <th>2017-12-31 23:59:59</th>\n",
       "      <td>84.620876</td>\n",
       "      <td>66.81803</td>\n",
       "    </tr>\n",
       "  </tbody>\n",
       "</table>\n",
       "<p>5290 rows × 2 columns</p>\n",
       "</div>"
      ],
      "text/plain": [
       "                     rougher.output.recovery  final.output.recovery\n",
       "date                                                               \n",
       "2016-09-01 00:59:59                84.620876               66.81803\n",
       "2016-09-01 01:59:59                84.620876               66.81803\n",
       "2016-09-01 02:59:59                84.620876               66.81803\n",
       "2016-09-01 03:59:59                84.620876               66.81803\n",
       "2016-09-01 04:59:59                84.620876               66.81803\n",
       "...                                      ...                    ...\n",
       "2017-12-31 19:59:59                84.620876               66.81803\n",
       "2017-12-31 20:59:59                84.620876               66.81803\n",
       "2017-12-31 21:59:59                84.620876               66.81803\n",
       "2017-12-31 22:59:59                84.620876               66.81803\n",
       "2017-12-31 23:59:59                84.620876               66.81803\n",
       "\n",
       "[5290 rows x 2 columns]"
      ]
     },
     "metadata": {
      "tags": []
     },
     "execution_count": 371
    }
   ]
  },
  {
   "cell_type": "code",
   "metadata": {
    "id": "s4-fhUjta44z",
    "colab_type": "code",
    "outputId": "09740ff0-e44d-4712-a945-f52075f37227",
    "colab": {
     "base_uri": "https://localhost:8080/",
     "height": 51
    }
   },
   "source": [
    "print(target_test.shape)\n",
    "print(target_test_constant.shape)"
   ],
   "execution_count": 0,
   "outputs": [
    {
     "output_type": "stream",
     "text": [
      "(5290, 2)\n",
      "(5290, 2)\n"
     ],
     "name": "stdout"
    }
   ]
  },
  {
   "cell_type": "code",
   "metadata": {
    "id": "8idm1y7cbo-X",
    "colab_type": "code",
    "outputId": "14761c7a-b983-42c6-c998-6a6f31e8d0c0",
    "colab": {
     "base_uri": "https://localhost:8080/",
     "height": 136
    }
   },
   "source": [
    "target_test_constant.to_numpy()"
   ],
   "execution_count": 0,
   "outputs": [
    {
     "output_type": "execute_result",
     "data": {
      "text/plain": [
       "array([[84.62087638, 66.81803004],\n",
       "       [84.62087638, 66.81803004],\n",
       "       [84.62087638, 66.81803004],\n",
       "       ...,\n",
       "       [84.62087638, 66.81803004],\n",
       "       [84.62087638, 66.81803004],\n",
       "       [84.62087638, 66.81803004]])"
      ]
     },
     "metadata": {
      "tags": []
     },
     "execution_count": 373
    }
   ]
  },
  {
   "cell_type": "code",
   "metadata": {
    "id": "8AA3ur6kdlIr",
    "colab_type": "code",
    "outputId": "6c335164-81ad-452e-8ec2-4da65e6adcbc",
    "colab": {
     "base_uri": "https://localhost:8080/",
     "height": 450
    }
   },
   "source": [
    "target_test"
   ],
   "execution_count": 0,
   "outputs": [
    {
     "output_type": "execute_result",
     "data": {
      "text/html": [
       "<div>\n",
       "<style scoped>\n",
       "    .dataframe tbody tr th:only-of-type {\n",
       "        vertical-align: middle;\n",
       "    }\n",
       "\n",
       "    .dataframe tbody tr th {\n",
       "        vertical-align: top;\n",
       "    }\n",
       "\n",
       "    .dataframe thead th {\n",
       "        text-align: right;\n",
       "    }\n",
       "</style>\n",
       "<table border=\"1\" class=\"dataframe\">\n",
       "  <thead>\n",
       "    <tr style=\"text-align: right;\">\n",
       "      <th></th>\n",
       "      <th>rougher.output.recovery</th>\n",
       "      <th>final.output.recovery</th>\n",
       "    </tr>\n",
       "    <tr>\n",
       "      <th>date</th>\n",
       "      <th></th>\n",
       "      <th></th>\n",
       "    </tr>\n",
       "  </thead>\n",
       "  <tbody>\n",
       "    <tr>\n",
       "      <th>2016-09-01 00:59:59</th>\n",
       "      <td>89.993421</td>\n",
       "      <td>70.273583</td>\n",
       "    </tr>\n",
       "    <tr>\n",
       "      <th>2016-09-01 01:59:59</th>\n",
       "      <td>88.089657</td>\n",
       "      <td>68.910432</td>\n",
       "    </tr>\n",
       "    <tr>\n",
       "      <th>2016-09-01 02:59:59</th>\n",
       "      <td>88.412756</td>\n",
       "      <td>68.143213</td>\n",
       "    </tr>\n",
       "    <tr>\n",
       "      <th>2016-09-01 03:59:59</th>\n",
       "      <td>87.360133</td>\n",
       "      <td>67.776393</td>\n",
       "    </tr>\n",
       "    <tr>\n",
       "      <th>2016-09-01 04:59:59</th>\n",
       "      <td>83.236367</td>\n",
       "      <td>61.467078</td>\n",
       "    </tr>\n",
       "    <tr>\n",
       "      <th>...</th>\n",
       "      <td>...</td>\n",
       "      <td>...</td>\n",
       "    </tr>\n",
       "    <tr>\n",
       "      <th>2017-12-31 19:59:59</th>\n",
       "      <td>95.172585</td>\n",
       "      <td>68.919891</td>\n",
       "    </tr>\n",
       "    <tr>\n",
       "      <th>2017-12-31 20:59:59</th>\n",
       "      <td>94.575036</td>\n",
       "      <td>68.440582</td>\n",
       "    </tr>\n",
       "    <tr>\n",
       "      <th>2017-12-31 21:59:59</th>\n",
       "      <td>93.018138</td>\n",
       "      <td>67.092759</td>\n",
       "    </tr>\n",
       "    <tr>\n",
       "      <th>2017-12-31 22:59:59</th>\n",
       "      <td>92.599042</td>\n",
       "      <td>68.061186</td>\n",
       "    </tr>\n",
       "    <tr>\n",
       "      <th>2017-12-31 23:59:59</th>\n",
       "      <td>91.177695</td>\n",
       "      <td>71.699976</td>\n",
       "    </tr>\n",
       "  </tbody>\n",
       "</table>\n",
       "<p>5290 rows × 2 columns</p>\n",
       "</div>"
      ],
      "text/plain": [
       "                     rougher.output.recovery  final.output.recovery\n",
       "date                                                               \n",
       "2016-09-01 00:59:59                89.993421              70.273583\n",
       "2016-09-01 01:59:59                88.089657              68.910432\n",
       "2016-09-01 02:59:59                88.412756              68.143213\n",
       "2016-09-01 03:59:59                87.360133              67.776393\n",
       "2016-09-01 04:59:59                83.236367              61.467078\n",
       "...                                      ...                    ...\n",
       "2017-12-31 19:59:59                95.172585              68.919891\n",
       "2017-12-31 20:59:59                94.575036              68.440582\n",
       "2017-12-31 21:59:59                93.018138              67.092759\n",
       "2017-12-31 22:59:59                92.599042              68.061186\n",
       "2017-12-31 23:59:59                91.177695              71.699976\n",
       "\n",
       "[5290 rows x 2 columns]"
      ]
     },
     "metadata": {
      "tags": []
     },
     "execution_count": 374
    }
   ]
  },
  {
   "cell_type": "markdown",
   "metadata": {
    "id": "aavbMooKZvcQ",
    "colab_type": "text"
   },
   "source": [
    "Подготовили датафрейм и заполнили обе колнки средними значениями."
   ]
  },
  {
   "cell_type": "code",
   "metadata": {
    "colab_type": "code",
    "id": "Pzz1GHdAFB7m",
    "outputId": "5d066cca-3764-4bbb-ef1a-356c0913a1a6",
    "colab": {
     "base_uri": "https://localhost:8080/",
     "height": 68
    }
   },
   "source": [
    "print('sMAPE:')\n",
    "print('Случайный лес:', smape(target_test, test_prediction_forest))\n",
    "print('Константный прогноз:',smape(target_test, target_test_constant.to_numpy()))"
   ],
   "execution_count": 0,
   "outputs": [
    {
     "output_type": "stream",
     "text": [
      "sMAPE:\n",
      "Случайный лес: 9.27301844448515\n",
      "Константный прогноз: 9.810166998813804\n"
     ],
     "name": "stdout"
    }
   ]
  },
  {
   "cell_type": "markdown",
   "metadata": {
    "colab_type": "text",
    "id": "WLLvbCi2N7Uo"
   },
   "source": [
    "#### Вывод: лучший smape на тестовой выборке показывает модель случайного леса. \n",
    "Эта модель показывает результаты лучше, чем у константного прогноза"
   ]
  }
 ]
}