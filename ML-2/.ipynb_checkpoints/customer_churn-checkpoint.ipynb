{
 "cells": [
  {
   "cell_type": "markdown",
   "metadata": {},
   "source": [
    "# Отток клиентов"
   ]
  },
  {
   "cell_type": "markdown",
   "metadata": {},
   "source": [
    "Из «Бета-Банка» стали уходить клиенты. Каждый месяц. Немного, но заметно. Банковские маркетологи посчитали: сохранять текущих клиентов дешевле, чем привлекать новых.\n",
    "\n",
    "Нужно спрогнозировать, уйдёт клиент из банка в ближайшее время или нет. Вам предоставлены исторические данные о поведении клиентов и расторжении договоров с банком. \n",
    "\n",
    "Постройте модель с предельно большим значением *F1*-меры. Чтобы сдать проект успешно, нужно довести метрику до 0.59. Проверьте *F1*-меру на тестовой выборке самостоятельно.\n",
    "\n",
    "Дополнительно измеряйте *AUC-ROC*, сравнивайте её значение с *F1*-мерой.\n",
    "\n",
    "Источник данных: [https://www.kaggle.com/barelydedicated/bank-customer-churn-modeling](https://www.kaggle.com/barelydedicated/bank-customer-churn-modeling)"
   ]
  },
  {
   "cell_type": "markdown",
   "metadata": {},
   "source": [
    "# 1. Подготовка данных"
   ]
  },
  {
   "cell_type": "code",
   "execution_count": 1,
   "metadata": {},
   "outputs": [],
   "source": [
    "import pandas as pd\n",
    "from sklearn.model_selection import train_test_split\n",
    "import matplotlib.pyplot as plt\n",
    "from sklearn.metrics import f1_score, roc_auc_score, roc_curve\n",
    "from sklearn.linear_model import LogisticRegression\n",
    "from sklearn.metrics import accuracy_score\n",
    "from sklearn.ensemble import RandomForestClassifier\n",
    "from sklearn.utils import shuffle\n",
    "from sklearn.metrics import confusion_matrix"
   ]
  },
  {
   "cell_type": "code",
   "execution_count": 2,
   "metadata": {},
   "outputs": [],
   "source": [
    "data = pd.read_csv('C:\\\\Users\\\\user\\\\Desktop\\\\GitHub\\\\ML-2\\\\Churn_Modelling.csv')"
   ]
  },
  {
   "cell_type": "code",
   "execution_count": 3,
   "metadata": {},
   "outputs": [
    {
     "data": {
      "text/html": [
       "<div>\n",
       "<style scoped>\n",
       "    .dataframe tbody tr th:only-of-type {\n",
       "        vertical-align: middle;\n",
       "    }\n",
       "\n",
       "    .dataframe tbody tr th {\n",
       "        vertical-align: top;\n",
       "    }\n",
       "\n",
       "    .dataframe thead th {\n",
       "        text-align: right;\n",
       "    }\n",
       "</style>\n",
       "<table border=\"1\" class=\"dataframe\">\n",
       "  <thead>\n",
       "    <tr style=\"text-align: right;\">\n",
       "      <th></th>\n",
       "      <th>RowNumber</th>\n",
       "      <th>CustomerId</th>\n",
       "      <th>Surname</th>\n",
       "      <th>CreditScore</th>\n",
       "      <th>Geography</th>\n",
       "      <th>Gender</th>\n",
       "      <th>Age</th>\n",
       "      <th>Tenure</th>\n",
       "      <th>Balance</th>\n",
       "      <th>NumOfProducts</th>\n",
       "      <th>HasCrCard</th>\n",
       "      <th>IsActiveMember</th>\n",
       "      <th>EstimatedSalary</th>\n",
       "      <th>Exited</th>\n",
       "    </tr>\n",
       "  </thead>\n",
       "  <tbody>\n",
       "    <tr>\n",
       "      <td>0</td>\n",
       "      <td>1</td>\n",
       "      <td>15634602</td>\n",
       "      <td>Hargrave</td>\n",
       "      <td>619</td>\n",
       "      <td>France</td>\n",
       "      <td>Female</td>\n",
       "      <td>42</td>\n",
       "      <td>2</td>\n",
       "      <td>0.00</td>\n",
       "      <td>1</td>\n",
       "      <td>1</td>\n",
       "      <td>1</td>\n",
       "      <td>101348.88</td>\n",
       "      <td>1</td>\n",
       "    </tr>\n",
       "    <tr>\n",
       "      <td>1</td>\n",
       "      <td>2</td>\n",
       "      <td>15647311</td>\n",
       "      <td>Hill</td>\n",
       "      <td>608</td>\n",
       "      <td>Spain</td>\n",
       "      <td>Female</td>\n",
       "      <td>41</td>\n",
       "      <td>1</td>\n",
       "      <td>83807.86</td>\n",
       "      <td>1</td>\n",
       "      <td>0</td>\n",
       "      <td>1</td>\n",
       "      <td>112542.58</td>\n",
       "      <td>0</td>\n",
       "    </tr>\n",
       "    <tr>\n",
       "      <td>2</td>\n",
       "      <td>3</td>\n",
       "      <td>15619304</td>\n",
       "      <td>Onio</td>\n",
       "      <td>502</td>\n",
       "      <td>France</td>\n",
       "      <td>Female</td>\n",
       "      <td>42</td>\n",
       "      <td>8</td>\n",
       "      <td>159660.80</td>\n",
       "      <td>3</td>\n",
       "      <td>1</td>\n",
       "      <td>0</td>\n",
       "      <td>113931.57</td>\n",
       "      <td>1</td>\n",
       "    </tr>\n",
       "    <tr>\n",
       "      <td>3</td>\n",
       "      <td>4</td>\n",
       "      <td>15701354</td>\n",
       "      <td>Boni</td>\n",
       "      <td>699</td>\n",
       "      <td>France</td>\n",
       "      <td>Female</td>\n",
       "      <td>39</td>\n",
       "      <td>1</td>\n",
       "      <td>0.00</td>\n",
       "      <td>2</td>\n",
       "      <td>0</td>\n",
       "      <td>0</td>\n",
       "      <td>93826.63</td>\n",
       "      <td>0</td>\n",
       "    </tr>\n",
       "    <tr>\n",
       "      <td>4</td>\n",
       "      <td>5</td>\n",
       "      <td>15737888</td>\n",
       "      <td>Mitchell</td>\n",
       "      <td>850</td>\n",
       "      <td>Spain</td>\n",
       "      <td>Female</td>\n",
       "      <td>43</td>\n",
       "      <td>2</td>\n",
       "      <td>125510.82</td>\n",
       "      <td>1</td>\n",
       "      <td>1</td>\n",
       "      <td>1</td>\n",
       "      <td>79084.10</td>\n",
       "      <td>0</td>\n",
       "    </tr>\n",
       "    <tr>\n",
       "      <td>...</td>\n",
       "      <td>...</td>\n",
       "      <td>...</td>\n",
       "      <td>...</td>\n",
       "      <td>...</td>\n",
       "      <td>...</td>\n",
       "      <td>...</td>\n",
       "      <td>...</td>\n",
       "      <td>...</td>\n",
       "      <td>...</td>\n",
       "      <td>...</td>\n",
       "      <td>...</td>\n",
       "      <td>...</td>\n",
       "      <td>...</td>\n",
       "      <td>...</td>\n",
       "    </tr>\n",
       "    <tr>\n",
       "      <td>9995</td>\n",
       "      <td>9996</td>\n",
       "      <td>15606229</td>\n",
       "      <td>Obijiaku</td>\n",
       "      <td>771</td>\n",
       "      <td>France</td>\n",
       "      <td>Male</td>\n",
       "      <td>39</td>\n",
       "      <td>5</td>\n",
       "      <td>0.00</td>\n",
       "      <td>2</td>\n",
       "      <td>1</td>\n",
       "      <td>0</td>\n",
       "      <td>96270.64</td>\n",
       "      <td>0</td>\n",
       "    </tr>\n",
       "    <tr>\n",
       "      <td>9996</td>\n",
       "      <td>9997</td>\n",
       "      <td>15569892</td>\n",
       "      <td>Johnstone</td>\n",
       "      <td>516</td>\n",
       "      <td>France</td>\n",
       "      <td>Male</td>\n",
       "      <td>35</td>\n",
       "      <td>10</td>\n",
       "      <td>57369.61</td>\n",
       "      <td>1</td>\n",
       "      <td>1</td>\n",
       "      <td>1</td>\n",
       "      <td>101699.77</td>\n",
       "      <td>0</td>\n",
       "    </tr>\n",
       "    <tr>\n",
       "      <td>9997</td>\n",
       "      <td>9998</td>\n",
       "      <td>15584532</td>\n",
       "      <td>Liu</td>\n",
       "      <td>709</td>\n",
       "      <td>France</td>\n",
       "      <td>Female</td>\n",
       "      <td>36</td>\n",
       "      <td>7</td>\n",
       "      <td>0.00</td>\n",
       "      <td>1</td>\n",
       "      <td>0</td>\n",
       "      <td>1</td>\n",
       "      <td>42085.58</td>\n",
       "      <td>1</td>\n",
       "    </tr>\n",
       "    <tr>\n",
       "      <td>9998</td>\n",
       "      <td>9999</td>\n",
       "      <td>15682355</td>\n",
       "      <td>Sabbatini</td>\n",
       "      <td>772</td>\n",
       "      <td>Germany</td>\n",
       "      <td>Male</td>\n",
       "      <td>42</td>\n",
       "      <td>3</td>\n",
       "      <td>75075.31</td>\n",
       "      <td>2</td>\n",
       "      <td>1</td>\n",
       "      <td>0</td>\n",
       "      <td>92888.52</td>\n",
       "      <td>1</td>\n",
       "    </tr>\n",
       "    <tr>\n",
       "      <td>9999</td>\n",
       "      <td>10000</td>\n",
       "      <td>15628319</td>\n",
       "      <td>Walker</td>\n",
       "      <td>792</td>\n",
       "      <td>France</td>\n",
       "      <td>Female</td>\n",
       "      <td>28</td>\n",
       "      <td>4</td>\n",
       "      <td>130142.79</td>\n",
       "      <td>1</td>\n",
       "      <td>1</td>\n",
       "      <td>0</td>\n",
       "      <td>38190.78</td>\n",
       "      <td>0</td>\n",
       "    </tr>\n",
       "  </tbody>\n",
       "</table>\n",
       "<p>10000 rows × 14 columns</p>\n",
       "</div>"
      ],
      "text/plain": [
       "      RowNumber  CustomerId    Surname  CreditScore Geography  Gender  Age  \\\n",
       "0             1    15634602   Hargrave          619    France  Female   42   \n",
       "1             2    15647311       Hill          608     Spain  Female   41   \n",
       "2             3    15619304       Onio          502    France  Female   42   \n",
       "3             4    15701354       Boni          699    France  Female   39   \n",
       "4             5    15737888   Mitchell          850     Spain  Female   43   \n",
       "...         ...         ...        ...          ...       ...     ...  ...   \n",
       "9995       9996    15606229   Obijiaku          771    France    Male   39   \n",
       "9996       9997    15569892  Johnstone          516    France    Male   35   \n",
       "9997       9998    15584532        Liu          709    France  Female   36   \n",
       "9998       9999    15682355  Sabbatini          772   Germany    Male   42   \n",
       "9999      10000    15628319     Walker          792    France  Female   28   \n",
       "\n",
       "      Tenure    Balance  NumOfProducts  HasCrCard  IsActiveMember  \\\n",
       "0          2       0.00              1          1               1   \n",
       "1          1   83807.86              1          0               1   \n",
       "2          8  159660.80              3          1               0   \n",
       "3          1       0.00              2          0               0   \n",
       "4          2  125510.82              1          1               1   \n",
       "...      ...        ...            ...        ...             ...   \n",
       "9995       5       0.00              2          1               0   \n",
       "9996      10   57369.61              1          1               1   \n",
       "9997       7       0.00              1          0               1   \n",
       "9998       3   75075.31              2          1               0   \n",
       "9999       4  130142.79              1          1               0   \n",
       "\n",
       "      EstimatedSalary  Exited  \n",
       "0           101348.88       1  \n",
       "1           112542.58       0  \n",
       "2           113931.57       1  \n",
       "3            93826.63       0  \n",
       "4            79084.10       0  \n",
       "...               ...     ...  \n",
       "9995         96270.64       0  \n",
       "9996        101699.77       0  \n",
       "9997         42085.58       1  \n",
       "9998         92888.52       1  \n",
       "9999         38190.78       0  \n",
       "\n",
       "[10000 rows x 14 columns]"
      ]
     },
     "execution_count": 3,
     "metadata": {},
     "output_type": "execute_result"
    }
   ],
   "source": [
    "data"
   ]
  },
  {
   "cell_type": "code",
   "execution_count": 4,
   "metadata": {},
   "outputs": [
    {
     "data": {
      "text/plain": [
       "RowNumber            int64\n",
       "CustomerId           int64\n",
       "Surname             object\n",
       "CreditScore          int64\n",
       "Geography           object\n",
       "Gender              object\n",
       "Age                  int64\n",
       "Tenure               int64\n",
       "Balance            float64\n",
       "NumOfProducts        int64\n",
       "HasCrCard            int64\n",
       "IsActiveMember       int64\n",
       "EstimatedSalary    float64\n",
       "Exited               int64\n",
       "dtype: object"
      ]
     },
     "execution_count": 4,
     "metadata": {},
     "output_type": "execute_result"
    }
   ],
   "source": [
    "data.dtypes"
   ]
  },
  {
   "cell_type": "code",
   "execution_count": 5,
   "metadata": {},
   "outputs": [],
   "source": [
    "data = data.drop(['RowNumber'], axis=1)"
   ]
  },
  {
   "cell_type": "code",
   "execution_count": 6,
   "metadata": {},
   "outputs": [],
   "source": [
    "data.columns = ['id', 'surname', 'credit_score', 'geography', 'gender', 'age',\n",
    "       'tenure', 'balance', 'num_of_products', 'has_cr_card', 'is_active_member',\n",
    "       'estimated_salary', 'exited']"
   ]
  },
  {
   "cell_type": "code",
   "execution_count": 7,
   "metadata": {},
   "outputs": [
    {
     "data": {
      "text/html": [
       "<div>\n",
       "<style scoped>\n",
       "    .dataframe tbody tr th:only-of-type {\n",
       "        vertical-align: middle;\n",
       "    }\n",
       "\n",
       "    .dataframe tbody tr th {\n",
       "        vertical-align: top;\n",
       "    }\n",
       "\n",
       "    .dataframe thead th {\n",
       "        text-align: right;\n",
       "    }\n",
       "</style>\n",
       "<table border=\"1\" class=\"dataframe\">\n",
       "  <thead>\n",
       "    <tr style=\"text-align: right;\">\n",
       "      <th></th>\n",
       "      <th>id</th>\n",
       "      <th>surname</th>\n",
       "      <th>credit_score</th>\n",
       "      <th>geography</th>\n",
       "      <th>gender</th>\n",
       "      <th>age</th>\n",
       "      <th>tenure</th>\n",
       "      <th>balance</th>\n",
       "      <th>num_of_products</th>\n",
       "      <th>has_cr_card</th>\n",
       "      <th>is_active_member</th>\n",
       "      <th>estimated_salary</th>\n",
       "      <th>exited</th>\n",
       "    </tr>\n",
       "  </thead>\n",
       "  <tbody>\n",
       "    <tr>\n",
       "      <td>0</td>\n",
       "      <td>15634602</td>\n",
       "      <td>Hargrave</td>\n",
       "      <td>619</td>\n",
       "      <td>France</td>\n",
       "      <td>Female</td>\n",
       "      <td>42</td>\n",
       "      <td>2</td>\n",
       "      <td>0.00</td>\n",
       "      <td>1</td>\n",
       "      <td>1</td>\n",
       "      <td>1</td>\n",
       "      <td>101348.88</td>\n",
       "      <td>1</td>\n",
       "    </tr>\n",
       "    <tr>\n",
       "      <td>1</td>\n",
       "      <td>15647311</td>\n",
       "      <td>Hill</td>\n",
       "      <td>608</td>\n",
       "      <td>Spain</td>\n",
       "      <td>Female</td>\n",
       "      <td>41</td>\n",
       "      <td>1</td>\n",
       "      <td>83807.86</td>\n",
       "      <td>1</td>\n",
       "      <td>0</td>\n",
       "      <td>1</td>\n",
       "      <td>112542.58</td>\n",
       "      <td>0</td>\n",
       "    </tr>\n",
       "    <tr>\n",
       "      <td>2</td>\n",
       "      <td>15619304</td>\n",
       "      <td>Onio</td>\n",
       "      <td>502</td>\n",
       "      <td>France</td>\n",
       "      <td>Female</td>\n",
       "      <td>42</td>\n",
       "      <td>8</td>\n",
       "      <td>159660.80</td>\n",
       "      <td>3</td>\n",
       "      <td>1</td>\n",
       "      <td>0</td>\n",
       "      <td>113931.57</td>\n",
       "      <td>1</td>\n",
       "    </tr>\n",
       "    <tr>\n",
       "      <td>3</td>\n",
       "      <td>15701354</td>\n",
       "      <td>Boni</td>\n",
       "      <td>699</td>\n",
       "      <td>France</td>\n",
       "      <td>Female</td>\n",
       "      <td>39</td>\n",
       "      <td>1</td>\n",
       "      <td>0.00</td>\n",
       "      <td>2</td>\n",
       "      <td>0</td>\n",
       "      <td>0</td>\n",
       "      <td>93826.63</td>\n",
       "      <td>0</td>\n",
       "    </tr>\n",
       "    <tr>\n",
       "      <td>4</td>\n",
       "      <td>15737888</td>\n",
       "      <td>Mitchell</td>\n",
       "      <td>850</td>\n",
       "      <td>Spain</td>\n",
       "      <td>Female</td>\n",
       "      <td>43</td>\n",
       "      <td>2</td>\n",
       "      <td>125510.82</td>\n",
       "      <td>1</td>\n",
       "      <td>1</td>\n",
       "      <td>1</td>\n",
       "      <td>79084.10</td>\n",
       "      <td>0</td>\n",
       "    </tr>\n",
       "    <tr>\n",
       "      <td>...</td>\n",
       "      <td>...</td>\n",
       "      <td>...</td>\n",
       "      <td>...</td>\n",
       "      <td>...</td>\n",
       "      <td>...</td>\n",
       "      <td>...</td>\n",
       "      <td>...</td>\n",
       "      <td>...</td>\n",
       "      <td>...</td>\n",
       "      <td>...</td>\n",
       "      <td>...</td>\n",
       "      <td>...</td>\n",
       "      <td>...</td>\n",
       "    </tr>\n",
       "    <tr>\n",
       "      <td>9995</td>\n",
       "      <td>15606229</td>\n",
       "      <td>Obijiaku</td>\n",
       "      <td>771</td>\n",
       "      <td>France</td>\n",
       "      <td>Male</td>\n",
       "      <td>39</td>\n",
       "      <td>5</td>\n",
       "      <td>0.00</td>\n",
       "      <td>2</td>\n",
       "      <td>1</td>\n",
       "      <td>0</td>\n",
       "      <td>96270.64</td>\n",
       "      <td>0</td>\n",
       "    </tr>\n",
       "    <tr>\n",
       "      <td>9996</td>\n",
       "      <td>15569892</td>\n",
       "      <td>Johnstone</td>\n",
       "      <td>516</td>\n",
       "      <td>France</td>\n",
       "      <td>Male</td>\n",
       "      <td>35</td>\n",
       "      <td>10</td>\n",
       "      <td>57369.61</td>\n",
       "      <td>1</td>\n",
       "      <td>1</td>\n",
       "      <td>1</td>\n",
       "      <td>101699.77</td>\n",
       "      <td>0</td>\n",
       "    </tr>\n",
       "    <tr>\n",
       "      <td>9997</td>\n",
       "      <td>15584532</td>\n",
       "      <td>Liu</td>\n",
       "      <td>709</td>\n",
       "      <td>France</td>\n",
       "      <td>Female</td>\n",
       "      <td>36</td>\n",
       "      <td>7</td>\n",
       "      <td>0.00</td>\n",
       "      <td>1</td>\n",
       "      <td>0</td>\n",
       "      <td>1</td>\n",
       "      <td>42085.58</td>\n",
       "      <td>1</td>\n",
       "    </tr>\n",
       "    <tr>\n",
       "      <td>9998</td>\n",
       "      <td>15682355</td>\n",
       "      <td>Sabbatini</td>\n",
       "      <td>772</td>\n",
       "      <td>Germany</td>\n",
       "      <td>Male</td>\n",
       "      <td>42</td>\n",
       "      <td>3</td>\n",
       "      <td>75075.31</td>\n",
       "      <td>2</td>\n",
       "      <td>1</td>\n",
       "      <td>0</td>\n",
       "      <td>92888.52</td>\n",
       "      <td>1</td>\n",
       "    </tr>\n",
       "    <tr>\n",
       "      <td>9999</td>\n",
       "      <td>15628319</td>\n",
       "      <td>Walker</td>\n",
       "      <td>792</td>\n",
       "      <td>France</td>\n",
       "      <td>Female</td>\n",
       "      <td>28</td>\n",
       "      <td>4</td>\n",
       "      <td>130142.79</td>\n",
       "      <td>1</td>\n",
       "      <td>1</td>\n",
       "      <td>0</td>\n",
       "      <td>38190.78</td>\n",
       "      <td>0</td>\n",
       "    </tr>\n",
       "  </tbody>\n",
       "</table>\n",
       "<p>10000 rows × 13 columns</p>\n",
       "</div>"
      ],
      "text/plain": [
       "            id    surname  credit_score geography  gender  age  tenure  \\\n",
       "0     15634602   Hargrave           619    France  Female   42       2   \n",
       "1     15647311       Hill           608     Spain  Female   41       1   \n",
       "2     15619304       Onio           502    France  Female   42       8   \n",
       "3     15701354       Boni           699    France  Female   39       1   \n",
       "4     15737888   Mitchell           850     Spain  Female   43       2   \n",
       "...        ...        ...           ...       ...     ...  ...     ...   \n",
       "9995  15606229   Obijiaku           771    France    Male   39       5   \n",
       "9996  15569892  Johnstone           516    France    Male   35      10   \n",
       "9997  15584532        Liu           709    France  Female   36       7   \n",
       "9998  15682355  Sabbatini           772   Germany    Male   42       3   \n",
       "9999  15628319     Walker           792    France  Female   28       4   \n",
       "\n",
       "        balance  num_of_products  has_cr_card  is_active_member  \\\n",
       "0          0.00                1            1                 1   \n",
       "1      83807.86                1            0                 1   \n",
       "2     159660.80                3            1                 0   \n",
       "3          0.00                2            0                 0   \n",
       "4     125510.82                1            1                 1   \n",
       "...         ...              ...          ...               ...   \n",
       "9995       0.00                2            1                 0   \n",
       "9996   57369.61                1            1                 1   \n",
       "9997       0.00                1            0                 1   \n",
       "9998   75075.31                2            1                 0   \n",
       "9999  130142.79                1            1                 0   \n",
       "\n",
       "      estimated_salary  exited  \n",
       "0            101348.88       1  \n",
       "1            112542.58       0  \n",
       "2            113931.57       1  \n",
       "3             93826.63       0  \n",
       "4             79084.10       0  \n",
       "...                ...     ...  \n",
       "9995          96270.64       0  \n",
       "9996         101699.77       0  \n",
       "9997          42085.58       1  \n",
       "9998          92888.52       1  \n",
       "9999          38190.78       0  \n",
       "\n",
       "[10000 rows x 13 columns]"
      ]
     },
     "execution_count": 7,
     "metadata": {},
     "output_type": "execute_result"
    }
   ],
   "source": [
    "data"
   ]
  },
  {
   "cell_type": "code",
   "execution_count": 8,
   "metadata": {},
   "outputs": [
    {
     "name": "stdout",
     "output_type": "stream",
     "text": [
      "<class 'pandas.core.frame.DataFrame'>\n",
      "RangeIndex: 10000 entries, 0 to 9999\n",
      "Data columns (total 13 columns):\n",
      "id                  10000 non-null int64\n",
      "surname             10000 non-null object\n",
      "credit_score        10000 non-null int64\n",
      "geography           10000 non-null object\n",
      "gender              10000 non-null object\n",
      "age                 10000 non-null int64\n",
      "tenure              10000 non-null int64\n",
      "balance             10000 non-null float64\n",
      "num_of_products     10000 non-null int64\n",
      "has_cr_card         10000 non-null int64\n",
      "is_active_member    10000 non-null int64\n",
      "estimated_salary    10000 non-null float64\n",
      "exited              10000 non-null int64\n",
      "dtypes: float64(2), int64(8), object(3)\n",
      "memory usage: 1015.8+ KB\n"
     ]
    }
   ],
   "source": [
    "data.info()"
   ]
  },
  {
   "cell_type": "code",
   "execution_count": 9,
   "metadata": {},
   "outputs": [
    {
     "data": {
      "text/plain": [
       "2     1048\n",
       "1     1035\n",
       "7     1028\n",
       "8     1025\n",
       "5     1012\n",
       "3     1009\n",
       "4      989\n",
       "9      984\n",
       "6      967\n",
       "10     490\n",
       "0      413\n",
       "Name: tenure, dtype: int64"
      ]
     },
     "execution_count": 9,
     "metadata": {},
     "output_type": "execute_result"
    }
   ],
   "source": [
    "data['tenure'].value_counts()"
   ]
  },
  {
   "cell_type": "code",
   "execution_count": 10,
   "metadata": {},
   "outputs": [
    {
     "data": {
      "text/plain": [
       "<matplotlib.axes._subplots.AxesSubplot at 0x291b936c648>"
      ]
     },
     "execution_count": 10,
     "metadata": {},
     "output_type": "execute_result"
    },
    {
     "data": {
      "image/png": "[encoded data removed]",
      "text/plain": [
       "<Figure size 432x288 with 1 Axes>"
      ]
     },
     "metadata": {
      "needs_background": "light"
     },
     "output_type": "display_data"
    }
   ],
   "source": [
    "data['age'].hist()"
   ]
  },
  {
   "cell_type": "code",
   "execution_count": 11,
   "metadata": {},
   "outputs": [
    {
     "data": {
      "text/plain": [
       "0"
      ]
     },
     "execution_count": 11,
     "metadata": {},
     "output_type": "execute_result"
    }
   ],
   "source": [
    "data['age'].isna().sum()"
   ]
  },
  {
   "cell_type": "code",
   "execution_count": 12,
   "metadata": {},
   "outputs": [
    {
     "data": {
      "text/plain": [
       "<matplotlib.axes._subplots.AxesSubplot at 0x291b9c1dd48>"
      ]
     },
     "execution_count": 12,
     "metadata": {},
     "output_type": "execute_result"
    },
    {
     "data": {
      "image/png": "[encoded data removed]",
      "text/plain": [
       "<Figure size 432x288 with 1 Axes>"
      ]
     },
     "metadata": {
      "needs_background": "light"
     },
     "output_type": "display_data"
    }
   ],
   "source": [
    "data['balance'].hist()"
   ]
  },
  {
   "cell_type": "code",
   "execution_count": 13,
   "metadata": {},
   "outputs": [
    {
     "data": {
      "text/plain": [
       "0"
      ]
     },
     "execution_count": 13,
     "metadata": {},
     "output_type": "execute_result"
    }
   ],
   "source": [
    "data['balance'].isna().sum()"
   ]
  },
  {
   "cell_type": "code",
   "execution_count": 14,
   "metadata": {},
   "outputs": [
    {
     "data": {
      "text/plain": [
       "<matplotlib.axes._subplots.AxesSubplot at 0x291b9cd8f08>"
      ]
     },
     "execution_count": 14,
     "metadata": {},
     "output_type": "execute_result"
    },
    {
     "data": {
      "image/png": "[encoded data removed]",
      "text/plain": [
       "<Figure size 432x288 with 1 Axes>"
      ]
     },
     "metadata": {
      "needs_background": "light"
     },
     "output_type": "display_data"
    }
   ],
   "source": [
    "data['credit_score'].hist()"
   ]
  },
  {
   "cell_type": "code",
   "execution_count": 15,
   "metadata": {},
   "outputs": [
    {
     "data": {
      "text/plain": [
       "0"
      ]
     },
     "execution_count": 15,
     "metadata": {},
     "output_type": "execute_result"
    }
   ],
   "source": [
    "data['credit_score'].isna().sum()"
   ]
  },
  {
   "cell_type": "code",
   "execution_count": 16,
   "metadata": {},
   "outputs": [
    {
     "data": {
      "text/plain": [
       "1    5084\n",
       "2    4590\n",
       "3     266\n",
       "4      60\n",
       "Name: num_of_products, dtype: int64"
      ]
     },
     "execution_count": 16,
     "metadata": {},
     "output_type": "execute_result"
    }
   ],
   "source": [
    "data['num_of_products'].value_counts()"
   ]
  },
  {
   "cell_type": "code",
   "execution_count": 17,
   "metadata": {},
   "outputs": [
    {
     "data": {
      "text/plain": [
       "1    7055\n",
       "0    2945\n",
       "Name: has_cr_card, dtype: int64"
      ]
     },
     "execution_count": 17,
     "metadata": {},
     "output_type": "execute_result"
    }
   ],
   "source": [
    "data['has_cr_card'].value_counts()"
   ]
  },
  {
   "cell_type": "code",
   "execution_count": 18,
   "metadata": {},
   "outputs": [
    {
     "data": {
      "text/plain": [
       "1    5151\n",
       "0    4849\n",
       "Name: is_active_member, dtype: int64"
      ]
     },
     "execution_count": 18,
     "metadata": {},
     "output_type": "execute_result"
    }
   ],
   "source": [
    "data['is_active_member'].value_counts()"
   ]
  },
  {
   "cell_type": "code",
   "execution_count": 19,
   "metadata": {},
   "outputs": [
    {
     "data": {
      "text/plain": [
       "<matplotlib.axes._subplots.AxesSubplot at 0x291b9d62888>"
      ]
     },
     "execution_count": 19,
     "metadata": {},
     "output_type": "execute_result"
    },
    {
     "data": {
      "image/png": "[encoded data removed]",
      "text/plain": [
       "<Figure size 432x288 with 1 Axes>"
      ]
     },
     "metadata": {
      "needs_background": "light"
     },
     "output_type": "display_data"
    }
   ],
   "source": [
    "data['estimated_salary'].hist()"
   ]
  },
  {
   "cell_type": "code",
   "execution_count": 20,
   "metadata": {},
   "outputs": [
    {
     "data": {
      "text/plain": [
       "0"
      ]
     },
     "execution_count": 20,
     "metadata": {},
     "output_type": "execute_result"
    }
   ],
   "source": [
    "data['estimated_salary'].isna().sum()"
   ]
  },
  {
   "cell_type": "code",
   "execution_count": 21,
   "metadata": {},
   "outputs": [
    {
     "data": {
      "text/plain": [
       "0    7963\n",
       "1    2037\n",
       "Name: exited, dtype: int64"
      ]
     },
     "execution_count": 21,
     "metadata": {},
     "output_type": "execute_result"
    }
   ],
   "source": [
    "data['exited'].value_counts()"
   ]
  },
  {
   "cell_type": "code",
   "execution_count": 22,
   "metadata": {},
   "outputs": [
    {
     "data": {
      "text/plain": [
       "France     5014\n",
       "Germany    2509\n",
       "Spain      2477\n",
       "Name: geography, dtype: int64"
      ]
     },
     "execution_count": 22,
     "metadata": {},
     "output_type": "execute_result"
    }
   ],
   "source": [
    "data['geography'].value_counts()"
   ]
  },
  {
   "cell_type": "markdown",
   "metadata": {},
   "source": [
    "#### Мы имеем хорошо подготовленные данные, без ошибок, \"подозрительных чисел\", отрицательного возраста и третьего пола. Дропнули колонку RowNumber, поскольку она просто дублировала индексы, и переименовали колонки."
   ]
  },
  {
   "cell_type": "markdown",
   "metadata": {},
   "source": [
    "# 2. Исследование задачи"
   ]
  },
  {
   "cell_type": "markdown",
   "metadata": {},
   "source": [
    "#### Исследуем баланс классов. "
   ]
  },
  {
   "cell_type": "code",
   "execution_count": 23,
   "metadata": {},
   "outputs": [
    {
     "data": {
      "text/plain": [
       "<matplotlib.axes._subplots.AxesSubplot at 0x291b9de3b48>"
      ]
     },
     "execution_count": 23,
     "metadata": {},
     "output_type": "execute_result"
    },
    {
     "data": {
      "image/png": "[encoded data removed]",
      "text/plain": [
       "<Figure size 432x288 with 1 Axes>"
      ]
     },
     "metadata": {
      "needs_background": "light"
     },
     "output_type": "display_data"
    }
   ],
   "source": [
    "data['exited'].hist()"
   ]
  },
  {
   "cell_type": "markdown",
   "metadata": {},
   "source": [
    "Класс \"0\" в 4 раза больше класса \"1\". Явный дисбаланс классов.  "
   ]
  },
  {
   "cell_type": "markdown",
   "metadata": {},
   "source": [
    "Поскольку для предсказывания фамилия и id клиента банка никакой роли не играет - дропнем эти колонки."
   ]
  },
  {
   "cell_type": "code",
   "execution_count": 24,
   "metadata": {},
   "outputs": [
    {
     "data": {
      "text/html": [
       "<div>\n",
       "<style scoped>\n",
       "    .dataframe tbody tr th:only-of-type {\n",
       "        vertical-align: middle;\n",
       "    }\n",
       "\n",
       "    .dataframe tbody tr th {\n",
       "        vertical-align: top;\n",
       "    }\n",
       "\n",
       "    .dataframe thead th {\n",
       "        text-align: right;\n",
       "    }\n",
       "</style>\n",
       "<table border=\"1\" class=\"dataframe\">\n",
       "  <thead>\n",
       "    <tr style=\"text-align: right;\">\n",
       "      <th></th>\n",
       "      <th>id</th>\n",
       "      <th>surname</th>\n",
       "      <th>credit_score</th>\n",
       "      <th>geography</th>\n",
       "      <th>gender</th>\n",
       "      <th>age</th>\n",
       "      <th>tenure</th>\n",
       "      <th>balance</th>\n",
       "      <th>num_of_products</th>\n",
       "      <th>has_cr_card</th>\n",
       "      <th>is_active_member</th>\n",
       "      <th>estimated_salary</th>\n",
       "      <th>exited</th>\n",
       "    </tr>\n",
       "  </thead>\n",
       "  <tbody>\n",
       "    <tr>\n",
       "      <td>0</td>\n",
       "      <td>15634602</td>\n",
       "      <td>Hargrave</td>\n",
       "      <td>619</td>\n",
       "      <td>France</td>\n",
       "      <td>Female</td>\n",
       "      <td>42</td>\n",
       "      <td>2</td>\n",
       "      <td>0.00</td>\n",
       "      <td>1</td>\n",
       "      <td>1</td>\n",
       "      <td>1</td>\n",
       "      <td>101348.88</td>\n",
       "      <td>1</td>\n",
       "    </tr>\n",
       "    <tr>\n",
       "      <td>1</td>\n",
       "      <td>15647311</td>\n",
       "      <td>Hill</td>\n",
       "      <td>608</td>\n",
       "      <td>Spain</td>\n",
       "      <td>Female</td>\n",
       "      <td>41</td>\n",
       "      <td>1</td>\n",
       "      <td>83807.86</td>\n",
       "      <td>1</td>\n",
       "      <td>0</td>\n",
       "      <td>1</td>\n",
       "      <td>112542.58</td>\n",
       "      <td>0</td>\n",
       "    </tr>\n",
       "    <tr>\n",
       "      <td>2</td>\n",
       "      <td>15619304</td>\n",
       "      <td>Onio</td>\n",
       "      <td>502</td>\n",
       "      <td>France</td>\n",
       "      <td>Female</td>\n",
       "      <td>42</td>\n",
       "      <td>8</td>\n",
       "      <td>159660.80</td>\n",
       "      <td>3</td>\n",
       "      <td>1</td>\n",
       "      <td>0</td>\n",
       "      <td>113931.57</td>\n",
       "      <td>1</td>\n",
       "    </tr>\n",
       "    <tr>\n",
       "      <td>3</td>\n",
       "      <td>15701354</td>\n",
       "      <td>Boni</td>\n",
       "      <td>699</td>\n",
       "      <td>France</td>\n",
       "      <td>Female</td>\n",
       "      <td>39</td>\n",
       "      <td>1</td>\n",
       "      <td>0.00</td>\n",
       "      <td>2</td>\n",
       "      <td>0</td>\n",
       "      <td>0</td>\n",
       "      <td>93826.63</td>\n",
       "      <td>0</td>\n",
       "    </tr>\n",
       "    <tr>\n",
       "      <td>4</td>\n",
       "      <td>15737888</td>\n",
       "      <td>Mitchell</td>\n",
       "      <td>850</td>\n",
       "      <td>Spain</td>\n",
       "      <td>Female</td>\n",
       "      <td>43</td>\n",
       "      <td>2</td>\n",
       "      <td>125510.82</td>\n",
       "      <td>1</td>\n",
       "      <td>1</td>\n",
       "      <td>1</td>\n",
       "      <td>79084.10</td>\n",
       "      <td>0</td>\n",
       "    </tr>\n",
       "    <tr>\n",
       "      <td>...</td>\n",
       "      <td>...</td>\n",
       "      <td>...</td>\n",
       "      <td>...</td>\n",
       "      <td>...</td>\n",
       "      <td>...</td>\n",
       "      <td>...</td>\n",
       "      <td>...</td>\n",
       "      <td>...</td>\n",
       "      <td>...</td>\n",
       "      <td>...</td>\n",
       "      <td>...</td>\n",
       "      <td>...</td>\n",
       "      <td>...</td>\n",
       "    </tr>\n",
       "    <tr>\n",
       "      <td>9995</td>\n",
       "      <td>15606229</td>\n",
       "      <td>Obijiaku</td>\n",
       "      <td>771</td>\n",
       "      <td>France</td>\n",
       "      <td>Male</td>\n",
       "      <td>39</td>\n",
       "      <td>5</td>\n",
       "      <td>0.00</td>\n",
       "      <td>2</td>\n",
       "      <td>1</td>\n",
       "      <td>0</td>\n",
       "      <td>96270.64</td>\n",
       "      <td>0</td>\n",
       "    </tr>\n",
       "    <tr>\n",
       "      <td>9996</td>\n",
       "      <td>15569892</td>\n",
       "      <td>Johnstone</td>\n",
       "      <td>516</td>\n",
       "      <td>France</td>\n",
       "      <td>Male</td>\n",
       "      <td>35</td>\n",
       "      <td>10</td>\n",
       "      <td>57369.61</td>\n",
       "      <td>1</td>\n",
       "      <td>1</td>\n",
       "      <td>1</td>\n",
       "      <td>101699.77</td>\n",
       "      <td>0</td>\n",
       "    </tr>\n",
       "    <tr>\n",
       "      <td>9997</td>\n",
       "      <td>15584532</td>\n",
       "      <td>Liu</td>\n",
       "      <td>709</td>\n",
       "      <td>France</td>\n",
       "      <td>Female</td>\n",
       "      <td>36</td>\n",
       "      <td>7</td>\n",
       "      <td>0.00</td>\n",
       "      <td>1</td>\n",
       "      <td>0</td>\n",
       "      <td>1</td>\n",
       "      <td>42085.58</td>\n",
       "      <td>1</td>\n",
       "    </tr>\n",
       "    <tr>\n",
       "      <td>9998</td>\n",
       "      <td>15682355</td>\n",
       "      <td>Sabbatini</td>\n",
       "      <td>772</td>\n",
       "      <td>Germany</td>\n",
       "      <td>Male</td>\n",
       "      <td>42</td>\n",
       "      <td>3</td>\n",
       "      <td>75075.31</td>\n",
       "      <td>2</td>\n",
       "      <td>1</td>\n",
       "      <td>0</td>\n",
       "      <td>92888.52</td>\n",
       "      <td>1</td>\n",
       "    </tr>\n",
       "    <tr>\n",
       "      <td>9999</td>\n",
       "      <td>15628319</td>\n",
       "      <td>Walker</td>\n",
       "      <td>792</td>\n",
       "      <td>France</td>\n",
       "      <td>Female</td>\n",
       "      <td>28</td>\n",
       "      <td>4</td>\n",
       "      <td>130142.79</td>\n",
       "      <td>1</td>\n",
       "      <td>1</td>\n",
       "      <td>0</td>\n",
       "      <td>38190.78</td>\n",
       "      <td>0</td>\n",
       "    </tr>\n",
       "  </tbody>\n",
       "</table>\n",
       "<p>10000 rows × 13 columns</p>\n",
       "</div>"
      ],
      "text/plain": [
       "            id    surname  credit_score geography  gender  age  tenure  \\\n",
       "0     15634602   Hargrave           619    France  Female   42       2   \n",
       "1     15647311       Hill           608     Spain  Female   41       1   \n",
       "2     15619304       Onio           502    France  Female   42       8   \n",
       "3     15701354       Boni           699    France  Female   39       1   \n",
       "4     15737888   Mitchell           850     Spain  Female   43       2   \n",
       "...        ...        ...           ...       ...     ...  ...     ...   \n",
       "9995  15606229   Obijiaku           771    France    Male   39       5   \n",
       "9996  15569892  Johnstone           516    France    Male   35      10   \n",
       "9997  15584532        Liu           709    France  Female   36       7   \n",
       "9998  15682355  Sabbatini           772   Germany    Male   42       3   \n",
       "9999  15628319     Walker           792    France  Female   28       4   \n",
       "\n",
       "        balance  num_of_products  has_cr_card  is_active_member  \\\n",
       "0          0.00                1            1                 1   \n",
       "1      83807.86                1            0                 1   \n",
       "2     159660.80                3            1                 0   \n",
       "3          0.00                2            0                 0   \n",
       "4     125510.82                1            1                 1   \n",
       "...         ...              ...          ...               ...   \n",
       "9995       0.00                2            1                 0   \n",
       "9996   57369.61                1            1                 1   \n",
       "9997       0.00                1            0                 1   \n",
       "9998   75075.31                2            1                 0   \n",
       "9999  130142.79                1            1                 0   \n",
       "\n",
       "      estimated_salary  exited  \n",
       "0            101348.88       1  \n",
       "1            112542.58       0  \n",
       "2            113931.57       1  \n",
       "3             93826.63       0  \n",
       "4             79084.10       0  \n",
       "...                ...     ...  \n",
       "9995          96270.64       0  \n",
       "9996         101699.77       0  \n",
       "9997          42085.58       1  \n",
       "9998          92888.52       1  \n",
       "9999          38190.78       0  \n",
       "\n",
       "[10000 rows x 13 columns]"
      ]
     },
     "execution_count": 24,
     "metadata": {},
     "output_type": "execute_result"
    }
   ],
   "source": [
    "data"
   ]
  },
  {
   "cell_type": "code",
   "execution_count": 25,
   "metadata": {},
   "outputs": [],
   "source": [
    "data = data.drop(['surname'], axis=1)"
   ]
  },
  {
   "cell_type": "code",
   "execution_count": 26,
   "metadata": {},
   "outputs": [],
   "source": [
    "data = data.drop(['id'], axis=1)"
   ]
  },
  {
   "cell_type": "markdown",
   "metadata": {},
   "source": [
    "Преобразуем категориальные признаки в колонке gender и geography в численные с помощью OHE."
   ]
  },
  {
   "cell_type": "code",
   "execution_count": 27,
   "metadata": {},
   "outputs": [],
   "source": [
    "data = pd.get_dummies(data)"
   ]
  },
  {
   "cell_type": "code",
   "execution_count": 28,
   "metadata": {},
   "outputs": [
    {
     "data": {
      "text/html": [
       "<div>\n",
       "<style scoped>\n",
       "    .dataframe tbody tr th:only-of-type {\n",
       "        vertical-align: middle;\n",
       "    }\n",
       "\n",
       "    .dataframe tbody tr th {\n",
       "        vertical-align: top;\n",
       "    }\n",
       "\n",
       "    .dataframe thead th {\n",
       "        text-align: right;\n",
       "    }\n",
       "</style>\n",
       "<table border=\"1\" class=\"dataframe\">\n",
       "  <thead>\n",
       "    <tr style=\"text-align: right;\">\n",
       "      <th></th>\n",
       "      <th>credit_score</th>\n",
       "      <th>age</th>\n",
       "      <th>tenure</th>\n",
       "      <th>balance</th>\n",
       "      <th>num_of_products</th>\n",
       "      <th>has_cr_card</th>\n",
       "      <th>is_active_member</th>\n",
       "      <th>estimated_salary</th>\n",
       "      <th>exited</th>\n",
       "      <th>geography_France</th>\n",
       "      <th>geography_Germany</th>\n",
       "      <th>geography_Spain</th>\n",
       "      <th>gender_Female</th>\n",
       "      <th>gender_Male</th>\n",
       "    </tr>\n",
       "  </thead>\n",
       "  <tbody>\n",
       "    <tr>\n",
       "      <td>0</td>\n",
       "      <td>619</td>\n",
       "      <td>42</td>\n",
       "      <td>2</td>\n",
       "      <td>0.00</td>\n",
       "      <td>1</td>\n",
       "      <td>1</td>\n",
       "      <td>1</td>\n",
       "      <td>101348.88</td>\n",
       "      <td>1</td>\n",
       "      <td>1</td>\n",
       "      <td>0</td>\n",
       "      <td>0</td>\n",
       "      <td>1</td>\n",
       "      <td>0</td>\n",
       "    </tr>\n",
       "    <tr>\n",
       "      <td>1</td>\n",
       "      <td>608</td>\n",
       "      <td>41</td>\n",
       "      <td>1</td>\n",
       "      <td>83807.86</td>\n",
       "      <td>1</td>\n",
       "      <td>0</td>\n",
       "      <td>1</td>\n",
       "      <td>112542.58</td>\n",
       "      <td>0</td>\n",
       "      <td>0</td>\n",
       "      <td>0</td>\n",
       "      <td>1</td>\n",
       "      <td>1</td>\n",
       "      <td>0</td>\n",
       "    </tr>\n",
       "    <tr>\n",
       "      <td>2</td>\n",
       "      <td>502</td>\n",
       "      <td>42</td>\n",
       "      <td>8</td>\n",
       "      <td>159660.80</td>\n",
       "      <td>3</td>\n",
       "      <td>1</td>\n",
       "      <td>0</td>\n",
       "      <td>113931.57</td>\n",
       "      <td>1</td>\n",
       "      <td>1</td>\n",
       "      <td>0</td>\n",
       "      <td>0</td>\n",
       "      <td>1</td>\n",
       "      <td>0</td>\n",
       "    </tr>\n",
       "    <tr>\n",
       "      <td>3</td>\n",
       "      <td>699</td>\n",
       "      <td>39</td>\n",
       "      <td>1</td>\n",
       "      <td>0.00</td>\n",
       "      <td>2</td>\n",
       "      <td>0</td>\n",
       "      <td>0</td>\n",
       "      <td>93826.63</td>\n",
       "      <td>0</td>\n",
       "      <td>1</td>\n",
       "      <td>0</td>\n",
       "      <td>0</td>\n",
       "      <td>1</td>\n",
       "      <td>0</td>\n",
       "    </tr>\n",
       "    <tr>\n",
       "      <td>4</td>\n",
       "      <td>850</td>\n",
       "      <td>43</td>\n",
       "      <td>2</td>\n",
       "      <td>125510.82</td>\n",
       "      <td>1</td>\n",
       "      <td>1</td>\n",
       "      <td>1</td>\n",
       "      <td>79084.10</td>\n",
       "      <td>0</td>\n",
       "      <td>0</td>\n",
       "      <td>0</td>\n",
       "      <td>1</td>\n",
       "      <td>1</td>\n",
       "      <td>0</td>\n",
       "    </tr>\n",
       "    <tr>\n",
       "      <td>...</td>\n",
       "      <td>...</td>\n",
       "      <td>...</td>\n",
       "      <td>...</td>\n",
       "      <td>...</td>\n",
       "      <td>...</td>\n",
       "      <td>...</td>\n",
       "      <td>...</td>\n",
       "      <td>...</td>\n",
       "      <td>...</td>\n",
       "      <td>...</td>\n",
       "      <td>...</td>\n",
       "      <td>...</td>\n",
       "      <td>...</td>\n",
       "      <td>...</td>\n",
       "    </tr>\n",
       "    <tr>\n",
       "      <td>9995</td>\n",
       "      <td>771</td>\n",
       "      <td>39</td>\n",
       "      <td>5</td>\n",
       "      <td>0.00</td>\n",
       "      <td>2</td>\n",
       "      <td>1</td>\n",
       "      <td>0</td>\n",
       "      <td>96270.64</td>\n",
       "      <td>0</td>\n",
       "      <td>1</td>\n",
       "      <td>0</td>\n",
       "      <td>0</td>\n",
       "      <td>0</td>\n",
       "      <td>1</td>\n",
       "    </tr>\n",
       "    <tr>\n",
       "      <td>9996</td>\n",
       "      <td>516</td>\n",
       "      <td>35</td>\n",
       "      <td>10</td>\n",
       "      <td>57369.61</td>\n",
       "      <td>1</td>\n",
       "      <td>1</td>\n",
       "      <td>1</td>\n",
       "      <td>101699.77</td>\n",
       "      <td>0</td>\n",
       "      <td>1</td>\n",
       "      <td>0</td>\n",
       "      <td>0</td>\n",
       "      <td>0</td>\n",
       "      <td>1</td>\n",
       "    </tr>\n",
       "    <tr>\n",
       "      <td>9997</td>\n",
       "      <td>709</td>\n",
       "      <td>36</td>\n",
       "      <td>7</td>\n",
       "      <td>0.00</td>\n",
       "      <td>1</td>\n",
       "      <td>0</td>\n",
       "      <td>1</td>\n",
       "      <td>42085.58</td>\n",
       "      <td>1</td>\n",
       "      <td>1</td>\n",
       "      <td>0</td>\n",
       "      <td>0</td>\n",
       "      <td>1</td>\n",
       "      <td>0</td>\n",
       "    </tr>\n",
       "    <tr>\n",
       "      <td>9998</td>\n",
       "      <td>772</td>\n",
       "      <td>42</td>\n",
       "      <td>3</td>\n",
       "      <td>75075.31</td>\n",
       "      <td>2</td>\n",
       "      <td>1</td>\n",
       "      <td>0</td>\n",
       "      <td>92888.52</td>\n",
       "      <td>1</td>\n",
       "      <td>0</td>\n",
       "      <td>1</td>\n",
       "      <td>0</td>\n",
       "      <td>0</td>\n",
       "      <td>1</td>\n",
       "    </tr>\n",
       "    <tr>\n",
       "      <td>9999</td>\n",
       "      <td>792</td>\n",
       "      <td>28</td>\n",
       "      <td>4</td>\n",
       "      <td>130142.79</td>\n",
       "      <td>1</td>\n",
       "      <td>1</td>\n",
       "      <td>0</td>\n",
       "      <td>38190.78</td>\n",
       "      <td>0</td>\n",
       "      <td>1</td>\n",
       "      <td>0</td>\n",
       "      <td>0</td>\n",
       "      <td>1</td>\n",
       "      <td>0</td>\n",
       "    </tr>\n",
       "  </tbody>\n",
       "</table>\n",
       "<p>10000 rows × 14 columns</p>\n",
       "</div>"
      ],
      "text/plain": [
       "      credit_score  age  tenure    balance  num_of_products  has_cr_card  \\\n",
       "0              619   42       2       0.00                1            1   \n",
       "1              608   41       1   83807.86                1            0   \n",
       "2              502   42       8  159660.80                3            1   \n",
       "3              699   39       1       0.00                2            0   \n",
       "4              850   43       2  125510.82                1            1   \n",
       "...            ...  ...     ...        ...              ...          ...   \n",
       "9995           771   39       5       0.00                2            1   \n",
       "9996           516   35      10   57369.61                1            1   \n",
       "9997           709   36       7       0.00                1            0   \n",
       "9998           772   42       3   75075.31                2            1   \n",
       "9999           792   28       4  130142.79                1            1   \n",
       "\n",
       "      is_active_member  estimated_salary  exited  geography_France  \\\n",
       "0                    1         101348.88       1                 1   \n",
       "1                    1         112542.58       0                 0   \n",
       "2                    0         113931.57       1                 1   \n",
       "3                    0          93826.63       0                 1   \n",
       "4                    1          79084.10       0                 0   \n",
       "...                ...               ...     ...               ...   \n",
       "9995                 0          96270.64       0                 1   \n",
       "9996                 1         101699.77       0                 1   \n",
       "9997                 1          42085.58       1                 1   \n",
       "9998                 0          92888.52       1                 0   \n",
       "9999                 0          38190.78       0                 1   \n",
       "\n",
       "      geography_Germany  geography_Spain  gender_Female  gender_Male  \n",
       "0                     0                0              1            0  \n",
       "1                     0                1              1            0  \n",
       "2                     0                0              1            0  \n",
       "3                     0                0              1            0  \n",
       "4                     0                1              1            0  \n",
       "...                 ...              ...            ...          ...  \n",
       "9995                  0                0              0            1  \n",
       "9996                  0                0              0            1  \n",
       "9997                  0                0              1            0  \n",
       "9998                  1                0              0            1  \n",
       "9999                  0                0              1            0  \n",
       "\n",
       "[10000 rows x 14 columns]"
      ]
     },
     "execution_count": 28,
     "metadata": {},
     "output_type": "execute_result"
    }
   ],
   "source": [
    "data"
   ]
  },
  {
   "cell_type": "markdown",
   "metadata": {},
   "source": [
    "Поделим выборку на обучающую, валидационную и тестовую. Сделаем это так: разделим выборку на обучающую(60%) и тестовую(40%), а затем тестовую поделить пополам на тестовую(20%) и валидационную(20%)."
   ]
  },
  {
   "cell_type": "code",
   "execution_count": 29,
   "metadata": {},
   "outputs": [],
   "source": [
    "train_data, test_data = train_test_split(data, test_size=0.4, random_state=45)"
   ]
  },
  {
   "cell_type": "code",
   "execution_count": 30,
   "metadata": {},
   "outputs": [],
   "source": [
    "test_data, valid_data = train_test_split(test_data, test_size=0.5, random_state=45)"
   ]
  },
  {
   "cell_type": "code",
   "execution_count": 31,
   "metadata": {},
   "outputs": [
    {
     "data": {
      "text/plain": [
       "<matplotlib.axes._subplots.AxesSubplot at 0x291b9e97e08>"
      ]
     },
     "execution_count": 31,
     "metadata": {},
     "output_type": "execute_result"
    },
    {
     "data": {
      "image/png": "[encoded data removed]",
      "text/plain": [
       "<Figure size 432x288 with 1 Axes>"
      ]
     },
     "metadata": {
      "needs_background": "light"
     },
     "output_type": "display_data"
    }
   ],
   "source": [
    "train_data['exited'].hist()"
   ]
  },
  {
   "cell_type": "code",
   "execution_count": 32,
   "metadata": {},
   "outputs": [
    {
     "data": {
      "text/plain": [
       "<matplotlib.axes._subplots.AxesSubplot at 0x291b9f07c48>"
      ]
     },
     "execution_count": 32,
     "metadata": {},
     "output_type": "execute_result"
    },
    {
     "data": {
      "image/png": "[encoded data removed]",
      "text/plain": [
       "<Figure size 432x288 with 1 Axes>"
      ]
     },
     "metadata": {
      "needs_background": "light"
     },
     "output_type": "display_data"
    }
   ],
   "source": [
    "valid_data['exited'].hist()"
   ]
  },
  {
   "cell_type": "markdown",
   "metadata": {},
   "source": [
    "Целевой признак - факт ухода клиента."
   ]
  },
  {
   "cell_type": "code",
   "execution_count": 33,
   "metadata": {},
   "outputs": [],
   "source": [
    "train_target = train_data['exited']\n",
    "train_features = train_data.drop(['exited'], axis=1)\n",
    "valid_target = valid_data['exited']\n",
    "valid_features = valid_data.drop(['exited'], axis=1)"
   ]
  },
  {
   "cell_type": "markdown",
   "metadata": {},
   "source": [
    "#### Логистическая регрессия."
   ]
  },
  {
   "cell_type": "code",
   "execution_count": 34,
   "metadata": {},
   "outputs": [],
   "source": [
    "log_regr_model = LogisticRegression(random_state=45, solver='liblinear')"
   ]
  },
  {
   "cell_type": "code",
   "execution_count": 35,
   "metadata": {},
   "outputs": [
    {
     "data": {
      "text/plain": [
       "LogisticRegression(C=1.0, class_weight=None, dual=False, fit_intercept=True,\n",
       "                   intercept_scaling=1, l1_ratio=None, max_iter=100,\n",
       "                   multi_class='warn', n_jobs=None, penalty='l2',\n",
       "                   random_state=45, solver='liblinear', tol=0.0001, verbose=0,\n",
       "                   warm_start=False)"
      ]
     },
     "execution_count": 35,
     "metadata": {},
     "output_type": "execute_result"
    }
   ],
   "source": [
    "log_regr_model.fit(train_features, train_target)"
   ]
  },
  {
   "cell_type": "code",
   "execution_count": 36,
   "metadata": {},
   "outputs": [],
   "source": [
    "train_pred_logregr = log_regr_model.predict(train_features)\n",
    "valid_pred_logregr = log_regr_model.predict(valid_features)\n",
    "probabilities_train = log_regr_model.predict_proba(train_features)\n",
    "probabilities_valid = log_regr_model.predict_proba(valid_features)"
   ]
  },
  {
   "cell_type": "code",
   "execution_count": 37,
   "metadata": {},
   "outputs": [
    {
     "name": "stdout",
     "output_type": "stream",
     "text": [
      "F1 score:\n",
      "Обучающая выборка: 0.7935\n",
      "Валидационная выборка: 0.7895\n"
     ]
    }
   ],
   "source": [
    "print('F1 score:')\n",
    "print('Обучающая выборка:', f1_score(train_target, train_pred_logregr, average='micro'))\n",
    "print('Валидационная выборка:', f1_score(valid_target, valid_pred_logregr, average='micro'))"
   ]
  },
  {
   "cell_type": "code",
   "execution_count": 38,
   "metadata": {},
   "outputs": [
    {
     "name": "stdout",
     "output_type": "stream",
     "text": [
      "AUC-ROC:\n",
      "Обучающая выборка: 0.6717592049932064\n",
      "Валидационная выборка: 0.6610208638078374\n"
     ]
    }
   ],
   "source": [
    "print('AUC-ROC:')\n",
    "print('Обучающая выборка:', roc_auc_score(train_target, probabilities_train[:,1], average='micro'))\n",
    "print('Валидационная выборка:', roc_auc_score(valid_target, probabilities_valid[:,1], average='micro'))"
   ]
  },
  {
   "cell_type": "code",
   "execution_count": 39,
   "metadata": {},
   "outputs": [
    {
     "name": "stdout",
     "output_type": "stream",
     "text": [
      "Accuracy:\n",
      "Обучающая выборка: 0.7935\n",
      "Валидационная ввыборка: 0.7895\n"
     ]
    }
   ],
   "source": [
    "print('Accuracy:')\n",
    "print('Обучающая выборка:', accuracy_score(train_target, train_pred_logregr))\n",
    "print('Валидационная ввыборка:', accuracy_score(valid_target, valid_pred_logregr))"
   ]
  },
  {
   "cell_type": "code",
   "execution_count": 40,
   "metadata": {},
   "outputs": [
    {
     "data": {
      "image/png": "[encoded data removed]",
      "text/plain": [
       "<Figure size 432x288 with 1 Axes>"
      ]
     },
     "metadata": {
      "needs_background": "light"
     },
     "output_type": "display_data"
    }
   ],
   "source": [
    "fpr, tpr, thresholds = roc_curve(valid_target,probabilities_valid[:,1])\n",
    "plt.figure()\n",
    "plt.plot(fpr, tpr)\n",
    "plt.plot([0, 1], [0, 1], linestyle='--')\n",
    "plt.xlim([0.0, 1.0])\n",
    "plt.ylim([0.0, 1.0])\n",
    "plt.xlabel('False Positive Rate')\n",
    "plt.ylabel('True Positive Rate')\n",
    "plt.title('ROC-кривая')\n",
    "plt.show()"
   ]
  },
  {
   "cell_type": "code",
   "execution_count": 41,
   "metadata": {},
   "outputs": [
    {
     "data": {
      "text/plain": [
       "array([[1553,   28],\n",
       "       [ 393,   26]], dtype=int64)"
      ]
     },
     "execution_count": 41,
     "metadata": {},
     "output_type": "execute_result"
    }
   ],
   "source": [
    "confusion_matrix(valid_target, valid_pred_logregr)"
   ]
  },
  {
   "cell_type": "markdown",
   "metadata": {},
   "source": [
    "Обученная на такой несбалансированной выборке модель логистической регресии не смогла адекватно предсказать положительные ответы. При этом, так как в обучающей выборке много отрицательных ответов, F1 мера имеет довольно высокое значение, поскольку, чем больше отрицтельных ответов, тем больше среди них истинно отрицтельных она находит."
   ]
  },
  {
   "cell_type": "code",
   "execution_count": 42,
   "metadata": {},
   "outputs": [
    {
     "data": {
      "text/plain": [
       "<matplotlib.axes._subplots.AxesSubplot at 0x291b9fe8a48>"
      ]
     },
     "execution_count": 42,
     "metadata": {},
     "output_type": "execute_result"
    },
    {
     "data": {
      "image/png": "[encoded data removed]",
      "text/plain": [
       "<Figure size 432x288 with 1 Axes>"
      ]
     },
     "metadata": {
      "needs_background": "light"
     },
     "output_type": "display_data"
    }
   ],
   "source": [
    "valid_target.hist()"
   ]
  },
  {
   "cell_type": "markdown",
   "metadata": {},
   "source": [
    "#### Дерево решений."
   ]
  },
  {
   "cell_type": "code",
   "execution_count": 43,
   "metadata": {},
   "outputs": [],
   "source": [
    "from sklearn.tree import DecisionTreeClassifier"
   ]
  },
  {
   "cell_type": "markdown",
   "metadata": {},
   "source": [
    "Подберем гиперпарамерты по величине accuracy."
   ]
  },
  {
   "cell_type": "code",
   "execution_count": 44,
   "metadata": {
    "scrolled": true
   },
   "outputs": [
    {
     "name": "stdout",
     "output_type": "stream",
     "text": [
      "max_depth= 2 min_samples_leaf = 2  -- Об. выборка: 0.8298333333333333 , Вал. выборка: 0.8265\n",
      "max_depth= 2 min_samples_leaf = 3  -- Об. выборка: 0.8298333333333333 , Вал. выборка: 0.8265\n",
      "max_depth= 2 min_samples_leaf = 4  -- Об. выборка: 0.8298333333333333 , Вал. выборка: 0.8265\n",
      "max_depth= 2 min_samples_leaf = 5  -- Об. выборка: 0.8298333333333333 , Вал. выборка: 0.8265\n",
      "max_depth= 2 min_samples_leaf = 6  -- Об. выборка: 0.8298333333333333 , Вал. выборка: 0.8265\n",
      "max_depth= 2 min_samples_leaf = 7  -- Об. выборка: 0.8298333333333333 , Вал. выборка: 0.8265\n",
      "max_depth= 2 min_samples_leaf = 8  -- Об. выборка: 0.8298333333333333 , Вал. выборка: 0.8265\n",
      "max_depth= 2 min_samples_leaf = 9  -- Об. выборка: 0.8298333333333333 , Вал. выборка: 0.8265\n",
      "max_depth= 2 min_samples_leaf = 10  -- Об. выборка: 0.8298333333333333 , Вал. выборка: 0.8265\n",
      "max_depth= 3 min_samples_leaf = 2  -- Об. выборка: 0.8418333333333333 , Вал. выборка: 0.8345\n",
      "max_depth= 3 min_samples_leaf = 3  -- Об. выборка: 0.8418333333333333 , Вал. выборка: 0.8345\n",
      "max_depth= 3 min_samples_leaf = 4  -- Об. выборка: 0.8418333333333333 , Вал. выборка: 0.8345\n",
      "max_depth= 3 min_samples_leaf = 5  -- Об. выборка: 0.8418333333333333 , Вал. выборка: 0.8345\n",
      "max_depth= 3 min_samples_leaf = 6  -- Об. выборка: 0.8418333333333333 , Вал. выборка: 0.8345\n",
      "max_depth= 3 min_samples_leaf = 7  -- Об. выборка: 0.8418333333333333 , Вал. выборка: 0.8345\n",
      "max_depth= 3 min_samples_leaf = 8  -- Об. выборка: 0.8418333333333333 , Вал. выборка: 0.8345\n",
      "max_depth= 3 min_samples_leaf = 9  -- Об. выборка: 0.8418333333333333 , Вал. выборка: 0.8345\n",
      "max_depth= 3 min_samples_leaf = 10  -- Об. выборка: 0.8418333333333333 , Вал. выборка: 0.8345\n",
      "max_depth= 4 min_samples_leaf = 2  -- Об. выборка: 0.8556666666666667 , Вал. выборка: 0.8405\n",
      "max_depth= 4 min_samples_leaf = 3  -- Об. выборка: 0.8556666666666667 , Вал. выборка: 0.841\n",
      "max_depth= 4 min_samples_leaf = 4  -- Об. выборка: 0.8555 , Вал. выборка: 0.841\n",
      "max_depth= 4 min_samples_leaf = 5  -- Об. выборка: 0.8553333333333333 , Вал. выборка: 0.841\n",
      "max_depth= 4 min_samples_leaf = 6  -- Об. выборка: 0.8551666666666666 , Вал. выборка: 0.841\n",
      "max_depth= 4 min_samples_leaf = 7  -- Об. выборка: 0.8551666666666666 , Вал. выборка: 0.8415\n",
      "max_depth= 4 min_samples_leaf = 8  -- Об. выборка: 0.8551666666666666 , Вал. выборка: 0.8415\n",
      "max_depth= 4 min_samples_leaf = 9  -- Об. выборка: 0.8538333333333333 , Вал. выборка: 0.8415\n",
      "max_depth= 4 min_samples_leaf = 10  -- Об. выборка: 0.8538333333333333 , Вал. выборка: 0.8415\n",
      "max_depth= 5 min_samples_leaf = 2  -- Об. выборка: 0.8616666666666667 , Вал. выборка: 0.843\n",
      "max_depth= 5 min_samples_leaf = 3  -- Об. выборка: 0.8618333333333333 , Вал. выборка: 0.8425\n",
      "max_depth= 5 min_samples_leaf = 4  -- Об. выборка: 0.8613333333333333 , Вал. выборка: 0.843\n",
      "max_depth= 5 min_samples_leaf = 5  -- Об. выборка: 0.8608333333333333 , Вал. выборка: 0.844\n",
      "max_depth= 5 min_samples_leaf = 6  -- Об. выборка: 0.8606666666666667 , Вал. выборка: 0.844\n",
      "max_depth= 5 min_samples_leaf = 7  -- Об. выборка: 0.86 , Вал. выборка: 0.844\n",
      "max_depth= 5 min_samples_leaf = 8  -- Об. выборка: 0.86 , Вал. выборка: 0.844\n",
      "max_depth= 5 min_samples_leaf = 9  -- Об. выборка: 0.8586666666666667 , Вал. выборка: 0.844\n",
      "max_depth= 5 min_samples_leaf = 10  -- Об. выборка: 0.8586666666666667 , Вал. выборка: 0.844\n",
      "max_depth= 6 min_samples_leaf = 2  -- Об. выборка: 0.871 , Вал. выборка: 0.849\n",
      "max_depth= 6 min_samples_leaf = 3  -- Об. выборка: 0.8708333333333333 , Вал. выборка: 0.849\n",
      "max_depth= 6 min_samples_leaf = 4  -- Об. выборка: 0.8705 , Вал. выборка: 0.849\n",
      "max_depth= 6 min_samples_leaf = 5  -- Об. выборка: 0.8705 , Вал. выборка: 0.8485\n",
      "max_depth= 6 min_samples_leaf = 6  -- Об. выборка: 0.8703333333333333 , Вал. выборка: 0.8485\n",
      "max_depth= 6 min_samples_leaf = 7  -- Об. выборка: 0.8695 , Вал. выборка: 0.8475\n",
      "max_depth= 6 min_samples_leaf = 8  -- Об. выборка: 0.8691666666666666 , Вал. выборка: 0.8475\n",
      "max_depth= 6 min_samples_leaf = 9  -- Об. выборка: 0.8675 , Вал. выборка: 0.851\n",
      "max_depth= 6 min_samples_leaf = 10  -- Об. выборка: 0.8675 , Вал. выборка: 0.851\n",
      "max_depth= 7 min_samples_leaf = 2  -- Об. выборка: 0.8771666666666667 , Вал. выборка: 0.8475\n",
      "max_depth= 7 min_samples_leaf = 3  -- Об. выборка: 0.8763333333333333 , Вал. выборка: 0.8445\n",
      "max_depth= 7 min_samples_leaf = 4  -- Об. выборка: 0.8753333333333333 , Вал. выборка: 0.8455\n",
      "max_depth= 7 min_samples_leaf = 5  -- Об. выборка: 0.8748333333333334 , Вал. выборка: 0.8455\n",
      "max_depth= 7 min_samples_leaf = 6  -- Об. выборка: 0.8745 , Вал. выборка: 0.8465\n",
      "max_depth= 7 min_samples_leaf = 7  -- Об. выборка: 0.8736666666666667 , Вал. выборка: 0.8465\n",
      "max_depth= 7 min_samples_leaf = 8  -- Об. выборка: 0.873 , Вал. выборка: 0.8455\n",
      "max_depth= 7 min_samples_leaf = 9  -- Об. выборка: 0.8731666666666666 , Вал. выборка: 0.8505\n",
      "max_depth= 7 min_samples_leaf = 10  -- Об. выборка: 0.8731666666666666 , Вал. выборка: 0.8505\n",
      "max_depth= 8 min_samples_leaf = 2  -- Об. выборка: 0.8853333333333333 , Вал. выборка: 0.851\n",
      "max_depth= 8 min_samples_leaf = 3  -- Об. выборка: 0.8848333333333334 , Вал. выборка: 0.849\n",
      "max_depth= 8 min_samples_leaf = 4  -- Об. выборка: 0.8833333333333333 , Вал. выборка: 0.8515\n",
      "max_depth= 8 min_samples_leaf = 5  -- Об. выборка: 0.8826666666666667 , Вал. выборка: 0.853\n",
      "max_depth= 8 min_samples_leaf = 6  -- Об. выборка: 0.882 , Вал. выборка: 0.855\n",
      "max_depth= 8 min_samples_leaf = 7  -- Об. выборка: 0.8813333333333333 , Вал. выборка: 0.854\n",
      "max_depth= 8 min_samples_leaf = 8  -- Об. выборка: 0.8803333333333333 , Вал. выборка: 0.851\n",
      "max_depth= 8 min_samples_leaf = 9  -- Об. выборка: 0.8795 , Вал. выборка: 0.853\n",
      "max_depth= 8 min_samples_leaf = 10  -- Об. выборка: 0.8793333333333333 , Вал. выборка: 0.853\n",
      "max_depth= 9 min_samples_leaf = 2  -- Об. выборка: 0.8965 , Вал. выборка: 0.846\n",
      "max_depth= 9 min_samples_leaf = 3  -- Об. выборка: 0.8958333333333334 , Вал. выборка: 0.8415\n",
      "max_depth= 9 min_samples_leaf = 4  -- Об. выборка: 0.8931666666666667 , Вал. выборка: 0.844\n",
      "max_depth= 9 min_samples_leaf = 5  -- Об. выборка: 0.8923333333333333 , Вал. выборка: 0.8485\n",
      "max_depth= 9 min_samples_leaf = 6  -- Об. выборка: 0.8906666666666667 , Вал. выборка: 0.8515\n",
      "max_depth= 9 min_samples_leaf = 7  -- Об. выборка: 0.8896666666666667 , Вал. выборка: 0.85\n",
      "max_depth= 9 min_samples_leaf = 8  -- Об. выборка: 0.889 , Вал. выборка: 0.845\n",
      "max_depth= 9 min_samples_leaf = 9  -- Об. выборка: 0.8883333333333333 , Вал. выборка: 0.8455\n",
      "max_depth= 9 min_samples_leaf = 10  -- Об. выборка: 0.8868333333333334 , Вал. выборка: 0.843\n",
      "max_depth= 10 min_samples_leaf = 2  -- Об. выборка: 0.9066666666666666 , Вал. выборка: 0.831\n",
      "max_depth= 10 min_samples_leaf = 3  -- Об. выборка: 0.904 , Вал. выборка: 0.8295\n",
      "max_depth= 10 min_samples_leaf = 4  -- Об. выборка: 0.8988333333333334 , Вал. выборка: 0.832\n",
      "max_depth= 10 min_samples_leaf = 5  -- Об. выборка: 0.8983333333333333 , Вал. выборка: 0.841\n",
      "max_depth= 10 min_samples_leaf = 6  -- Об. выборка: 0.8958333333333334 , Вал. выборка: 0.8455\n",
      "max_depth= 10 min_samples_leaf = 7  -- Об. выборка: 0.8935 , Вал. выборка: 0.8445\n",
      "max_depth= 10 min_samples_leaf = 8  -- Об. выборка: 0.8935 , Вал. выборка: 0.841\n",
      "max_depth= 10 min_samples_leaf = 9  -- Об. выборка: 0.8911666666666667 , Вал. выборка: 0.846\n",
      "max_depth= 10 min_samples_leaf = 10  -- Об. выборка: 0.889 , Вал. выборка: 0.8455\n"
     ]
    }
   ],
   "source": [
    "for depth in range(2, 11):\n",
    "    for samples in range(2, 11):\n",
    "        model = DecisionTreeClassifier(random_state=45, max_depth=depth, min_samples_leaf = samples)\n",
    "        model.fit(train_features, train_target)\n",
    "        valid_prediction = model.predict(valid_features)\n",
    "        train_prediction = model.predict(train_features)\n",
    "        print('max_depth=', depth, \"min_samples_leaf =\", samples, \" -- \", end='')\n",
    "        print('Об. выборка:', accuracy_score(train_target, train_prediction), ',','Вал. выборка:', accuracy_score(valid_target, valid_prediction))"
   ]
  },
  {
   "cell_type": "code",
   "execution_count": 45,
   "metadata": {},
   "outputs": [],
   "source": [
    "model_des_tree = DecisionTreeClassifier(random_state=45, max_depth=7, min_samples_leaf =10)"
   ]
  },
  {
   "cell_type": "code",
   "execution_count": 46,
   "metadata": {},
   "outputs": [
    {
     "data": {
      "text/plain": [
       "DecisionTreeClassifier(class_weight=None, criterion='gini', max_depth=7,\n",
       "                       max_features=None, max_leaf_nodes=None,\n",
       "                       min_impurity_decrease=0.0, min_impurity_split=None,\n",
       "                       min_samples_leaf=10, min_samples_split=2,\n",
       "                       min_weight_fraction_leaf=0.0, presort=False,\n",
       "                       random_state=45, splitter='best')"
      ]
     },
     "execution_count": 46,
     "metadata": {},
     "output_type": "execute_result"
    }
   ],
   "source": [
    "model_des_tree.fit(train_features, train_target)"
   ]
  },
  {
   "cell_type": "code",
   "execution_count": 47,
   "metadata": {},
   "outputs": [],
   "source": [
    "train_pred_des_tree = model_des_tree.predict(train_features)"
   ]
  },
  {
   "cell_type": "code",
   "execution_count": 48,
   "metadata": {},
   "outputs": [],
   "source": [
    "valid_pred_des_tree = model_des_tree.predict(valid_features)"
   ]
  },
  {
   "cell_type": "code",
   "execution_count": 49,
   "metadata": {},
   "outputs": [
    {
     "name": "stdout",
     "output_type": "stream",
     "text": [
      "F1 score:\n",
      "Обучающая выборка: 0.8731666666666666\n",
      "Валидационная выборка: 0.8505\n"
     ]
    }
   ],
   "source": [
    "print('F1 score:')\n",
    "print('Обучающая выборка:', f1_score(train_target, train_pred_des_tree, average='micro'))\n",
    "print('Валидационная выборка:', f1_score(valid_target, valid_pred_des_tree, average='micro'))"
   ]
  },
  {
   "cell_type": "code",
   "execution_count": 50,
   "metadata": {},
   "outputs": [],
   "source": [
    "proba_train_des_tree = model_des_tree.predict_proba(train_features)"
   ]
  },
  {
   "cell_type": "code",
   "execution_count": 51,
   "metadata": {},
   "outputs": [],
   "source": [
    "proba_valid_des_tree = model_des_tree.predict_proba(valid_features)"
   ]
  },
  {
   "cell_type": "code",
   "execution_count": 52,
   "metadata": {},
   "outputs": [
    {
     "name": "stdout",
     "output_type": "stream",
     "text": [
      "AUC-ROC:\n",
      "Обучающая выборка: 0.8809222020545167\n",
      "Валидационная выборка: 0.8383971958172752\n"
     ]
    }
   ],
   "source": [
    "print('AUC-ROC:')\n",
    "print('Обучающая выборка:', roc_auc_score(train_target, proba_train_des_tree[:,1], average='micro'))\n",
    "print('Валидационная выборка:', roc_auc_score(valid_target, proba_valid_des_tree[:,1], average='micro'))"
   ]
  },
  {
   "cell_type": "code",
   "execution_count": 53,
   "metadata": {},
   "outputs": [
    {
     "data": {
      "image/png": "[encoded data removed]",
      "text/plain": [
       "<Figure size 432x288 with 1 Axes>"
      ]
     },
     "metadata": {
      "needs_background": "light"
     },
     "output_type": "display_data"
    }
   ],
   "source": [
    "fpr_dt, tpr_dt, thresholds_dt = roc_curve(valid_target, proba_valid_des_tree[:,1])\n",
    "plt.figure()\n",
    "plt.plot(fpr_dt, tpr_dt)\n",
    "plt.plot([0, 1], [0, 1], linestyle='--')\n",
    "plt.xlim([0.0, 1.0])\n",
    "plt.ylim([0.0, 1.0])\n",
    "plt.xlabel('False Positive Rate')\n",
    "plt.ylabel('True Positive Rate')\n",
    "plt.title('ROC-кривая')\n",
    "plt.show()"
   ]
  },
  {
   "cell_type": "code",
   "execution_count": 54,
   "metadata": {},
   "outputs": [
    {
     "data": {
      "text/plain": [
       "array([[1530,   51],\n",
       "       [ 248,  171]], dtype=int64)"
      ]
     },
     "execution_count": 54,
     "metadata": {},
     "output_type": "execute_result"
    }
   ],
   "source": [
    "confusion_matrix(valid_target, valid_pred_des_tree)"
   ]
  },
  {
   "cell_type": "markdown",
   "metadata": {},
   "source": [
    "Решающее дерево на такой несбалансированной выборке лучше обучается,чем логистическая регрессия. Эта модель смогла предсказать больше положительных ответов, поэтому F1 мера и AUC-ROC у этой модели, выше, что у предыдущей."
   ]
  },
  {
   "cell_type": "markdown",
   "metadata": {},
   "source": [
    "#### Случайный лес"
   ]
  },
  {
   "cell_type": "markdown",
   "metadata": {},
   "source": [
    "Подберем гиперпараметры."
   ]
  },
  {
   "cell_type": "code",
   "execution_count": 65,
   "metadata": {
    "scrolled": true
   },
   "outputs": [
    {
     "name": "stdout",
     "output_type": "stream",
     "text": [
      "max_depth= 2 , min_samples_leaf= 2 , n_estimators = 1  -- Об. выборка: 0.8238333333333333 , Вал. выборка: 0.807\n",
      "max_depth= 2 , min_samples_leaf= 2 , n_estimators = 11  -- Об. выборка: 0.8195 , Вал. выборка: 0.8065\n",
      "max_depth= 2 , min_samples_leaf= 2 , n_estimators = 21  -- Об. выборка: 0.8171666666666667 , Вал. выборка: 0.8055\n",
      "max_depth= 2 , min_samples_leaf= 2 , n_estimators = 31  -- Об. выборка: 0.8155 , Вал. выборка: 0.806\n",
      "max_depth= 2 , min_samples_leaf= 2 , n_estimators = 41  -- Об. выборка: 0.8126666666666666 , Вал. выборка: 0.8035\n",
      "max_depth= 2 , min_samples_leaf= 2 , n_estimators = 51  -- Об. выборка: 0.8083333333333333 , Вал. выборка: 0.798\n",
      "max_depth= 2 , min_samples_leaf= 2 , n_estimators = 61  -- Об. выборка: 0.8071666666666667 , Вал. выборка: 0.7965\n",
      "max_depth= 2 , min_samples_leaf= 2 , n_estimators = 71  -- Об. выборка: 0.8036666666666666 , Вал. выборка: 0.7925\n",
      "max_depth= 2 , min_samples_leaf= 2 , n_estimators = 81  -- Об. выборка: 0.8038333333333333 , Вал. выборка: 0.7925\n",
      "max_depth= 2 , min_samples_leaf= 2 , n_estimators = 91  -- Об. выборка: 0.8035 , Вал. выборка: 0.792\n",
      "max_depth= 2 , min_samples_leaf= 3 , n_estimators = 1  -- Об. выборка: 0.8238333333333333 , Вал. выборка: 0.807\n",
      "max_depth= 2 , min_samples_leaf= 3 , n_estimators = 11  -- Об. выборка: 0.8195 , Вал. выборка: 0.8065\n",
      "max_depth= 2 , min_samples_leaf= 3 , n_estimators = 21  -- Об. выборка: 0.8173333333333334 , Вал. выборка: 0.8055\n",
      "max_depth= 2 , min_samples_leaf= 3 , n_estimators = 31  -- Об. выборка: 0.8155 , Вал. выборка: 0.806\n",
      "max_depth= 2 , min_samples_leaf= 3 , n_estimators = 41  -- Об. выборка: 0.8125 , Вал. выборка: 0.8035\n",
      "max_depth= 2 , min_samples_leaf= 3 , n_estimators = 51  -- Об. выборка: 0.8083333333333333 , Вал. выборка: 0.798\n",
      "max_depth= 2 , min_samples_leaf= 3 , n_estimators = 61  -- Об. выборка: 0.8071666666666667 , Вал. выборка: 0.7965\n",
      "max_depth= 2 , min_samples_leaf= 3 , n_estimators = 71  -- Об. выборка: 0.8036666666666666 , Вал. выборка: 0.7925\n",
      "max_depth= 2 , min_samples_leaf= 3 , n_estimators = 81  -- Об. выборка: 0.8038333333333333 , Вал. выборка: 0.7925\n",
      "max_depth= 2 , min_samples_leaf= 3 , n_estimators = 91  -- Об. выборка: 0.8036666666666666 , Вал. выборка: 0.792\n",
      "max_depth= 2 , min_samples_leaf= 4 , n_estimators = 1  -- Об. выборка: 0.8238333333333333 , Вал. выборка: 0.807\n",
      "max_depth= 2 , min_samples_leaf= 4 , n_estimators = 11  -- Об. выборка: 0.8195 , Вал. выборка: 0.8065\n",
      "max_depth= 2 , min_samples_leaf= 4 , n_estimators = 21  -- Об. выборка: 0.8173333333333334 , Вал. выборка: 0.8055\n",
      "max_depth= 2 , min_samples_leaf= 4 , n_estimators = 31  -- Об. выборка: 0.8155 , Вал. выборка: 0.806\n",
      "max_depth= 2 , min_samples_leaf= 4 , n_estimators = 41  -- Об. выборка: 0.8125 , Вал. выборка: 0.8035\n",
      "max_depth= 2 , min_samples_leaf= 4 , n_estimators = 51  -- Об. выборка: 0.8083333333333333 , Вал. выборка: 0.798\n",
      "max_depth= 2 , min_samples_leaf= 4 , n_estimators = 61  -- Об. выборка: 0.8071666666666667 , Вал. выборка: 0.7965\n",
      "max_depth= 2 , min_samples_leaf= 4 , n_estimators = 71  -- Об. выборка: 0.8036666666666666 , Вал. выборка: 0.7925\n",
      "max_depth= 2 , min_samples_leaf= 4 , n_estimators = 81  -- Об. выборка: 0.8038333333333333 , Вал. выборка: 0.7925\n",
      "max_depth= 2 , min_samples_leaf= 4 , n_estimators = 91  -- Об. выборка: 0.8036666666666666 , Вал. выборка: 0.792\n",
      "max_depth= 2 , min_samples_leaf= 5 , n_estimators = 1  -- Об. выборка: 0.8238333333333333 , Вал. выборка: 0.807\n",
      "max_depth= 2 , min_samples_leaf= 5 , n_estimators = 11  -- Об. выборка: 0.8195 , Вал. выборка: 0.8065\n",
      "max_depth= 2 , min_samples_leaf= 5 , n_estimators = 21  -- Об. выборка: 0.8168333333333333 , Вал. выборка: 0.806\n",
      "max_depth= 2 , min_samples_leaf= 5 , n_estimators = 31  -- Об. выборка: 0.8156666666666667 , Вал. выборка: 0.806\n",
      "max_depth= 2 , min_samples_leaf= 5 , n_estimators = 41  -- Об. выборка: 0.8126666666666666 , Вал. выборка: 0.8035\n",
      "max_depth= 2 , min_samples_leaf= 5 , n_estimators = 51  -- Об. выборка: 0.8081666666666667 , Вал. выборка: 0.7985\n",
      "max_depth= 2 , min_samples_leaf= 5 , n_estimators = 61  -- Об. выборка: 0.8075 , Вал. выборка: 0.7965\n",
      "max_depth= 2 , min_samples_leaf= 5 , n_estimators = 71  -- Об. выборка: 0.804 , Вал. выборка: 0.7925\n",
      "max_depth= 2 , min_samples_leaf= 5 , n_estimators = 81  -- Об. выборка: 0.8038333333333333 , Вал. выборка: 0.7925\n",
      "max_depth= 2 , min_samples_leaf= 5 , n_estimators = 91  -- Об. выборка: 0.8035 , Вал. выборка: 0.7925\n",
      "max_depth= 2 , min_samples_leaf= 6 , n_estimators = 1  -- Об. выборка: 0.8238333333333333 , Вал. выборка: 0.807\n",
      "max_depth= 2 , min_samples_leaf= 6 , n_estimators = 11  -- Об. выборка: 0.8195 , Вал. выборка: 0.8065\n",
      "max_depth= 2 , min_samples_leaf= 6 , n_estimators = 21  -- Об. выборка: 0.8168333333333333 , Вал. выборка: 0.806\n",
      "max_depth= 2 , min_samples_leaf= 6 , n_estimators = 31  -- Об. выборка: 0.8156666666666667 , Вал. выборка: 0.806\n",
      "max_depth= 2 , min_samples_leaf= 6 , n_estimators = 41  -- Об. выборка: 0.8126666666666666 , Вал. выборка: 0.8035\n",
      "max_depth= 2 , min_samples_leaf= 6 , n_estimators = 51  -- Об. выборка: 0.8081666666666667 , Вал. выборка: 0.7985\n",
      "max_depth= 2 , min_samples_leaf= 6 , n_estimators = 61  -- Об. выборка: 0.8075 , Вал. выборка: 0.7965\n",
      "max_depth= 2 , min_samples_leaf= 6 , n_estimators = 71  -- Об. выборка: 0.8043333333333333 , Вал. выборка: 0.793\n",
      "max_depth= 2 , min_samples_leaf= 6 , n_estimators = 81  -- Об. выборка: 0.8038333333333333 , Вал. выборка: 0.7925\n",
      "max_depth= 2 , min_samples_leaf= 6 , n_estimators = 91  -- Об. выборка: 0.8035 , Вал. выборка: 0.7925\n",
      "max_depth= 2 , min_samples_leaf= 7 , n_estimators = 1  -- Об. выборка: 0.8238333333333333 , Вал. выборка: 0.807\n",
      "max_depth= 2 , min_samples_leaf= 7 , n_estimators = 11  -- Об. выборка: 0.8195 , Вал. выборка: 0.8065\n",
      "max_depth= 2 , min_samples_leaf= 7 , n_estimators = 21  -- Об. выборка: 0.8168333333333333 , Вал. выборка: 0.806\n",
      "max_depth= 2 , min_samples_leaf= 7 , n_estimators = 31  -- Об. выборка: 0.8156666666666667 , Вал. выборка: 0.806\n",
      "max_depth= 2 , min_samples_leaf= 7 , n_estimators = 41  -- Об. выборка: 0.8126666666666666 , Вал. выборка: 0.8035\n",
      "max_depth= 2 , min_samples_leaf= 7 , n_estimators = 51  -- Об. выборка: 0.8081666666666667 , Вал. выборка: 0.7985\n",
      "max_depth= 2 , min_samples_leaf= 7 , n_estimators = 61  -- Об. выборка: 0.8075 , Вал. выборка: 0.7965\n",
      "max_depth= 2 , min_samples_leaf= 7 , n_estimators = 71  -- Об. выборка: 0.8043333333333333 , Вал. выборка: 0.793\n",
      "max_depth= 2 , min_samples_leaf= 7 , n_estimators = 81  -- Об. выборка: 0.8038333333333333 , Вал. выборка: 0.7925\n",
      "max_depth= 2 , min_samples_leaf= 7 , n_estimators = 91  -- Об. выборка: 0.8035 , Вал. выборка: 0.7925\n",
      "max_depth= 2 , min_samples_leaf= 8 , n_estimators = 1  -- Об. выборка: 0.8238333333333333 , Вал. выборка: 0.807\n",
      "max_depth= 2 , min_samples_leaf= 8 , n_estimators = 11  -- Об. выборка: 0.8195 , Вал. выборка: 0.8065\n",
      "max_depth= 2 , min_samples_leaf= 8 , n_estimators = 21  -- Об. выборка: 0.8168333333333333 , Вал. выборка: 0.806\n",
      "max_depth= 2 , min_samples_leaf= 8 , n_estimators = 31  -- Об. выборка: 0.8156666666666667 , Вал. выборка: 0.806\n",
      "max_depth= 2 , min_samples_leaf= 8 , n_estimators = 41  -- Об. выборка: 0.8126666666666666 , Вал. выборка: 0.8035\n",
      "max_depth= 2 , min_samples_leaf= 8 , n_estimators = 51  -- Об. выборка: 0.8081666666666667 , Вал. выборка: 0.7985\n",
      "max_depth= 2 , min_samples_leaf= 8 , n_estimators = 61  -- Об. выборка: 0.8075 , Вал. выборка: 0.7965\n",
      "max_depth= 2 , min_samples_leaf= 8 , n_estimators = 71  -- Об. выборка: 0.8043333333333333 , Вал. выборка: 0.793\n",
      "max_depth= 2 , min_samples_leaf= 8 , n_estimators = 81  -- Об. выборка: 0.8038333333333333 , Вал. выборка: 0.7925\n",
      "max_depth= 2 , min_samples_leaf= 8 , n_estimators = 91  -- Об. выборка: 0.8035 , Вал. выборка: 0.7925\n",
      "max_depth= 3 , min_samples_leaf= 2 , n_estimators = 1  -- Об. выборка: 0.8238333333333333 , Вал. выборка: 0.807\n",
      "max_depth= 3 , min_samples_leaf= 2 , n_estimators = 11  -- Об. выборка: 0.8241666666666667 , Вал. выборка: 0.8065\n",
      "max_depth= 3 , min_samples_leaf= 2 , n_estimators = 21  -- Об. выборка: 0.8235 , Вал. выборка: 0.806\n",
      "max_depth= 3 , min_samples_leaf= 2 , n_estimators = 31  -- Об. выборка: 0.8205 , Вал. выборка: 0.8035\n",
      "max_depth= 3 , min_samples_leaf= 2 , n_estimators = 41  -- Об. выборка: 0.8216666666666667 , Вал. выборка: 0.8045\n",
      "max_depth= 3 , min_samples_leaf= 2 , n_estimators = 51  -- Об. выборка: 0.8236666666666667 , Вал. выборка: 0.8055\n",
      "max_depth= 3 , min_samples_leaf= 2 , n_estimators = 61  -- Об. выборка: 0.8205 , Вал. выборка: 0.8045\n",
      "max_depth= 3 , min_samples_leaf= 2 , n_estimators = 71  -- Об. выборка: 0.8193333333333334 , Вал. выборка: 0.8035\n",
      "max_depth= 3 , min_samples_leaf= 2 , n_estimators = 81  -- Об. выборка: 0.8206666666666667 , Вал. выборка: 0.8035\n",
      "max_depth= 3 , min_samples_leaf= 2 , n_estimators = 91  -- Об. выборка: 0.818 , Вал. выборка: 0.8025\n",
      "max_depth= 3 , min_samples_leaf= 3 , n_estimators = 1  -- Об. выборка: 0.8238333333333333 , Вал. выборка: 0.807\n",
      "max_depth= 3 , min_samples_leaf= 3 , n_estimators = 11  -- Об. выборка: 0.8241666666666667 , Вал. выборка: 0.8065\n",
      "max_depth= 3 , min_samples_leaf= 3 , n_estimators = 21  -- Об. выборка: 0.8233333333333334 , Вал. выборка: 0.806\n",
      "max_depth= 3 , min_samples_leaf= 3 , n_estimators = 31  -- Об. выборка: 0.824 , Вал. выборка: 0.8065\n",
      "max_depth= 3 , min_samples_leaf= 3 , n_estimators = 41  -- Об. выборка: 0.8243333333333334 , Вал. выборка: 0.806\n",
      "max_depth= 3 , min_samples_leaf= 3 , n_estimators = 51  -- Об. выборка: 0.8235 , Вал. выборка: 0.8055\n",
      "max_depth= 3 , min_samples_leaf= 3 , n_estimators = 61  -- Об. выборка: 0.822 , Вал. выборка: 0.805\n",
      "max_depth= 3 , min_samples_leaf= 3 , n_estimators = 71  -- Об. выборка: 0.8206666666666667 , Вал. выборка: 0.804\n",
      "max_depth= 3 , min_samples_leaf= 3 , n_estimators = 81  -- Об. выборка: 0.8225 , Вал. выборка: 0.8045\n",
      "max_depth= 3 , min_samples_leaf= 3 , n_estimators = 91  -- Об. выборка: 0.8195 , Вал. выборка: 0.803\n",
      "max_depth= 3 , min_samples_leaf= 4 , n_estimators = 1  -- Об. выборка: 0.8238333333333333 , Вал. выборка: 0.807\n",
      "max_depth= 3 , min_samples_leaf= 4 , n_estimators = 11  -- Об. выборка: 0.8241666666666667 , Вал. выборка: 0.8065\n",
      "max_depth= 3 , min_samples_leaf= 4 , n_estimators = 21  -- Об. выборка: 0.8233333333333334 , Вал. выборка: 0.806\n",
      "max_depth= 3 , min_samples_leaf= 4 , n_estimators = 31  -- Об. выборка: 0.8238333333333333 , Вал. выборка: 0.8065\n",
      "max_depth= 3 , min_samples_leaf= 4 , n_estimators = 41  -- Об. выборка: 0.8231666666666667 , Вал. выборка: 0.8065\n",
      "max_depth= 3 , min_samples_leaf= 4 , n_estimators = 51  -- Об. выборка: 0.8233333333333334 , Вал. выборка: 0.806\n",
      "max_depth= 3 , min_samples_leaf= 4 , n_estimators = 61  -- Об. выборка: 0.8208333333333333 , Вал. выборка: 0.8045\n",
      "max_depth= 3 , min_samples_leaf= 4 , n_estimators = 71  -- Об. выборка: 0.8206666666666667 , Вал. выборка: 0.8045\n",
      "max_depth= 3 , min_samples_leaf= 4 , n_estimators = 81  -- Об. выборка: 0.8216666666666667 , Вал. выборка: 0.805\n",
      "max_depth= 3 , min_samples_leaf= 4 , n_estimators = 91  -- Об. выборка: 0.8195 , Вал. выборка: 0.8035\n",
      "max_depth= 3 , min_samples_leaf= 5 , n_estimators = 1  -- Об. выборка: 0.8238333333333333 , Вал. выборка: 0.807\n",
      "max_depth= 3 , min_samples_leaf= 5 , n_estimators = 11  -- Об. выборка: 0.8241666666666667 , Вал. выборка: 0.8065\n",
      "max_depth= 3 , min_samples_leaf= 5 , n_estimators = 21  -- Об. выборка: 0.8235 , Вал. выборка: 0.806\n",
      "max_depth= 3 , min_samples_leaf= 5 , n_estimators = 31  -- Об. выборка: 0.8235 , Вал. выборка: 0.8065\n",
      "max_depth= 3 , min_samples_leaf= 5 , n_estimators = 41  -- Об. выборка: 0.8228333333333333 , Вал. выборка: 0.806\n",
      "max_depth= 3 , min_samples_leaf= 5 , n_estimators = 51  -- Об. выборка: 0.8221666666666667 , Вал. выборка: 0.805\n",
      "max_depth= 3 , min_samples_leaf= 5 , n_estimators = 61  -- Об. выборка: 0.8203333333333334 , Вал. выборка: 0.8045\n",
      "max_depth= 3 , min_samples_leaf= 5 , n_estimators = 71  -- Об. выборка: 0.8201666666666667 , Вал. выборка: 0.8045\n",
      "max_depth= 3 , min_samples_leaf= 5 , n_estimators = 81  -- Об. выборка: 0.8206666666666667 , Вал. выборка: 0.805\n",
      "max_depth= 3 , min_samples_leaf= 5 , n_estimators = 91  -- Об. выборка: 0.8191666666666667 , Вал. выборка: 0.8035\n",
      "max_depth= 3 , min_samples_leaf= 6 , n_estimators = 1  -- Об. выборка: 0.8238333333333333 , Вал. выборка: 0.807\n",
      "max_depth= 3 , min_samples_leaf= 6 , n_estimators = 11  -- Об. выборка: 0.8241666666666667 , Вал. выборка: 0.8065\n",
      "max_depth= 3 , min_samples_leaf= 6 , n_estimators = 21  -- Об. выборка: 0.8236666666666667 , Вал. выборка: 0.806\n",
      "max_depth= 3 , min_samples_leaf= 6 , n_estimators = 31  -- Об. выборка: 0.8235 , Вал. выборка: 0.8065\n",
      "max_depth= 3 , min_samples_leaf= 6 , n_estimators = 41  -- Об. выборка: 0.8226666666666667 , Вал. выборка: 0.806\n",
      "max_depth= 3 , min_samples_leaf= 6 , n_estimators = 51  -- Об. выборка: 0.8223333333333334 , Вал. выборка: 0.805\n",
      "max_depth= 3 , min_samples_leaf= 6 , n_estimators = 61  -- Об. выборка: 0.8203333333333334 , Вал. выборка: 0.805\n",
      "max_depth= 3 , min_samples_leaf= 6 , n_estimators = 71  -- Об. выборка: 0.82 , Вал. выборка: 0.8055\n",
      "max_depth= 3 , min_samples_leaf= 6 , n_estimators = 81  -- Об. выборка: 0.821 , Вал. выборка: 0.8045\n",
      "max_depth= 3 , min_samples_leaf= 6 , n_estimators = 91  -- Об. выборка: 0.819 , Вал. выборка: 0.8035\n",
      "max_depth= 3 , min_samples_leaf= 7 , n_estimators = 1  -- Об. выборка: 0.8238333333333333 , Вал. выборка: 0.807\n",
      "max_depth= 3 , min_samples_leaf= 7 , n_estimators = 11  -- Об. выборка: 0.8241666666666667 , Вал. выборка: 0.8065\n",
      "max_depth= 3 , min_samples_leaf= 7 , n_estimators = 21  -- Об. выборка: 0.8236666666666667 , Вал. выборка: 0.806\n",
      "max_depth= 3 , min_samples_leaf= 7 , n_estimators = 31  -- Об. выборка: 0.823 , Вал. выборка: 0.806\n",
      "max_depth= 3 , min_samples_leaf= 7 , n_estimators = 41  -- Об. выборка: 0.8223333333333334 , Вал. выборка: 0.8055\n",
      "max_depth= 3 , min_samples_leaf= 7 , n_estimators = 51  -- Об. выборка: 0.8221666666666667 , Вал. выборка: 0.805\n",
      "max_depth= 3 , min_samples_leaf= 7 , n_estimators = 61  -- Об. выборка: 0.8203333333333334 , Вал. выборка: 0.805\n",
      "max_depth= 3 , min_samples_leaf= 7 , n_estimators = 71  -- Об. выборка: 0.8198333333333333 , Вал. выборка: 0.8055\n",
      "max_depth= 3 , min_samples_leaf= 7 , n_estimators = 81  -- Об. выборка: 0.8208333333333333 , Вал. выборка: 0.8045\n",
      "max_depth= 3 , min_samples_leaf= 7 , n_estimators = 91  -- Об. выборка: 0.8186666666666667 , Вал. выборка: 0.8035\n",
      "max_depth= 3 , min_samples_leaf= 8 , n_estimators = 1  -- Об. выборка: 0.8238333333333333 , Вал. выборка: 0.807\n",
      "max_depth= 3 , min_samples_leaf= 8 , n_estimators = 11  -- Об. выборка: 0.8241666666666667 , Вал. выборка: 0.8065\n",
      "max_depth= 3 , min_samples_leaf= 8 , n_estimators = 21  -- Об. выборка: 0.8236666666666667 , Вал. выборка: 0.806\n",
      "max_depth= 3 , min_samples_leaf= 8 , n_estimators = 31  -- Об. выборка: 0.8228333333333333 , Вал. выборка: 0.8055\n",
      "max_depth= 3 , min_samples_leaf= 8 , n_estimators = 41  -- Об. выборка: 0.8223333333333334 , Вал. выборка: 0.8055\n",
      "max_depth= 3 , min_samples_leaf= 8 , n_estimators = 51  -- Об. выборка: 0.8218333333333333 , Вал. выборка: 0.805\n",
      "max_depth= 3 , min_samples_leaf= 8 , n_estimators = 61  -- Об. выборка: 0.8203333333333334 , Вал. выборка: 0.8045\n",
      "max_depth= 3 , min_samples_leaf= 8 , n_estimators = 71  -- Об. выборка: 0.8201666666666667 , Вал. выборка: 0.8055\n",
      "max_depth= 3 , min_samples_leaf= 8 , n_estimators = 81  -- Об. выборка: 0.8201666666666667 , Вал. выборка: 0.804\n",
      "max_depth= 3 , min_samples_leaf= 8 , n_estimators = 91  -- Об. выборка: 0.8178333333333333 , Вал. выборка: 0.8025\n",
      "max_depth= 4 , min_samples_leaf= 2 , n_estimators = 1  -- Об. выборка: 0.8295 , Вал. выборка: 0.809\n",
      "max_depth= 4 , min_samples_leaf= 2 , n_estimators = 11  -- Об. выборка: 0.8405 , Вал. выборка: 0.8185\n",
      "max_depth= 4 , min_samples_leaf= 2 , n_estimators = 21  -- Об. выборка: 0.8381666666666666 , Вал. выборка: 0.817\n",
      "max_depth= 4 , min_samples_leaf= 2 , n_estimators = 31  -- Об. выборка: 0.837 , Вал. выборка: 0.816\n",
      "max_depth= 4 , min_samples_leaf= 2 , n_estimators = 41  -- Об. выборка: 0.8433333333333334 , Вал. выборка: 0.8255\n",
      "max_depth= 4 , min_samples_leaf= 2 , n_estimators = 51  -- Об. выборка: 0.842 , Вал. выборка: 0.821\n",
      "max_depth= 4 , min_samples_leaf= 2 , n_estimators = 61  -- Об. выборка: 0.84 , Вал. выборка: 0.8185\n",
      "max_depth= 4 , min_samples_leaf= 2 , n_estimators = 71  -- Об. выборка: 0.8376666666666667 , Вал. выборка: 0.817\n",
      "max_depth= 4 , min_samples_leaf= 2 , n_estimators = 81  -- Об. выборка: 0.8378333333333333 , Вал. выборка: 0.8175\n",
      "max_depth= 4 , min_samples_leaf= 2 , n_estimators = 91  -- Об. выборка: 0.839 , Вал. выборка: 0.8165\n",
      "max_depth= 4 , min_samples_leaf= 3 , n_estimators = 1  -- Об. выборка: 0.8295 , Вал. выборка: 0.809\n",
      "max_depth= 4 , min_samples_leaf= 3 , n_estimators = 11  -- Об. выборка: 0.8403333333333334 , Вал. выборка: 0.818\n",
      "max_depth= 4 , min_samples_leaf= 3 , n_estimators = 21  -- Об. выборка: 0.8376666666666667 , Вал. выборка: 0.8165\n",
      "max_depth= 4 , min_samples_leaf= 3 , n_estimators = 31  -- Об. выборка: 0.8378333333333333 , Вал. выборка: 0.8165\n",
      "max_depth= 4 , min_samples_leaf= 3 , n_estimators = 41  -- Об. выборка: 0.8451666666666666 , Вал. выборка: 0.827\n",
      "max_depth= 4 , min_samples_leaf= 3 , n_estimators = 51  -- Об. выборка: 0.8431666666666666 , Вал. выборка: 0.822\n",
      "max_depth= 4 , min_samples_leaf= 3 , n_estimators = 61  -- Об. выборка: 0.8401666666666666 , Вал. выборка: 0.8185\n",
      "max_depth= 4 , min_samples_leaf= 3 , n_estimators = 71  -- Об. выборка: 0.8381666666666666 , Вал. выборка: 0.817\n",
      "max_depth= 4 , min_samples_leaf= 3 , n_estimators = 81  -- Об. выборка: 0.8375 , Вал. выборка: 0.8165\n",
      "max_depth= 4 , min_samples_leaf= 3 , n_estimators = 91  -- Об. выборка: 0.8381666666666666 , Вал. выборка: 0.817\n",
      "max_depth= 4 , min_samples_leaf= 4 , n_estimators = 1  -- Об. выборка: 0.83 , Вал. выборка: 0.8095\n",
      "max_depth= 4 , min_samples_leaf= 4 , n_estimators = 11  -- Об. выборка: 0.8401666666666666 , Вал. выборка: 0.818\n",
      "max_depth= 4 , min_samples_leaf= 4 , n_estimators = 21  -- Об. выборка: 0.8371666666666666 , Вал. выборка: 0.817\n",
      "max_depth= 4 , min_samples_leaf= 4 , n_estimators = 31  -- Об. выборка: 0.8378333333333333 , Вал. выборка: 0.817\n",
      "max_depth= 4 , min_samples_leaf= 4 , n_estimators = 41  -- Об. выборка: 0.8461666666666666 , Вал. выборка: 0.8265\n",
      "max_depth= 4 , min_samples_leaf= 4 , n_estimators = 51  -- Об. выборка: 0.845 , Вал. выборка: 0.826\n",
      "max_depth= 4 , min_samples_leaf= 4 , n_estimators = 61  -- Об. выборка: 0.8405 , Вал. выборка: 0.8215\n",
      "max_depth= 4 , min_samples_leaf= 4 , n_estimators = 71  -- Об. выборка: 0.8396666666666667 , Вал. выборка: 0.821\n",
      "max_depth= 4 , min_samples_leaf= 4 , n_estimators = 81  -- Об. выборка: 0.839 , Вал. выборка: 0.8185\n",
      "max_depth= 4 , min_samples_leaf= 4 , n_estimators = 91  -- Об. выборка: 0.8396666666666667 , Вал. выборка: 0.819\n",
      "max_depth= 4 , min_samples_leaf= 5 , n_estimators = 1  -- Об. выборка: 0.83 , Вал. выборка: 0.8095\n",
      "max_depth= 4 , min_samples_leaf= 5 , n_estimators = 11  -- Об. выборка: 0.8401666666666666 , Вал. выборка: 0.8175\n",
      "max_depth= 4 , min_samples_leaf= 5 , n_estimators = 21  -- Об. выборка: 0.837 , Вал. выборка: 0.817\n",
      "max_depth= 4 , min_samples_leaf= 5 , n_estimators = 31  -- Об. выборка: 0.8398333333333333 , Вал. выборка: 0.82\n",
      "max_depth= 4 , min_samples_leaf= 5 , n_estimators = 41  -- Об. выборка: 0.8443333333333334 , Вал. выборка: 0.826\n",
      "max_depth= 4 , min_samples_leaf= 5 , n_estimators = 51  -- Об. выборка: 0.847 , Вал. выборка: 0.827\n",
      "max_depth= 4 , min_samples_leaf= 5 , n_estimators = 61  -- Об. выборка: 0.8426666666666667 , Вал. выборка: 0.8245\n",
      "max_depth= 4 , min_samples_leaf= 5 , n_estimators = 71  -- Об. выборка: 0.8393333333333334 , Вал. выборка: 0.8205\n",
      "max_depth= 4 , min_samples_leaf= 5 , n_estimators = 81  -- Об. выборка: 0.839 , Вал. выборка: 0.8175\n",
      "max_depth= 4 , min_samples_leaf= 5 , n_estimators = 91  -- Об. выборка: 0.84 , Вал. выборка: 0.8205\n",
      "max_depth= 4 , min_samples_leaf= 6 , n_estimators = 1  -- Об. выборка: 0.8296666666666667 , Вал. выборка: 0.8085\n",
      "max_depth= 4 , min_samples_leaf= 6 , n_estimators = 11  -- Об. выборка: 0.8408333333333333 , Вал. выборка: 0.8175\n",
      "max_depth= 4 , min_samples_leaf= 6 , n_estimators = 21  -- Об. выборка: 0.838 , Вал. выборка: 0.8175\n",
      "max_depth= 4 , min_samples_leaf= 6 , n_estimators = 31  -- Об. выборка: 0.8398333333333333 , Вал. выборка: 0.8195\n",
      "max_depth= 4 , min_samples_leaf= 6 , n_estimators = 41  -- Об. выборка: 0.842 , Вал. выборка: 0.8215\n",
      "max_depth= 4 , min_samples_leaf= 6 , n_estimators = 51  -- Об. выборка: 0.8443333333333334 , Вал. выборка: 0.8255\n",
      "max_depth= 4 , min_samples_leaf= 6 , n_estimators = 61  -- Об. выборка: 0.8428333333333333 , Вал. выборка: 0.8235\n",
      "max_depth= 4 , min_samples_leaf= 6 , n_estimators = 71  -- Об. выборка: 0.8406666666666667 , Вал. выборка: 0.821\n",
      "max_depth= 4 , min_samples_leaf= 6 , n_estimators = 81  -- Об. выборка: 0.8401666666666666 , Вал. выборка: 0.82\n",
      "max_depth= 4 , min_samples_leaf= 6 , n_estimators = 91  -- Об. выборка: 0.84 , Вал. выборка: 0.8205\n",
      "max_depth= 4 , min_samples_leaf= 7 , n_estimators = 1  -- Об. выборка: 0.8296666666666667 , Вал. выборка: 0.8085\n",
      "max_depth= 4 , min_samples_leaf= 7 , n_estimators = 11  -- Об. выборка: 0.8406666666666667 , Вал. выборка: 0.8175\n",
      "max_depth= 4 , min_samples_leaf= 7 , n_estimators = 21  -- Об. выборка: 0.838 , Вал. выборка: 0.8175\n",
      "max_depth= 4 , min_samples_leaf= 7 , n_estimators = 31  -- Об. выборка: 0.8396666666666667 , Вал. выборка: 0.8195\n",
      "max_depth= 4 , min_samples_leaf= 7 , n_estimators = 41  -- Об. выборка: 0.8428333333333333 , Вал. выборка: 0.8235\n",
      "max_depth= 4 , min_samples_leaf= 7 , n_estimators = 51  -- Об. выборка: 0.8458333333333333 , Вал. выборка: 0.8265\n",
      "max_depth= 4 , min_samples_leaf= 7 , n_estimators = 61  -- Об. выборка: 0.8421666666666666 , Вал. выборка: 0.825\n",
      "max_depth= 4 , min_samples_leaf= 7 , n_estimators = 71  -- Об. выборка: 0.8408333333333333 , Вал. выборка: 0.8215\n",
      "max_depth= 4 , min_samples_leaf= 7 , n_estimators = 81  -- Об. выборка: 0.84 , Вал. выборка: 0.82\n",
      "max_depth= 4 , min_samples_leaf= 7 , n_estimators = 91  -- Об. выборка: 0.8396666666666667 , Вал. выборка: 0.8205\n",
      "max_depth= 4 , min_samples_leaf= 8 , n_estimators = 1  -- Об. выборка: 0.8296666666666667 , Вал. выборка: 0.8085\n",
      "max_depth= 4 , min_samples_leaf= 8 , n_estimators = 11  -- Об. выборка: 0.8408333333333333 , Вал. выборка: 0.8175\n",
      "max_depth= 4 , min_samples_leaf= 8 , n_estimators = 21  -- Об. выборка: 0.838 , Вал. выборка: 0.8175\n",
      "max_depth= 4 , min_samples_leaf= 8 , n_estimators = 31  -- Об. выборка: 0.8396666666666667 , Вал. выборка: 0.8195\n",
      "max_depth= 4 , min_samples_leaf= 8 , n_estimators = 41  -- Об. выборка: 0.843 , Вал. выборка: 0.8235\n",
      "max_depth= 4 , min_samples_leaf= 8 , n_estimators = 51  -- Об. выборка: 0.8458333333333333 , Вал. выборка: 0.8265\n",
      "max_depth= 4 , min_samples_leaf= 8 , n_estimators = 61  -- Об. выборка: 0.8425 , Вал. выборка: 0.825\n",
      "max_depth= 4 , min_samples_leaf= 8 , n_estimators = 71  -- Об. выборка: 0.8408333333333333 , Вал. выборка: 0.821\n",
      "max_depth= 4 , min_samples_leaf= 8 , n_estimators = 81  -- Об. выборка: 0.8398333333333333 , Вал. выборка: 0.8185\n",
      "max_depth= 4 , min_samples_leaf= 8 , n_estimators = 91  -- Об. выборка: 0.84 , Вал. выборка: 0.8195\n",
      "max_depth= 5 , min_samples_leaf= 2 , n_estimators = 1  -- Об. выборка: 0.8448333333333333 , Вал. выборка: 0.8255\n",
      "max_depth= 5 , min_samples_leaf= 2 , n_estimators = 11  -- Об. выборка: 0.8526666666666667 , Вал. выборка: 0.8415\n",
      "max_depth= 5 , min_samples_leaf= 2 , n_estimators = 21  -- Об. выборка: 0.8533333333333334 , Вал. выборка: 0.838\n",
      "max_depth= 5 , min_samples_leaf= 2 , n_estimators = 31  -- Об. выборка: 0.8513333333333334 , Вал. выборка: 0.836\n",
      "max_depth= 5 , min_samples_leaf= 2 , n_estimators = 41  -- Об. выборка: 0.8535 , Вал. выборка: 0.836\n",
      "max_depth= 5 , min_samples_leaf= 2 , n_estimators = 51  -- Об. выборка: 0.8528333333333333 , Вал. выборка: 0.8345\n",
      "max_depth= 5 , min_samples_leaf= 2 , n_estimators = 61  -- Об. выборка: 0.8526666666666667 , Вал. выборка: 0.8325\n",
      "max_depth= 5 , min_samples_leaf= 2 , n_estimators = 71  -- Об. выборка: 0.8526666666666667 , Вал. выборка: 0.831\n",
      "max_depth= 5 , min_samples_leaf= 2 , n_estimators = 81  -- Об. выборка: 0.8485 , Вал. выборка: 0.829\n",
      "max_depth= 5 , min_samples_leaf= 2 , n_estimators = 91  -- Об. выборка: 0.8481666666666666 , Вал. выборка: 0.8265\n",
      "max_depth= 5 , min_samples_leaf= 3 , n_estimators = 1  -- Об. выборка: 0.8451666666666666 , Вал. выборка: 0.827\n",
      "max_depth= 5 , min_samples_leaf= 3 , n_estimators = 11  -- Об. выборка: 0.852 , Вал. выборка: 0.8405\n",
      "max_depth= 5 , min_samples_leaf= 3 , n_estimators = 21  -- Об. выборка: 0.8535 , Вал. выборка: 0.837\n",
      "max_depth= 5 , min_samples_leaf= 3 , n_estimators = 31  -- Об. выборка: 0.8513333333333334 , Вал. выборка: 0.8345\n",
      "max_depth= 5 , min_samples_leaf= 3 , n_estimators = 41  -- Об. выборка: 0.8525 , Вал. выборка: 0.834\n",
      "max_depth= 5 , min_samples_leaf= 3 , n_estimators = 51  -- Об. выборка: 0.8526666666666667 , Вал. выборка: 0.8335\n",
      "max_depth= 5 , min_samples_leaf= 3 , n_estimators = 61  -- Об. выборка: 0.8513333333333334 , Вал. выборка: 0.8325\n",
      "max_depth= 5 , min_samples_leaf= 3 , n_estimators = 71  -- Об. выборка: 0.851 , Вал. выборка: 0.831\n",
      "max_depth= 5 , min_samples_leaf= 3 , n_estimators = 81  -- Об. выборка: 0.8501666666666666 , Вал. выборка: 0.8305\n",
      "max_depth= 5 , min_samples_leaf= 3 , n_estimators = 91  -- Об. выборка: 0.85 , Вал. выборка: 0.8305\n",
      "max_depth= 5 , min_samples_leaf= 4 , n_estimators = 1  -- Об. выборка: 0.8455 , Вал. выборка: 0.8295\n",
      "max_depth= 5 , min_samples_leaf= 4 , n_estimators = 11  -- Об. выборка: 0.8508333333333333 , Вал. выборка: 0.8385\n",
      "max_depth= 5 , min_samples_leaf= 4 , n_estimators = 21  -- Об. выборка: 0.8536666666666667 , Вал. выборка: 0.8385\n",
      "max_depth= 5 , min_samples_leaf= 4 , n_estimators = 31  -- Об. выборка: 0.8523333333333334 , Вал. выборка: 0.835\n",
      "max_depth= 5 , min_samples_leaf= 4 , n_estimators = 41  -- Об. выборка: 0.8525 , Вал. выборка: 0.834\n",
      "max_depth= 5 , min_samples_leaf= 4 , n_estimators = 51  -- Об. выборка: 0.8518333333333333 , Вал. выборка: 0.8325\n",
      "max_depth= 5 , min_samples_leaf= 4 , n_estimators = 61  -- Об. выборка: 0.8521666666666666 , Вал. выборка: 0.832\n",
      "max_depth= 5 , min_samples_leaf= 4 , n_estimators = 71  -- Об. выборка: 0.8521666666666666 , Вал. выборка: 0.832\n",
      "max_depth= 5 , min_samples_leaf= 4 , n_estimators = 81  -- Об. выборка: 0.852 , Вал. выборка: 0.831\n",
      "max_depth= 5 , min_samples_leaf= 4 , n_estimators = 91  -- Об. выборка: 0.8505 , Вал. выборка: 0.8305\n",
      "max_depth= 5 , min_samples_leaf= 5 , n_estimators = 1  -- Об. выборка: 0.8455 , Вал. выборка: 0.8295\n",
      "max_depth= 5 , min_samples_leaf= 5 , n_estimators = 11  -- Об. выборка: 0.849 , Вал. выборка: 0.8325\n",
      "max_depth= 5 , min_samples_leaf= 5 , n_estimators = 21  -- Об. выборка: 0.8508333333333333 , Вал. выборка: 0.834\n",
      "max_depth= 5 , min_samples_leaf= 5 , n_estimators = 31  -- Об. выборка: 0.8511666666666666 , Вал. выборка: 0.8335\n",
      "max_depth= 5 , min_samples_leaf= 5 , n_estimators = 41  -- Об. выборка: 0.8521666666666666 , Вал. выборка: 0.8325\n",
      "max_depth= 5 , min_samples_leaf= 5 , n_estimators = 51  -- Об. выборка: 0.8518333333333333 , Вал. выборка: 0.8335\n",
      "max_depth= 5 , min_samples_leaf= 5 , n_estimators = 61  -- Об. выборка: 0.8515 , Вал. выборка: 0.8325\n",
      "max_depth= 5 , min_samples_leaf= 5 , n_estimators = 71  -- Об. выборка: 0.8501666666666666 , Вал. выборка: 0.833\n",
      "max_depth= 5 , min_samples_leaf= 5 , n_estimators = 81  -- Об. выборка: 0.8515 , Вал. выборка: 0.832\n",
      "max_depth= 5 , min_samples_leaf= 5 , n_estimators = 91  -- Об. выборка: 0.8518333333333333 , Вал. выборка: 0.831\n",
      "max_depth= 5 , min_samples_leaf= 6 , n_estimators = 1  -- Об. выборка: 0.8456666666666667 , Вал. выборка: 0.828\n",
      "max_depth= 5 , min_samples_leaf= 6 , n_estimators = 11  -- Об. выборка: 0.849 , Вал. выборка: 0.832\n",
      "max_depth= 5 , min_samples_leaf= 6 , n_estimators = 21  -- Об. выборка: 0.8521666666666666 , Вал. выборка: 0.833\n",
      "max_depth= 5 , min_samples_leaf= 6 , n_estimators = 31  -- Об. выборка: 0.8505 , Вал. выборка: 0.8335\n",
      "max_depth= 5 , min_samples_leaf= 6 , n_estimators = 41  -- Об. выборка: 0.851 , Вал. выборка: 0.832\n",
      "max_depth= 5 , min_samples_leaf= 6 , n_estimators = 51  -- Об. выборка: 0.8516666666666667 , Вал. выборка: 0.8315\n",
      "max_depth= 5 , min_samples_leaf= 6 , n_estimators = 61  -- Об. выборка: 0.8505 , Вал. выборка: 0.8305\n",
      "max_depth= 5 , min_samples_leaf= 6 , n_estimators = 71  -- Об. выборка: 0.8505 , Вал. выборка: 0.8305\n",
      "max_depth= 5 , min_samples_leaf= 6 , n_estimators = 81  -- Об. выборка: 0.8503333333333334 , Вал. выборка: 0.8315\n",
      "max_depth= 5 , min_samples_leaf= 6 , n_estimators = 91  -- Об. выборка: 0.8501666666666666 , Вал. выборка: 0.832\n",
      "max_depth= 5 , min_samples_leaf= 7 , n_estimators = 1  -- Об. выборка: 0.8456666666666667 , Вал. выборка: 0.828\n",
      "max_depth= 5 , min_samples_leaf= 7 , n_estimators = 11  -- Об. выборка: 0.8491666666666666 , Вал. выборка: 0.8325\n",
      "max_depth= 5 , min_samples_leaf= 7 , n_estimators = 21  -- Об. выборка: 0.8506666666666667 , Вал. выборка: 0.832\n",
      "max_depth= 5 , min_samples_leaf= 7 , n_estimators = 31  -- Об. выборка: 0.8505 , Вал. выборка: 0.833\n",
      "max_depth= 5 , min_samples_leaf= 7 , n_estimators = 41  -- Об. выборка: 0.8506666666666667 , Вал. выборка: 0.8325\n",
      "max_depth= 5 , min_samples_leaf= 7 , n_estimators = 51  -- Об. выборка: 0.8511666666666666 , Вал. выборка: 0.8335\n",
      "max_depth= 5 , min_samples_leaf= 7 , n_estimators = 61  -- Об. выборка: 0.8511666666666666 , Вал. выборка: 0.8325\n",
      "max_depth= 5 , min_samples_leaf= 7 , n_estimators = 71  -- Об. выборка: 0.8521666666666666 , Вал. выборка: 0.833\n",
      "max_depth= 5 , min_samples_leaf= 7 , n_estimators = 81  -- Об. выборка: 0.8521666666666666 , Вал. выборка: 0.834\n",
      "max_depth= 5 , min_samples_leaf= 7 , n_estimators = 91  -- Об. выборка: 0.8516666666666667 , Вал. выборка: 0.833\n",
      "max_depth= 5 , min_samples_leaf= 8 , n_estimators = 1  -- Об. выборка: 0.8446666666666667 , Вал. выборка: 0.828\n",
      "max_depth= 5 , min_samples_leaf= 8 , n_estimators = 11  -- Об. выборка: 0.8495 , Вал. выборка: 0.835\n",
      "max_depth= 5 , min_samples_leaf= 8 , n_estimators = 21  -- Об. выборка: 0.8513333333333334 , Вал. выборка: 0.8325\n",
      "max_depth= 5 , min_samples_leaf= 8 , n_estimators = 31  -- Об. выборка: 0.85 , Вал. выборка: 0.8345\n",
      "max_depth= 5 , min_samples_leaf= 8 , n_estimators = 41  -- Об. выборка: 0.8513333333333334 , Вал. выборка: 0.8325\n",
      "max_depth= 5 , min_samples_leaf= 8 , n_estimators = 51  -- Об. выборка: 0.8511666666666666 , Вал. выборка: 0.833\n",
      "max_depth= 5 , min_samples_leaf= 8 , n_estimators = 61  -- Об. выборка: 0.8506666666666667 , Вал. выборка: 0.8325\n",
      "max_depth= 5 , min_samples_leaf= 8 , n_estimators = 71  -- Об. выборка: 0.8521666666666666 , Вал. выборка: 0.833\n",
      "max_depth= 5 , min_samples_leaf= 8 , n_estimators = 81  -- Об. выборка: 0.8521666666666666 , Вал. выборка: 0.833\n",
      "max_depth= 5 , min_samples_leaf= 8 , n_estimators = 91  -- Об. выборка: 0.8508333333333333 , Вал. выборка: 0.833\n",
      "max_depth= 6 , min_samples_leaf= 2 , n_estimators = 1  -- Об. выборка: 0.8365 , Вал. выборка: 0.807\n",
      "max_depth= 6 , min_samples_leaf= 2 , n_estimators = 11  -- Об. выборка: 0.862 , Вал. выборка: 0.8425\n",
      "max_depth= 6 , min_samples_leaf= 2 , n_estimators = 21  -- Об. выборка: 0.8625 , Вал. выборка: 0.8465\n",
      "max_depth= 6 , min_samples_leaf= 2 , n_estimators = 31  -- Об. выборка: 0.8666666666666667 , Вал. выборка: 0.846\n",
      "max_depth= 6 , min_samples_leaf= 2 , n_estimators = 41  -- Об. выборка: 0.8666666666666667 , Вал. выборка: 0.849\n",
      "max_depth= 6 , min_samples_leaf= 2 , n_estimators = 51  -- Об. выборка: 0.8646666666666667 , Вал. выборка: 0.846\n",
      "max_depth= 6 , min_samples_leaf= 2 , n_estimators = 61  -- Об. выборка: 0.8656666666666667 , Вал. выборка: 0.8435\n",
      "max_depth= 6 , min_samples_leaf= 2 , n_estimators = 71  -- Об. выборка: 0.863 , Вал. выборка: 0.841\n",
      "max_depth= 6 , min_samples_leaf= 2 , n_estimators = 81  -- Об. выборка: 0.8638333333333333 , Вал. выборка: 0.839\n",
      "max_depth= 6 , min_samples_leaf= 2 , n_estimators = 91  -- Об. выборка: 0.8641666666666666 , Вал. выборка: 0.843\n",
      "max_depth= 6 , min_samples_leaf= 3 , n_estimators = 1  -- Об. выборка: 0.8406666666666667 , Вал. выборка: 0.8175\n",
      "max_depth= 6 , min_samples_leaf= 3 , n_estimators = 11  -- Об. выборка: 0.8628333333333333 , Вал. выборка: 0.8455\n",
      "max_depth= 6 , min_samples_leaf= 3 , n_estimators = 21  -- Об. выборка: 0.8643333333333333 , Вал. выборка: 0.8455\n",
      "max_depth= 6 , min_samples_leaf= 3 , n_estimators = 31  -- Об. выборка: 0.8646666666666667 , Вал. выборка: 0.848\n",
      "max_depth= 6 , min_samples_leaf= 3 , n_estimators = 41  -- Об. выборка: 0.8648333333333333 , Вал. выборка: 0.846\n",
      "max_depth= 6 , min_samples_leaf= 3 , n_estimators = 51  -- Об. выборка: 0.8631666666666666 , Вал. выборка: 0.845\n",
      "max_depth= 6 , min_samples_leaf= 3 , n_estimators = 61  -- Об. выборка: 0.8621666666666666 , Вал. выборка: 0.8415\n",
      "max_depth= 6 , min_samples_leaf= 3 , n_estimators = 71  -- Об. выборка: 0.8631666666666666 , Вал. выборка: 0.8405\n",
      "max_depth= 6 , min_samples_leaf= 3 , n_estimators = 81  -- Об. выборка: 0.8635 , Вал. выборка: 0.841\n",
      "max_depth= 6 , min_samples_leaf= 3 , n_estimators = 91  -- Об. выборка: 0.866 , Вал. выборка: 0.841\n",
      "max_depth= 6 , min_samples_leaf= 4 , n_estimators = 1  -- Об. выборка: 0.8408333333333333 , Вал. выборка: 0.819\n",
      "max_depth= 6 , min_samples_leaf= 4 , n_estimators = 11  -- Об. выборка: 0.8631666666666666 , Вал. выборка: 0.849\n",
      "max_depth= 6 , min_samples_leaf= 4 , n_estimators = 21  -- Об. выборка: 0.8626666666666667 , Вал. выборка: 0.847\n",
      "max_depth= 6 , min_samples_leaf= 4 , n_estimators = 31  -- Об. выборка: 0.8641666666666666 , Вал. выборка: 0.8485\n",
      "max_depth= 6 , min_samples_leaf= 4 , n_estimators = 41  -- Об. выборка: 0.8646666666666667 , Вал. выборка: 0.847\n",
      "max_depth= 6 , min_samples_leaf= 4 , n_estimators = 51  -- Об. выборка: 0.8635 , Вал. выборка: 0.844\n",
      "max_depth= 6 , min_samples_leaf= 4 , n_estimators = 61  -- Об. выборка: 0.8636666666666667 , Вал. выборка: 0.843\n",
      "max_depth= 6 , min_samples_leaf= 4 , n_estimators = 71  -- Об. выборка: 0.8626666666666667 , Вал. выборка: 0.8405\n",
      "max_depth= 6 , min_samples_leaf= 4 , n_estimators = 81  -- Об. выборка: 0.8635 , Вал. выборка: 0.8425\n",
      "max_depth= 6 , min_samples_leaf= 4 , n_estimators = 91  -- Об. выборка: 0.8638333333333333 , Вал. выборка: 0.844\n",
      "max_depth= 6 , min_samples_leaf= 5 , n_estimators = 1  -- Об. выборка: 0.8413333333333334 , Вал. выборка: 0.819\n",
      "max_depth= 6 , min_samples_leaf= 5 , n_estimators = 11  -- Об. выборка: 0.8638333333333333 , Вал. выборка: 0.8485\n",
      "max_depth= 6 , min_samples_leaf= 5 , n_estimators = 21  -- Об. выборка: 0.8638333333333333 , Вал. выборка: 0.851\n",
      "max_depth= 6 , min_samples_leaf= 5 , n_estimators = 31  -- Об. выборка: 0.8655 , Вал. выборка: 0.8505\n",
      "max_depth= 6 , min_samples_leaf= 5 , n_estimators = 41  -- Об. выборка: 0.867 , Вал. выборка: 0.851\n",
      "max_depth= 6 , min_samples_leaf= 5 , n_estimators = 51  -- Об. выборка: 0.8671666666666666 , Вал. выборка: 0.8485\n",
      "max_depth= 6 , min_samples_leaf= 5 , n_estimators = 61  -- Об. выборка: 0.8671666666666666 , Вал. выборка: 0.843\n",
      "max_depth= 6 , min_samples_leaf= 5 , n_estimators = 71  -- Об. выборка: 0.8636666666666667 , Вал. выборка: 0.8425\n",
      "max_depth= 6 , min_samples_leaf= 5 , n_estimators = 81  -- Об. выборка: 0.8655 , Вал. выборка: 0.842\n",
      "max_depth= 6 , min_samples_leaf= 5 , n_estimators = 91  -- Об. выборка: 0.8656666666666667 , Вал. выборка: 0.8435\n",
      "max_depth= 6 , min_samples_leaf= 6 , n_estimators = 1  -- Об. выборка: 0.8401666666666666 , Вал. выборка: 0.8175\n",
      "max_depth= 6 , min_samples_leaf= 6 , n_estimators = 11  -- Об. выборка: 0.864 , Вал. выборка: 0.8505\n",
      "max_depth= 6 , min_samples_leaf= 6 , n_estimators = 21  -- Об. выборка: 0.8643333333333333 , Вал. выборка: 0.85\n",
      "max_depth= 6 , min_samples_leaf= 6 , n_estimators = 31  -- Об. выборка: 0.8658333333333333 , Вал. выборка: 0.849\n",
      "max_depth= 6 , min_samples_leaf= 6 , n_estimators = 41  -- Об. выборка: 0.8663333333333333 , Вал. выборка: 0.8505\n",
      "max_depth= 6 , min_samples_leaf= 6 , n_estimators = 51  -- Об. выборка: 0.8671666666666666 , Вал. выборка: 0.8495\n",
      "max_depth= 6 , min_samples_leaf= 6 , n_estimators = 61  -- Об. выборка: 0.8675 , Вал. выборка: 0.8475\n",
      "max_depth= 6 , min_samples_leaf= 6 , n_estimators = 71  -- Об. выборка: 0.8668333333333333 , Вал. выборка: 0.847\n",
      "max_depth= 6 , min_samples_leaf= 6 , n_estimators = 81  -- Об. выборка: 0.8661666666666666 , Вал. выборка: 0.8465\n",
      "max_depth= 6 , min_samples_leaf= 6 , n_estimators = 91  -- Об. выборка: 0.8655 , Вал. выборка: 0.8485\n",
      "max_depth= 6 , min_samples_leaf= 7 , n_estimators = 1  -- Об. выборка: 0.8396666666666667 , Вал. выборка: 0.818\n",
      "max_depth= 6 , min_samples_leaf= 7 , n_estimators = 11  -- Об. выборка: 0.8628333333333333 , Вал. выборка: 0.8505\n",
      "max_depth= 6 , min_samples_leaf= 7 , n_estimators = 21  -- Об. выборка: 0.8648333333333333 , Вал. выборка: 0.8475\n",
      "max_depth= 6 , min_samples_leaf= 7 , n_estimators = 31  -- Об. выборка: 0.8661666666666666 , Вал. выборка: 0.85\n",
      "max_depth= 6 , min_samples_leaf= 7 , n_estimators = 41  -- Об. выборка: 0.8656666666666667 , Вал. выборка: 0.851\n",
      "max_depth= 6 , min_samples_leaf= 7 , n_estimators = 51  -- Об. выборка: 0.8655 , Вал. выборка: 0.848\n",
      "max_depth= 6 , min_samples_leaf= 7 , n_estimators = 61  -- Об. выборка: 0.8668333333333333 , Вал. выборка: 0.847\n",
      "max_depth= 6 , min_samples_leaf= 7 , n_estimators = 71  -- Об. выборка: 0.8661666666666666 , Вал. выборка: 0.848\n",
      "max_depth= 6 , min_samples_leaf= 7 , n_estimators = 81  -- Об. выборка: 0.8653333333333333 , Вал. выборка: 0.8455\n",
      "max_depth= 6 , min_samples_leaf= 7 , n_estimators = 91  -- Об. выборка: 0.8658333333333333 , Вал. выборка: 0.8475\n",
      "max_depth= 6 , min_samples_leaf= 8 , n_estimators = 1  -- Об. выборка: 0.8393333333333334 , Вал. выборка: 0.8185\n",
      "max_depth= 6 , min_samples_leaf= 8 , n_estimators = 11  -- Об. выборка: 0.8625 , Вал. выборка: 0.848\n",
      "max_depth= 6 , min_samples_leaf= 8 , n_estimators = 21  -- Об. выборка: 0.8643333333333333 , Вал. выборка: 0.8485\n",
      "max_depth= 6 , min_samples_leaf= 8 , n_estimators = 31  -- Об. выборка: 0.8663333333333333 , Вал. выборка: 0.85\n",
      "max_depth= 6 , min_samples_leaf= 8 , n_estimators = 41  -- Об. выборка: 0.8656666666666667 , Вал. выборка: 0.85\n",
      "max_depth= 6 , min_samples_leaf= 8 , n_estimators = 51  -- Об. выборка: 0.8655 , Вал. выборка: 0.8495\n",
      "max_depth= 6 , min_samples_leaf= 8 , n_estimators = 61  -- Об. выборка: 0.8665 , Вал. выборка: 0.8475\n",
      "max_depth= 6 , min_samples_leaf= 8 , n_estimators = 71  -- Об. выборка: 0.8658333333333333 , Вал. выборка: 0.8485\n",
      "max_depth= 6 , min_samples_leaf= 8 , n_estimators = 81  -- Об. выборка: 0.866 , Вал. выборка: 0.85\n",
      "max_depth= 6 , min_samples_leaf= 8 , n_estimators = 91  -- Об. выборка: 0.8661666666666666 , Вал. выборка: 0.8485\n",
      "max_depth= 7 , min_samples_leaf= 2 , n_estimators = 1  -- Об. выборка: 0.8458333333333333 , Вал. выборка: 0.819\n",
      "max_depth= 7 , min_samples_leaf= 2 , n_estimators = 11  -- Об. выборка: 0.8715 , Вал. выборка: 0.8505\n",
      "max_depth= 7 , min_samples_leaf= 2 , n_estimators = 21  -- Об. выборка: 0.8723333333333333 , Вал. выборка: 0.8485\n",
      "max_depth= 7 , min_samples_leaf= 2 , n_estimators = 31  -- Об. выборка: 0.8746666666666667 , Вал. выборка: 0.8485\n",
      "max_depth= 7 , min_samples_leaf= 2 , n_estimators = 41  -- Об. выборка: 0.876 , Вал. выборка: 0.8505\n",
      "max_depth= 7 , min_samples_leaf= 2 , n_estimators = 51  -- Об. выборка: 0.8755 , Вал. выборка: 0.853\n",
      "max_depth= 7 , min_samples_leaf= 2 , n_estimators = 61  -- Об. выборка: 0.8756666666666667 , Вал. выборка: 0.854\n",
      "max_depth= 7 , min_samples_leaf= 2 , n_estimators = 71  -- Об. выборка: 0.8758333333333334 , Вал. выборка: 0.8515\n",
      "max_depth= 7 , min_samples_leaf= 2 , n_estimators = 81  -- Об. выборка: 0.8748333333333334 , Вал. выборка: 0.8535\n",
      "max_depth= 7 , min_samples_leaf= 2 , n_estimators = 91  -- Об. выборка: 0.8756666666666667 , Вал. выборка: 0.8515\n",
      "max_depth= 7 , min_samples_leaf= 3 , n_estimators = 1  -- Об. выборка: 0.8458333333333333 , Вал. выборка: 0.82\n",
      "max_depth= 7 , min_samples_leaf= 3 , n_estimators = 11  -- Об. выборка: 0.8678333333333333 , Вал. выборка: 0.847\n",
      "max_depth= 7 , min_samples_leaf= 3 , n_estimators = 21  -- Об. выборка: 0.8706666666666667 , Вал. выборка: 0.848\n",
      "max_depth= 7 , min_samples_leaf= 3 , n_estimators = 31  -- Об. выборка: 0.8713333333333333 , Вал. выборка: 0.848\n",
      "max_depth= 7 , min_samples_leaf= 3 , n_estimators = 41  -- Об. выборка: 0.8726666666666667 , Вал. выборка: 0.849\n",
      "max_depth= 7 , min_samples_leaf= 3 , n_estimators = 51  -- Об. выборка: 0.8731666666666666 , Вал. выборка: 0.8495\n",
      "max_depth= 7 , min_samples_leaf= 3 , n_estimators = 61  -- Об. выборка: 0.8733333333333333 , Вал. выборка: 0.8475\n",
      "max_depth= 7 , min_samples_leaf= 3 , n_estimators = 71  -- Об. выборка: 0.8733333333333333 , Вал. выборка: 0.8495\n",
      "max_depth= 7 , min_samples_leaf= 3 , n_estimators = 81  -- Об. выборка: 0.8731666666666666 , Вал. выборка: 0.8475\n",
      "max_depth= 7 , min_samples_leaf= 3 , n_estimators = 91  -- Об. выборка: 0.873 , Вал. выборка: 0.8495\n",
      "max_depth= 7 , min_samples_leaf= 4 , n_estimators = 1  -- Об. выборка: 0.8503333333333334 , Вал. выборка: 0.818\n",
      "max_depth= 7 , min_samples_leaf= 4 , n_estimators = 11  -- Об. выборка: 0.8676666666666667 , Вал. выборка: 0.841\n",
      "max_depth= 7 , min_samples_leaf= 4 , n_estimators = 21  -- Об. выборка: 0.8703333333333333 , Вал. выборка: 0.8475\n",
      "max_depth= 7 , min_samples_leaf= 4 , n_estimators = 31  -- Об. выборка: 0.873 , Вал. выборка: 0.8515\n",
      "max_depth= 7 , min_samples_leaf= 4 , n_estimators = 41  -- Об. выборка: 0.8745 , Вал. выборка: 0.856\n",
      "max_depth= 7 , min_samples_leaf= 4 , n_estimators = 51  -- Об. выборка: 0.8745 , Вал. выборка: 0.8525\n",
      "max_depth= 7 , min_samples_leaf= 4 , n_estimators = 61  -- Об. выборка: 0.8735 , Вал. выборка: 0.852\n",
      "max_depth= 7 , min_samples_leaf= 4 , n_estimators = 71  -- Об. выборка: 0.873 , Вал. выборка: 0.853\n",
      "max_depth= 7 , min_samples_leaf= 4 , n_estimators = 81  -- Об. выборка: 0.8745 , Вал. выборка: 0.852\n",
      "max_depth= 7 , min_samples_leaf= 4 , n_estimators = 91  -- Об. выборка: 0.8733333333333333 , Вал. выборка: 0.8515\n",
      "max_depth= 7 , min_samples_leaf= 5 , n_estimators = 1  -- Об. выборка: 0.849 , Вал. выборка: 0.824\n",
      "max_depth= 7 , min_samples_leaf= 5 , n_estimators = 11  -- Об. выборка: 0.868 , Вал. выборка: 0.846\n",
      "max_depth= 7 , min_samples_leaf= 5 , n_estimators = 21  -- Об. выборка: 0.8708333333333333 , Вал. выборка: 0.8445\n",
      "max_depth= 7 , min_samples_leaf= 5 , n_estimators = 31  -- Об. выборка: 0.871 , Вал. выборка: 0.8485\n",
      "max_depth= 7 , min_samples_leaf= 5 , n_estimators = 41  -- Об. выборка: 0.8735 , Вал. выборка: 0.8505\n",
      "max_depth= 7 , min_samples_leaf= 5 , n_estimators = 51  -- Об. выборка: 0.8728333333333333 , Вал. выборка: 0.8535\n",
      "max_depth= 7 , min_samples_leaf= 5 , n_estimators = 61  -- Об. выборка: 0.8731666666666666 , Вал. выборка: 0.852\n",
      "max_depth= 7 , min_samples_leaf= 5 , n_estimators = 71  -- Об. выборка: 0.8726666666666667 , Вал. выборка: 0.853\n",
      "max_depth= 7 , min_samples_leaf= 5 , n_estimators = 81  -- Об. выборка: 0.8725 , Вал. выборка: 0.8515\n",
      "max_depth= 7 , min_samples_leaf= 5 , n_estimators = 91  -- Об. выборка: 0.8715 , Вал. выборка: 0.851\n",
      "max_depth= 7 , min_samples_leaf= 6 , n_estimators = 1  -- Об. выборка: 0.8488333333333333 , Вал. выборка: 0.825\n",
      "max_depth= 7 , min_samples_leaf= 6 , n_estimators = 11  -- Об. выборка: 0.8651666666666666 , Вал. выборка: 0.843\n",
      "max_depth= 7 , min_samples_leaf= 6 , n_estimators = 21  -- Об. выборка: 0.8675 , Вал. выборка: 0.845\n",
      "max_depth= 7 , min_samples_leaf= 6 , n_estimators = 31  -- Об. выборка: 0.8698333333333333 , Вал. выборка: 0.8495\n",
      "max_depth= 7 , min_samples_leaf= 6 , n_estimators = 41  -- Об. выборка: 0.8713333333333333 , Вал. выборка: 0.852\n",
      "max_depth= 7 , min_samples_leaf= 6 , n_estimators = 51  -- Об. выборка: 0.8716666666666667 , Вал. выборка: 0.851\n",
      "max_depth= 7 , min_samples_leaf= 6 , n_estimators = 61  -- Об. выборка: 0.8716666666666667 , Вал. выборка: 0.85\n",
      "max_depth= 7 , min_samples_leaf= 6 , n_estimators = 71  -- Об. выборка: 0.8696666666666667 , Вал. выборка: 0.85\n",
      "max_depth= 7 , min_samples_leaf= 6 , n_estimators = 81  -- Об. выборка: 0.871 , Вал. выборка: 0.8485\n",
      "max_depth= 7 , min_samples_leaf= 6 , n_estimators = 91  -- Об. выборка: 0.8715 , Вал. выборка: 0.8495\n",
      "max_depth= 7 , min_samples_leaf= 7 , n_estimators = 1  -- Об. выборка: 0.8523333333333334 , Вал. выборка: 0.827\n",
      "max_depth= 7 , min_samples_leaf= 7 , n_estimators = 11  -- Об. выборка: 0.8668333333333333 , Вал. выборка: 0.846\n",
      "max_depth= 7 , min_samples_leaf= 7 , n_estimators = 21  -- Об. выборка: 0.87 , Вал. выборка: 0.8505\n",
      "max_depth= 7 , min_samples_leaf= 7 , n_estimators = 31  -- Об. выборка: 0.8696666666666667 , Вал. выборка: 0.8535\n",
      "max_depth= 7 , min_samples_leaf= 7 , n_estimators = 41  -- Об. выборка: 0.8715 , Вал. выборка: 0.854\n",
      "max_depth= 7 , min_samples_leaf= 7 , n_estimators = 51  -- Об. выборка: 0.872 , Вал. выборка: 0.8545\n",
      "max_depth= 7 , min_samples_leaf= 7 , n_estimators = 61  -- Об. выборка: 0.8716666666666667 , Вал. выборка: 0.853\n",
      "max_depth= 7 , min_samples_leaf= 7 , n_estimators = 71  -- Об. выборка: 0.8706666666666667 , Вал. выборка: 0.854\n",
      "max_depth= 7 , min_samples_leaf= 7 , n_estimators = 81  -- Об. выборка: 0.8706666666666667 , Вал. выборка: 0.8545\n",
      "max_depth= 7 , min_samples_leaf= 7 , n_estimators = 91  -- Об. выборка: 0.8708333333333333 , Вал. выборка: 0.8535\n",
      "max_depth= 7 , min_samples_leaf= 8 , n_estimators = 1  -- Об. выборка: 0.8516666666666667 , Вал. выборка: 0.827\n",
      "max_depth= 7 , min_samples_leaf= 8 , n_estimators = 11  -- Об. выборка: 0.87 , Вал. выборка: 0.851\n",
      "max_depth= 7 , min_samples_leaf= 8 , n_estimators = 21  -- Об. выборка: 0.8696666666666667 , Вал. выборка: 0.852\n",
      "max_depth= 7 , min_samples_leaf= 8 , n_estimators = 31  -- Об. выборка: 0.8701666666666666 , Вал. выборка: 0.8535\n",
      "max_depth= 7 , min_samples_leaf= 8 , n_estimators = 41  -- Об. выборка: 0.8718333333333333 , Вал. выборка: 0.8515\n",
      "max_depth= 7 , min_samples_leaf= 8 , n_estimators = 51  -- Об. выборка: 0.872 , Вал. выборка: 0.851\n",
      "max_depth= 7 , min_samples_leaf= 8 , n_estimators = 61  -- Об. выборка: 0.871 , Вал. выборка: 0.8535\n",
      "max_depth= 7 , min_samples_leaf= 8 , n_estimators = 71  -- Об. выборка: 0.8706666666666667 , Вал. выборка: 0.854\n",
      "max_depth= 7 , min_samples_leaf= 8 , n_estimators = 81  -- Об. выборка: 0.8703333333333333 , Вал. выборка: 0.853\n",
      "max_depth= 7 , min_samples_leaf= 8 , n_estimators = 91  -- Об. выборка: 0.8696666666666667 , Вал. выборка: 0.854\n",
      "max_depth= 8 , min_samples_leaf= 2 , n_estimators = 1  -- Об. выборка: 0.8548333333333333 , Вал. выборка: 0.8315\n",
      "max_depth= 8 , min_samples_leaf= 2 , n_estimators = 11  -- Об. выборка: 0.8796666666666667 , Вал. выборка: 0.849\n",
      "max_depth= 8 , min_samples_leaf= 2 , n_estimators = 21  -- Об. выборка: 0.883 , Вал. выборка: 0.853\n",
      "max_depth= 8 , min_samples_leaf= 2 , n_estimators = 31  -- Об. выборка: 0.8826666666666667 , Вал. выборка: 0.853\n",
      "max_depth= 8 , min_samples_leaf= 2 , n_estimators = 41  -- Об. выборка: 0.8838333333333334 , Вал. выборка: 0.851\n",
      "max_depth= 8 , min_samples_leaf= 2 , n_estimators = 51  -- Об. выборка: 0.884 , Вал. выборка: 0.853\n",
      "max_depth= 8 , min_samples_leaf= 2 , n_estimators = 61  -- Об. выборка: 0.885 , Вал. выборка: 0.8515\n",
      "max_depth= 8 , min_samples_leaf= 2 , n_estimators = 71  -- Об. выборка: 0.885 , Вал. выборка: 0.852\n",
      "max_depth= 8 , min_samples_leaf= 2 , n_estimators = 81  -- Об. выборка: 0.8855 , Вал. выборка: 0.8515\n",
      "max_depth= 8 , min_samples_leaf= 2 , n_estimators = 91  -- Об. выборка: 0.8846666666666667 , Вал. выборка: 0.853\n",
      "max_depth= 8 , min_samples_leaf= 3 , n_estimators = 1  -- Об. выборка: 0.8558333333333333 , Вал. выборка: 0.8275\n",
      "max_depth= 8 , min_samples_leaf= 3 , n_estimators = 11  -- Об. выборка: 0.876 , Вал. выборка: 0.8525\n",
      "max_depth= 8 , min_samples_leaf= 3 , n_estimators = 21  -- Об. выборка: 0.8803333333333333 , Вал. выборка: 0.8555\n",
      "max_depth= 8 , min_samples_leaf= 3 , n_estimators = 31  -- Об. выборка: 0.8815 , Вал. выборка: 0.856\n",
      "max_depth= 8 , min_samples_leaf= 3 , n_estimators = 41  -- Об. выборка: 0.8818333333333334 , Вал. выборка: 0.855\n",
      "max_depth= 8 , min_samples_leaf= 3 , n_estimators = 51  -- Об. выборка: 0.882 , Вал. выборка: 0.8535\n",
      "max_depth= 8 , min_samples_leaf= 3 , n_estimators = 61  -- Об. выборка: 0.883 , Вал. выборка: 0.8555\n",
      "max_depth= 8 , min_samples_leaf= 3 , n_estimators = 71  -- Об. выборка: 0.882 , Вал. выборка: 0.854\n",
      "max_depth= 8 , min_samples_leaf= 3 , n_estimators = 81  -- Об. выборка: 0.882 , Вал. выборка: 0.854\n",
      "max_depth= 8 , min_samples_leaf= 3 , n_estimators = 91  -- Об. выборка: 0.8821666666666667 , Вал. выборка: 0.8545\n",
      "max_depth= 8 , min_samples_leaf= 4 , n_estimators = 1  -- Об. выборка: 0.8615 , Вал. выборка: 0.8325\n",
      "max_depth= 8 , min_samples_leaf= 4 , n_estimators = 11  -- Об. выборка: 0.8778333333333334 , Вал. выборка: 0.8515\n",
      "max_depth= 8 , min_samples_leaf= 4 , n_estimators = 21  -- Об. выборка: 0.879 , Вал. выборка: 0.849\n",
      "max_depth= 8 , min_samples_leaf= 4 , n_estimators = 31  -- Об. выборка: 0.8806666666666667 , Вал. выборка: 0.851\n",
      "max_depth= 8 , min_samples_leaf= 4 , n_estimators = 41  -- Об. выборка: 0.8803333333333333 , Вал. выборка: 0.85\n",
      "max_depth= 8 , min_samples_leaf= 4 , n_estimators = 51  -- Об. выборка: 0.881 , Вал. выборка: 0.852\n",
      "max_depth= 8 , min_samples_leaf= 4 , n_estimators = 61  -- Об. выборка: 0.8798333333333334 , Вал. выборка: 0.8505\n",
      "max_depth= 8 , min_samples_leaf= 4 , n_estimators = 71  -- Об. выборка: 0.8796666666666667 , Вал. выборка: 0.85\n",
      "max_depth= 8 , min_samples_leaf= 4 , n_estimators = 81  -- Об. выборка: 0.8795 , Вал. выборка: 0.8525\n",
      "max_depth= 8 , min_samples_leaf= 4 , n_estimators = 91  -- Об. выборка: 0.8798333333333334 , Вал. выборка: 0.853\n",
      "max_depth= 8 , min_samples_leaf= 5 , n_estimators = 1  -- Об. выборка: 0.8573333333333333 , Вал. выборка: 0.825\n",
      "max_depth= 8 , min_samples_leaf= 5 , n_estimators = 11  -- Об. выборка: 0.8748333333333334 , Вал. выборка: 0.853\n",
      "max_depth= 8 , min_samples_leaf= 5 , n_estimators = 21  -- Об. выборка: 0.8755 , Вал. выборка: 0.8545\n",
      "max_depth= 8 , min_samples_leaf= 5 , n_estimators = 31  -- Об. выборка: 0.8793333333333333 , Вал. выборка: 0.8575\n",
      "max_depth= 8 , min_samples_leaf= 5 , n_estimators = 41  -- Об. выборка: 0.8796666666666667 , Вал. выборка: 0.857\n",
      "max_depth= 8 , min_samples_leaf= 5 , n_estimators = 51  -- Об. выборка: 0.8796666666666667 , Вал. выборка: 0.8575\n",
      "max_depth= 8 , min_samples_leaf= 5 , n_estimators = 61  -- Об. выборка: 0.879 , Вал. выборка: 0.8555\n",
      "max_depth= 8 , min_samples_leaf= 5 , n_estimators = 71  -- Об. выборка: 0.8776666666666667 , Вал. выборка: 0.8545\n",
      "max_depth= 8 , min_samples_leaf= 5 , n_estimators = 81  -- Об. выборка: 0.8785 , Вал. выборка: 0.853\n",
      "max_depth= 8 , min_samples_leaf= 5 , n_estimators = 91  -- Об. выборка: 0.8791666666666667 , Вал. выборка: 0.855\n",
      "max_depth= 8 , min_samples_leaf= 6 , n_estimators = 1  -- Об. выборка: 0.8551666666666666 , Вал. выборка: 0.8275\n",
      "max_depth= 8 , min_samples_leaf= 6 , n_estimators = 11  -- Об. выборка: 0.8733333333333333 , Вал. выборка: 0.853\n",
      "max_depth= 8 , min_samples_leaf= 6 , n_estimators = 21  -- Об. выборка: 0.8756666666666667 , Вал. выборка: 0.855\n",
      "max_depth= 8 , min_samples_leaf= 6 , n_estimators = 31  -- Об. выборка: 0.8778333333333334 , Вал. выборка: 0.856\n",
      "max_depth= 8 , min_samples_leaf= 6 , n_estimators = 41  -- Об. выборка: 0.8791666666666667 , Вал. выборка: 0.855\n",
      "max_depth= 8 , min_samples_leaf= 6 , n_estimators = 51  -- Об. выборка: 0.8776666666666667 , Вал. выборка: 0.854\n",
      "max_depth= 8 , min_samples_leaf= 6 , n_estimators = 61  -- Об. выборка: 0.8768333333333334 , Вал. выборка: 0.854\n",
      "max_depth= 8 , min_samples_leaf= 6 , n_estimators = 71  -- Об. выборка: 0.8768333333333334 , Вал. выборка: 0.853\n",
      "max_depth= 8 , min_samples_leaf= 6 , n_estimators = 81  -- Об. выборка: 0.8763333333333333 , Вал. выборка: 0.853\n",
      "max_depth= 8 , min_samples_leaf= 6 , n_estimators = 91  -- Об. выборка: 0.8768333333333334 , Вал. выборка: 0.8525\n",
      "max_depth= 8 , min_samples_leaf= 7 , n_estimators = 1  -- Об. выборка: 0.8433333333333334 , Вал. выборка: 0.815\n",
      "max_depth= 8 , min_samples_leaf= 7 , n_estimators = 11  -- Об. выборка: 0.8691666666666666 , Вал. выборка: 0.851\n",
      "max_depth= 8 , min_samples_leaf= 7 , n_estimators = 21  -- Об. выборка: 0.8733333333333333 , Вал. выборка: 0.858\n",
      "max_depth= 8 , min_samples_leaf= 7 , n_estimators = 31  -- Об. выборка: 0.875 , Вал. выборка: 0.86\n",
      "max_depth= 8 , min_samples_leaf= 7 , n_estimators = 41  -- Об. выборка: 0.8746666666666667 , Вал. выборка: 0.856\n",
      "max_depth= 8 , min_samples_leaf= 7 , n_estimators = 51  -- Об. выборка: 0.875 , Вал. выборка: 0.8545\n",
      "max_depth= 8 , min_samples_leaf= 7 , n_estimators = 61  -- Об. выборка: 0.8741666666666666 , Вал. выборка: 0.855\n",
      "max_depth= 8 , min_samples_leaf= 7 , n_estimators = 71  -- Об. выборка: 0.8748333333333334 , Вал. выборка: 0.8545\n",
      "max_depth= 8 , min_samples_leaf= 7 , n_estimators = 81  -- Об. выборка: 0.875 , Вал. выборка: 0.8525\n",
      "max_depth= 8 , min_samples_leaf= 7 , n_estimators = 91  -- Об. выборка: 0.8748333333333334 , Вал. выборка: 0.854\n",
      "max_depth= 8 , min_samples_leaf= 8 , n_estimators = 1  -- Об. выборка: 0.8406666666666667 , Вал. выборка: 0.816\n",
      "max_depth= 8 , min_samples_leaf= 8 , n_estimators = 11  -- Об. выборка: 0.8728333333333333 , Вал. выборка: 0.8555\n",
      "max_depth= 8 , min_samples_leaf= 8 , n_estimators = 21  -- Об. выборка: 0.8756666666666667 , Вал. выборка: 0.857\n",
      "max_depth= 8 , min_samples_leaf= 8 , n_estimators = 31  -- Об. выборка: 0.8763333333333333 , Вал. выборка: 0.859\n",
      "max_depth= 8 , min_samples_leaf= 8 , n_estimators = 41  -- Об. выборка: 0.8781666666666667 , Вал. выборка: 0.858\n",
      "max_depth= 8 , min_samples_leaf= 8 , n_estimators = 51  -- Об. выборка: 0.877 , Вал. выборка: 0.858\n",
      "max_depth= 8 , min_samples_leaf= 8 , n_estimators = 61  -- Об. выборка: 0.876 , Вал. выборка: 0.858\n",
      "max_depth= 8 , min_samples_leaf= 8 , n_estimators = 71  -- Об. выборка: 0.8756666666666667 , Вал. выборка: 0.8595\n",
      "max_depth= 8 , min_samples_leaf= 8 , n_estimators = 81  -- Об. выборка: 0.8763333333333333 , Вал. выборка: 0.8565\n",
      "max_depth= 8 , min_samples_leaf= 8 , n_estimators = 91  -- Об. выборка: 0.8756666666666667 , Вал. выборка: 0.858\n"
     ]
    }
   ],
   "source": [
    "for depth in range(2, 9):\n",
    "    for samples in range(2, 9):\n",
    "        for estim in range(1, 101, 10):\n",
    "            model = RandomForestClassifier(random_state=45, max_depth=depth, n_estimators=estim, min_samples_leaf = samples)\n",
    "            model.fit(train_features, train_target)\n",
    "            valid_prediction = model.predict(valid_features)\n",
    "            train_prediction = model.predict(train_features)\n",
    "            print('max_depth=', depth, ',', 'min_samples_leaf=', samples, ',', \"n_estimators =\", estim, \" -- \", end='')\n",
    "            print('Об. выборка:', accuracy_score(train_target, train_prediction), ',','Вал. выборка:', accuracy_score(valid_target, valid_prediction))"
   ]
  },
  {
   "cell_type": "code",
   "execution_count": 55,
   "metadata": {},
   "outputs": [],
   "source": [
    "model_ranfor = RandomForestClassifier(random_state=45, \n",
    "                                      max_depth= 7, \n",
    "                                      min_samples_leaf = 4, \n",
    "                                      n_estimators= 19)"
   ]
  },
  {
   "cell_type": "code",
   "execution_count": 56,
   "metadata": {},
   "outputs": [
    {
     "data": {
      "text/plain": [
       "RandomForestClassifier(bootstrap=True, class_weight=None, criterion='gini',\n",
       "                       max_depth=7, max_features='auto', max_leaf_nodes=None,\n",
       "                       min_impurity_decrease=0.0, min_impurity_split=None,\n",
       "                       min_samples_leaf=4, min_samples_split=2,\n",
       "                       min_weight_fraction_leaf=0.0, n_estimators=19,\n",
       "                       n_jobs=None, oob_score=False, random_state=45, verbose=0,\n",
       "                       warm_start=False)"
      ]
     },
     "execution_count": 56,
     "metadata": {},
     "output_type": "execute_result"
    }
   ],
   "source": [
    "model_ranfor.fit(train_features, train_target)"
   ]
  },
  {
   "cell_type": "code",
   "execution_count": 57,
   "metadata": {},
   "outputs": [],
   "source": [
    "train_pred_ranfor = model_ranfor.predict(train_features)"
   ]
  },
  {
   "cell_type": "code",
   "execution_count": 58,
   "metadata": {},
   "outputs": [],
   "source": [
    "valid_pred_ranfor = model_ranfor.predict(valid_features)"
   ]
  },
  {
   "cell_type": "code",
   "execution_count": 59,
   "metadata": {},
   "outputs": [
    {
     "name": "stdout",
     "output_type": "stream",
     "text": [
      "F1 score:\n",
      "Обучающая выборка: 0.87\n",
      "Валидационная выборка: 0.8455\n"
     ]
    }
   ],
   "source": [
    "print('F1 score:')\n",
    "print('Обучающая выборка:', f1_score(train_target, train_pred_ranfor, average='micro'))\n",
    "print('Валидационная выборка:', f1_score(valid_target, valid_pred_ranfor, average='micro'))"
   ]
  },
  {
   "cell_type": "code",
   "execution_count": 60,
   "metadata": {},
   "outputs": [],
   "source": [
    "proba_train_ranfor = model_ranfor.predict_proba(train_features)"
   ]
  },
  {
   "cell_type": "code",
   "execution_count": 61,
   "metadata": {},
   "outputs": [],
   "source": [
    "proba_valid_ranfor = model_ranfor.predict_proba(valid_features)"
   ]
  },
  {
   "cell_type": "code",
   "execution_count": 62,
   "metadata": {},
   "outputs": [
    {
     "name": "stdout",
     "output_type": "stream",
     "text": [
      "AUC-ROC:\n",
      "Обучающая выборка: 0.8881389673595279\n",
      "Валидационная выборка: 0.8429545965741752\n"
     ]
    }
   ],
   "source": [
    "print('AUC-ROC:')\n",
    "print('Обучающая выборка:', roc_auc_score(train_target, proba_train_ranfor[:,1], average='micro'))\n",
    "print('Валидационная выборка:', roc_auc_score(valid_target, proba_valid_ranfor[:,1], average='micro'))"
   ]
  },
  {
   "cell_type": "code",
   "execution_count": 63,
   "metadata": {},
   "outputs": [
    {
     "data": {
      "text/plain": [
       "array([[1555,   26],\n",
       "       [ 283,  136]], dtype=int64)"
      ]
     },
     "execution_count": 63,
     "metadata": {},
     "output_type": "execute_result"
    }
   ],
   "source": [
    "confusion_matrix(valid_target, valid_pred_ranfor)"
   ]
  },
  {
   "cell_type": "code",
   "execution_count": 64,
   "metadata": {},
   "outputs": [
    {
     "data": {
      "image/png": "[encoded data removed]",
      "text/plain": [
       "<Figure size 432x288 with 1 Axes>"
      ]
     },
     "metadata": {
      "needs_background": "light"
     },
     "output_type": "display_data"
    }
   ],
   "source": [
    "fpr_rf, tpr_rf, thresholds_rf = roc_curve(valid_target, proba_valid_ranfor[:,1])\n",
    "plt.figure()\n",
    "plt.plot(fpr_rf, tpr_rf)\n",
    "plt.plot([0, 1], [0, 1], linestyle='--')\n",
    "plt.xlim([0.0, 1.0])\n",
    "plt.ylim([0.0, 1.0])\n",
    "plt.xlabel('False Positive Rate')\n",
    "plt.ylabel('True Positive Rate')\n",
    "plt.title('ROC-кривая')\n",
    "plt.show()"
   ]
  },
  {
   "cell_type": "markdown",
   "metadata": {},
   "source": [
    "#### Вывод.\n",
    "Хуже всех на такой несбалансированной выборке учится логистическая регрессия. Как показывает матрица ошибок, эта модель не смогла предсказать положительный ответ, поэтому она имеет самую низкую F1-меру, а AUC-ROC кривая практически не отличается от таковой у случайной модели.   \n",
    "Таким образом можно сделать вывод, что сильно несбалансированная выборка не может адекватно научить модель правильно относить признак к нужному классу. "
   ]
  },
  {
   "cell_type": "markdown",
   "metadata": {},
   "source": [
    "# 3. Борьба с дисбалансом"
   ]
  },
  {
   "cell_type": "markdown",
   "metadata": {},
   "source": [
    "### Способ № 1.\n",
    "Присвоение равнозначности класам с помощью параметра class_weight='balanced'."
   ]
  },
  {
   "cell_type": "markdown",
   "metadata": {},
   "source": [
    "#### Логистическая регрессия"
   ]
  },
  {
   "cell_type": "code",
   "execution_count": 65,
   "metadata": {},
   "outputs": [],
   "source": [
    "log_regr_model_bal = LogisticRegression(random_state=45, \n",
    "                                        solver='liblinear', \n",
    "                                        class_weight='balanced')"
   ]
  },
  {
   "cell_type": "code",
   "execution_count": 66,
   "metadata": {},
   "outputs": [
    {
     "data": {
      "text/plain": [
       "LogisticRegression(C=1.0, class_weight='balanced', dual=False,\n",
       "                   fit_intercept=True, intercept_scaling=1, l1_ratio=None,\n",
       "                   max_iter=100, multi_class='warn', n_jobs=None, penalty='l2',\n",
       "                   random_state=45, solver='liblinear', tol=0.0001, verbose=0,\n",
       "                   warm_start=False)"
      ]
     },
     "execution_count": 66,
     "metadata": {},
     "output_type": "execute_result"
    }
   ],
   "source": [
    "log_regr_model_bal.fit(train_features, train_target)"
   ]
  },
  {
   "cell_type": "code",
   "execution_count": 67,
   "metadata": {},
   "outputs": [],
   "source": [
    "valid_pred_logregr_balanced = log_regr_model_bal.predict(valid_features)"
   ]
  },
  {
   "cell_type": "code",
   "execution_count": 68,
   "metadata": {},
   "outputs": [],
   "source": [
    "proba_valid_logreg_balanced = log_regr_model_bal.predict_proba(valid_features)"
   ]
  },
  {
   "cell_type": "code",
   "execution_count": 69,
   "metadata": {},
   "outputs": [
    {
     "name": "stdout",
     "output_type": "stream",
     "text": [
      "Accuracy score: 0.6985\n",
      "F1 score: 0.6985\n",
      "AUC-ROC: 0.7753921493148803\n"
     ]
    }
   ],
   "source": [
    "print('Accuracy score:', accuracy_score(valid_target, valid_pred_logregr_balanced))\n",
    "print('F1 score:', f1_score(valid_target, valid_pred_logregr_balanced, average='micro'))\n",
    "print('AUC-ROC:', roc_auc_score(valid_target, proba_valid_logreg_balanced[:,1], average='micro'))"
   ]
  },
  {
   "cell_type": "markdown",
   "metadata": {},
   "source": [
    "#### Дерево решений"
   ]
  },
  {
   "cell_type": "code",
   "execution_count": 70,
   "metadata": {},
   "outputs": [],
   "source": [
    "model_des_tree_balanced = DecisionTreeClassifier(random_state=45,\n",
    "                                                 max_depth=7, \n",
    "                                                 min_samples_leaf =10, \n",
    "                                                 class_weight='balanced')"
   ]
  },
  {
   "cell_type": "code",
   "execution_count": 71,
   "metadata": {},
   "outputs": [
    {
     "data": {
      "text/plain": [
       "DecisionTreeClassifier(class_weight='balanced', criterion='gini', max_depth=7,\n",
       "                       max_features=None, max_leaf_nodes=None,\n",
       "                       min_impurity_decrease=0.0, min_impurity_split=None,\n",
       "                       min_samples_leaf=10, min_samples_split=2,\n",
       "                       min_weight_fraction_leaf=0.0, presort=False,\n",
       "                       random_state=45, splitter='best')"
      ]
     },
     "execution_count": 71,
     "metadata": {},
     "output_type": "execute_result"
    }
   ],
   "source": [
    "model_des_tree_balanced.fit(train_features, train_target)"
   ]
  },
  {
   "cell_type": "code",
   "execution_count": 72,
   "metadata": {},
   "outputs": [],
   "source": [
    "valid_pred_des_tree_balanced = model_des_tree_balanced.predict(valid_features)"
   ]
  },
  {
   "cell_type": "code",
   "execution_count": 73,
   "metadata": {},
   "outputs": [],
   "source": [
    "proba_valid_des_tree_balanced = model_des_tree_balanced.predict_proba(valid_features)"
   ]
  },
  {
   "cell_type": "code",
   "execution_count": 74,
   "metadata": {},
   "outputs": [
    {
     "name": "stdout",
     "output_type": "stream",
     "text": [
      "Accuracy score: 0.771\n",
      "F1 score: 0.771\n",
      "AUC-ROC: 0.8389021479713605\n"
     ]
    }
   ],
   "source": [
    "print('Accuracy score:', accuracy_score(valid_target, valid_pred_des_tree_balanced))\n",
    "print('F1 score:', f1_score(valid_target, valid_pred_des_tree_balanced, average='micro'))\n",
    "print('AUC-ROC:', roc_auc_score(valid_target, proba_valid_des_tree_balanced[:,1], average='micro'))"
   ]
  },
  {
   "cell_type": "markdown",
   "metadata": {},
   "source": [
    "#### Случайный лес"
   ]
  },
  {
   "cell_type": "code",
   "execution_count": 75,
   "metadata": {},
   "outputs": [],
   "source": [
    "model_ranfor_balanced = RandomForestClassifier(random_state=45, \n",
    "                                               max_depth= 7, \n",
    "                                               min_samples_leaf = 4, \n",
    "                                               n_estimators= 19, \n",
    "                                               class_weight='balanced')"
   ]
  },
  {
   "cell_type": "code",
   "execution_count": 76,
   "metadata": {},
   "outputs": [
    {
     "data": {
      "text/plain": [
       "RandomForestClassifier(bootstrap=True, class_weight='balanced',\n",
       "                       criterion='gini', max_depth=7, max_features='auto',\n",
       "                       max_leaf_nodes=None, min_impurity_decrease=0.0,\n",
       "                       min_impurity_split=None, min_samples_leaf=4,\n",
       "                       min_samples_split=2, min_weight_fraction_leaf=0.0,\n",
       "                       n_estimators=19, n_jobs=None, oob_score=False,\n",
       "                       random_state=45, verbose=0, warm_start=False)"
      ]
     },
     "execution_count": 76,
     "metadata": {},
     "output_type": "execute_result"
    }
   ],
   "source": [
    "model_ranfor_balanced.fit(train_features, train_target)"
   ]
  },
  {
   "cell_type": "code",
   "execution_count": 77,
   "metadata": {},
   "outputs": [],
   "source": [
    "valid_pred_ranfor_balanced = model_ranfor_balanced.predict(valid_features)"
   ]
  },
  {
   "cell_type": "code",
   "execution_count": 78,
   "metadata": {},
   "outputs": [],
   "source": [
    "proba_valid_ranfor_balanced = model_ranfor_balanced.predict_proba(valid_features)"
   ]
  },
  {
   "cell_type": "code",
   "execution_count": 79,
   "metadata": {},
   "outputs": [
    {
     "name": "stdout",
     "output_type": "stream",
     "text": [
      "Accuracy score: 0.8085\n",
      "F1 score: 0.8085\n",
      "AUC-ROC: 0.8445268168087928\n"
     ]
    }
   ],
   "source": [
    "print('Accuracy score:', accuracy_score(valid_target, valid_pred_ranfor_balanced))\n",
    "print('F1 score:', f1_score(valid_target, valid_pred_ranfor_balanced, average='micro'))\n",
    "print('AUC-ROC:', roc_auc_score(valid_target, proba_valid_ranfor_balanced[:,1], average='micro'))"
   ]
  },
  {
   "cell_type": "markdown",
   "metadata": {},
   "source": [
    "### Способ № 2.\n",
    "Увеличение выборки."
   ]
  },
  {
   "cell_type": "markdown",
   "metadata": {},
   "source": [
    "Разделим обучающую выборку на отрицательные и положительные объекты."
   ]
  },
  {
   "cell_type": "code",
   "execution_count": 80,
   "metadata": {},
   "outputs": [],
   "source": [
    "features_zeros =  train_features[train_target == 0]\n",
    "features_ones = train_features[train_target == 1]\n",
    "target_zeros = train_target[train_target == 0]\n",
    "target_ones = train_target[train_target == 1]"
   ]
  },
  {
   "cell_type": "markdown",
   "metadata": {},
   "source": [
    "Продублируем положительные объекты обучающей выборки.  \n",
    "Поскольку нам известно, что отрицательных объктов в 4 раза больше, чем положительных, именно столько раз мы продублируем положительные объекты."
   ]
  },
  {
   "cell_type": "code",
   "execution_count": 81,
   "metadata": {},
   "outputs": [],
   "source": [
    "repeat = 4\n",
    "features_upsampled = pd.concat([features_zeros] + [features_ones] * repeat)\n",
    "target_upsampled = pd.concat([target_zeros] + [target_ones] * repeat)"
   ]
  },
  {
   "cell_type": "code",
   "execution_count": 82,
   "metadata": {},
   "outputs": [
    {
     "name": "stdout",
     "output_type": "stream",
     "text": [
      "(9606, 13)\n",
      "(9606,)\n"
     ]
    }
   ],
   "source": [
    "print(features_upsampled.shape)\n",
    "print(target_upsampled.shape)"
   ]
  },
  {
   "cell_type": "code",
   "execution_count": 83,
   "metadata": {},
   "outputs": [],
   "source": [
    "features_upsampled, target_upsampled = shuffle(features_upsampled, target_upsampled, random_state=45)"
   ]
  },
  {
   "cell_type": "markdown",
   "metadata": {},
   "source": [
    "#### Логистичекая регрессия."
   ]
  },
  {
   "cell_type": "code",
   "execution_count": 84,
   "metadata": {},
   "outputs": [],
   "source": [
    "log_regr_model_ups = LogisticRegression(random_state=45, solver='liblinear')"
   ]
  },
  {
   "cell_type": "code",
   "execution_count": 85,
   "metadata": {},
   "outputs": [
    {
     "data": {
      "text/plain": [
       "LogisticRegression(C=1.0, class_weight=None, dual=False, fit_intercept=True,\n",
       "                   intercept_scaling=1, l1_ratio=None, max_iter=100,\n",
       "                   multi_class='warn', n_jobs=None, penalty='l2',\n",
       "                   random_state=45, solver='liblinear', tol=0.0001, verbose=0,\n",
       "                   warm_start=False)"
      ]
     },
     "execution_count": 85,
     "metadata": {},
     "output_type": "execute_result"
    }
   ],
   "source": [
    "log_regr_model_ups.fit(features_upsampled, target_upsampled)"
   ]
  },
  {
   "cell_type": "code",
   "execution_count": 86,
   "metadata": {},
   "outputs": [],
   "source": [
    "valid_pred_logreg_ups = log_regr_model_ups.predict(valid_features)"
   ]
  },
  {
   "cell_type": "code",
   "execution_count": 87,
   "metadata": {},
   "outputs": [],
   "source": [
    "proba_valid_logreg_ups = log_regr_model_ups.predict_proba(valid_features)"
   ]
  },
  {
   "cell_type": "code",
   "execution_count": 88,
   "metadata": {},
   "outputs": [
    {
     "name": "stdout",
     "output_type": "stream",
     "text": [
      "Accuracy score: 0.654\n",
      "F1 score: 0.654\n",
      "AUC-ROC: 0.7164720072338736\n"
     ]
    }
   ],
   "source": [
    "print('Accuracy score:', accuracy_score(valid_target, valid_pred_logreg_ups))\n",
    "print('F1 score:', f1_score(valid_target, valid_pred_logreg_ups, average='micro'))\n",
    "print('AUC-ROC:', roc_auc_score(valid_target, proba_valid_logreg_ups[:,1], average='micro'))"
   ]
  },
  {
   "cell_type": "markdown",
   "metadata": {},
   "source": [
    "#### Дерево решений"
   ]
  },
  {
   "cell_type": "code",
   "execution_count": 89,
   "metadata": {},
   "outputs": [],
   "source": [
    "model_des_tree_ups = DecisionTreeClassifier(random_state=45, max_depth=7, min_samples_leaf =10)"
   ]
  },
  {
   "cell_type": "code",
   "execution_count": 90,
   "metadata": {},
   "outputs": [
    {
     "data": {
      "text/plain": [
       "DecisionTreeClassifier(class_weight=None, criterion='gini', max_depth=7,\n",
       "                       max_features=None, max_leaf_nodes=None,\n",
       "                       min_impurity_decrease=0.0, min_impurity_split=None,\n",
       "                       min_samples_leaf=10, min_samples_split=2,\n",
       "                       min_weight_fraction_leaf=0.0, presort=False,\n",
       "                       random_state=45, splitter='best')"
      ]
     },
     "execution_count": 90,
     "metadata": {},
     "output_type": "execute_result"
    }
   ],
   "source": [
    "model_des_tree_ups.fit(features_upsampled, target_upsampled)"
   ]
  },
  {
   "cell_type": "code",
   "execution_count": 91,
   "metadata": {},
   "outputs": [],
   "source": [
    "valid_pred_dt_ups = model_des_tree_ups.predict(valid_features)"
   ]
  },
  {
   "cell_type": "code",
   "execution_count": 92,
   "metadata": {},
   "outputs": [],
   "source": [
    "proba_valid_dt_ups = model_des_tree_ups.predict_proba(valid_features)"
   ]
  },
  {
   "cell_type": "code",
   "execution_count": 93,
   "metadata": {},
   "outputs": [
    {
     "name": "stdout",
     "output_type": "stream",
     "text": [
      "Accuracy score: 0.7755\n",
      "F1 score: 0.7755\n",
      "AUC-ROC: 0.841355204026333\n"
     ]
    }
   ],
   "source": [
    "print('Accuracy score:', accuracy_score(valid_target, valid_pred_dt_ups))\n",
    "print('F1 score:', f1_score(valid_target, valid_pred_dt_ups, average='micro'))\n",
    "print('AUC-ROC:', roc_auc_score(valid_target, proba_valid_dt_ups[:,1], average='micro'))"
   ]
  },
  {
   "cell_type": "markdown",
   "metadata": {},
   "source": [
    "#### Случайный лес"
   ]
  },
  {
   "cell_type": "code",
   "execution_count": 94,
   "metadata": {},
   "outputs": [],
   "source": [
    "model_ranfor_ups = RandomForestClassifier(random_state=45, max_depth= 7, min_samples_leaf = 4, n_estimators= 19)"
   ]
  },
  {
   "cell_type": "code",
   "execution_count": 95,
   "metadata": {},
   "outputs": [
    {
     "data": {
      "text/plain": [
       "RandomForestClassifier(bootstrap=True, class_weight=None, criterion='gini',\n",
       "                       max_depth=7, max_features='auto', max_leaf_nodes=None,\n",
       "                       min_impurity_decrease=0.0, min_impurity_split=None,\n",
       "                       min_samples_leaf=4, min_samples_split=2,\n",
       "                       min_weight_fraction_leaf=0.0, n_estimators=19,\n",
       "                       n_jobs=None, oob_score=False, random_state=45, verbose=0,\n",
       "                       warm_start=False)"
      ]
     },
     "execution_count": 95,
     "metadata": {},
     "output_type": "execute_result"
    }
   ],
   "source": [
    "model_ranfor_ups.fit(features_upsampled, target_upsampled)"
   ]
  },
  {
   "cell_type": "code",
   "execution_count": 96,
   "metadata": {},
   "outputs": [],
   "source": [
    "valid_pred_rf_ups = model_ranfor_ups.predict (valid_features)"
   ]
  },
  {
   "cell_type": "code",
   "execution_count": 97,
   "metadata": {},
   "outputs": [],
   "source": [
    "proba_valid_rf_ups = model_ranfor_ups.predict_proba(valid_features)"
   ]
  },
  {
   "cell_type": "code",
   "execution_count": 98,
   "metadata": {},
   "outputs": [
    {
     "name": "stdout",
     "output_type": "stream",
     "text": [
      "Accuracy score: 0.8025\n",
      "F1 score: 0.8025\n",
      "AUC-ROC: 0.8452936798709012\n"
     ]
    }
   ],
   "source": [
    "print('Accuracy score:', accuracy_score(valid_target, valid_pred_rf_ups))\n",
    "print('F1 score:', f1_score(valid_target, valid_pred_rf_ups, average='micro'))\n",
    "print('AUC-ROC:', roc_auc_score(valid_target, proba_valid_rf_ups[:,1], average='micro'))"
   ]
  },
  {
   "cell_type": "markdown",
   "metadata": {},
   "source": [
    "### Способ № 3.\n",
    "Уменьшение выборки."
   ]
  },
  {
   "cell_type": "code",
   "execution_count": 99,
   "metadata": {},
   "outputs": [],
   "source": [
    "features_downsampled = pd.concat([features_zeros.sample(frac=0.25, random_state=45)] + [features_ones])"
   ]
  },
  {
   "cell_type": "code",
   "execution_count": 100,
   "metadata": {},
   "outputs": [],
   "source": [
    "target_downsampled = pd.concat([target_zeros.sample(frac=0.25, random_state=45)] + [target_ones])"
   ]
  },
  {
   "cell_type": "code",
   "execution_count": 101,
   "metadata": {},
   "outputs": [],
   "source": [
    "features_downsampled, target_downsampled = shuffle(features_downsampled, target_downsampled, random_state=45)"
   ]
  },
  {
   "cell_type": "code",
   "execution_count": 102,
   "metadata": {},
   "outputs": [
    {
     "name": "stdout",
     "output_type": "stream",
     "text": [
      "(2402, 13)\n",
      "(2402,)\n"
     ]
    }
   ],
   "source": [
    "print(features_downsampled.shape)\n",
    "print(target_downsampled.shape)"
   ]
  },
  {
   "cell_type": "markdown",
   "metadata": {},
   "source": [
    "Выборк уменьшина, приступим к обучению модели."
   ]
  },
  {
   "cell_type": "markdown",
   "metadata": {},
   "source": [
    "#### Логистическая регрессия"
   ]
  },
  {
   "cell_type": "code",
   "execution_count": 103,
   "metadata": {},
   "outputs": [],
   "source": [
    "log_regr_model_dns = LogisticRegression(random_state=45, solver='liblinear')"
   ]
  },
  {
   "cell_type": "code",
   "execution_count": 104,
   "metadata": {},
   "outputs": [
    {
     "data": {
      "text/plain": [
       "LogisticRegression(C=1.0, class_weight=None, dual=False, fit_intercept=True,\n",
       "                   intercept_scaling=1, l1_ratio=None, max_iter=100,\n",
       "                   multi_class='warn', n_jobs=None, penalty='l2',\n",
       "                   random_state=45, solver='liblinear', tol=0.0001, verbose=0,\n",
       "                   warm_start=False)"
      ]
     },
     "execution_count": 104,
     "metadata": {},
     "output_type": "execute_result"
    }
   ],
   "source": [
    "log_regr_model_dns.fit(features_downsampled, target_downsampled)"
   ]
  },
  {
   "cell_type": "code",
   "execution_count": 105,
   "metadata": {},
   "outputs": [],
   "source": [
    "valid_pred_logreg_dns = log_regr_model_dns.predict (valid_features)"
   ]
  },
  {
   "cell_type": "code",
   "execution_count": 106,
   "metadata": {},
   "outputs": [],
   "source": [
    "proba_valid_logreg_dns = log_regr_model_dns.predict_proba(valid_features)"
   ]
  },
  {
   "cell_type": "code",
   "execution_count": 107,
   "metadata": {},
   "outputs": [
    {
     "name": "stdout",
     "output_type": "stream",
     "text": [
      "Accuracy score: 0.6495\n",
      "F1 score: 0.6495\n",
      "AUC-ROC: 0.7122391646627085\n"
     ]
    }
   ],
   "source": [
    "print('Accuracy score:', accuracy_score(valid_target, valid_pred_logreg_dns))\n",
    "print('F1 score:', f1_score(valid_target, valid_pred_logreg_dns, average='micro'))\n",
    "print('AUC-ROC:', roc_auc_score(valid_target, proba_valid_logreg_dns[:,1], average='micro'))"
   ]
  },
  {
   "cell_type": "markdown",
   "metadata": {},
   "source": [
    "#### Дерево решений"
   ]
  },
  {
   "cell_type": "code",
   "execution_count": 108,
   "metadata": {},
   "outputs": [],
   "source": [
    "model_des_tree_dns = DecisionTreeClassifier(random_state=45, max_depth=7, min_samples_leaf =10)"
   ]
  },
  {
   "cell_type": "code",
   "execution_count": 109,
   "metadata": {},
   "outputs": [
    {
     "data": {
      "text/plain": [
       "DecisionTreeClassifier(class_weight=None, criterion='gini', max_depth=7,\n",
       "                       max_features=None, max_leaf_nodes=None,\n",
       "                       min_impurity_decrease=0.0, min_impurity_split=None,\n",
       "                       min_samples_leaf=10, min_samples_split=2,\n",
       "                       min_weight_fraction_leaf=0.0, presort=False,\n",
       "                       random_state=45, splitter='best')"
      ]
     },
     "execution_count": 109,
     "metadata": {},
     "output_type": "execute_result"
    }
   ],
   "source": [
    "model_des_tree_dns.fit(features_downsampled, target_downsampled)"
   ]
  },
  {
   "cell_type": "code",
   "execution_count": 110,
   "metadata": {},
   "outputs": [],
   "source": [
    "valid_pred_dt_ups = model_des_tree_dns.predict(valid_features)"
   ]
  },
  {
   "cell_type": "code",
   "execution_count": 111,
   "metadata": {},
   "outputs": [],
   "source": [
    "proba_valid_dt_ups = model_des_tree_dns.predict_proba(valid_features)"
   ]
  },
  {
   "cell_type": "code",
   "execution_count": 112,
   "metadata": {},
   "outputs": [
    {
     "name": "stdout",
     "output_type": "stream",
     "text": [
      "Accuracy score: 0.7755\n",
      "F1 score: 0.7755\n",
      "AUC-ROC: 0.8201683475761542\n"
     ]
    }
   ],
   "source": [
    "print('Accuracy score:', accuracy_score(valid_target, valid_pred_dt_ups))\n",
    "print('F1 score:', f1_score(valid_target, valid_pred_dt_ups, average='micro'))\n",
    "print('AUC-ROC:', roc_auc_score(valid_target, proba_valid_dt_ups[:,1], average='micro'))"
   ]
  },
  {
   "cell_type": "markdown",
   "metadata": {},
   "source": [
    "#### Случайный лес"
   ]
  },
  {
   "cell_type": "code",
   "execution_count": 113,
   "metadata": {},
   "outputs": [],
   "source": [
    "model_ranfor_dns = RandomForestClassifier(random_state=45, max_depth= 7, min_samples_leaf = 4, n_estimators= 19)"
   ]
  },
  {
   "cell_type": "code",
   "execution_count": 114,
   "metadata": {},
   "outputs": [
    {
     "data": {
      "text/plain": [
       "RandomForestClassifier(bootstrap=True, class_weight=None, criterion='gini',\n",
       "                       max_depth=7, max_features='auto', max_leaf_nodes=None,\n",
       "                       min_impurity_decrease=0.0, min_impurity_split=None,\n",
       "                       min_samples_leaf=4, min_samples_split=2,\n",
       "                       min_weight_fraction_leaf=0.0, n_estimators=19,\n",
       "                       n_jobs=None, oob_score=False, random_state=45, verbose=0,\n",
       "                       warm_start=False)"
      ]
     },
     "execution_count": 114,
     "metadata": {},
     "output_type": "execute_result"
    }
   ],
   "source": [
    "model_ranfor_dns.fit(features_downsampled, target_downsampled)"
   ]
  },
  {
   "cell_type": "code",
   "execution_count": 115,
   "metadata": {},
   "outputs": [],
   "source": [
    "valid_pred_rf_dns = model_ranfor_dns.predict(valid_features)"
   ]
  },
  {
   "cell_type": "code",
   "execution_count": 116,
   "metadata": {},
   "outputs": [],
   "source": [
    "proba_valid_rf_dns = model_ranfor_dns.predict_proba(valid_features)"
   ]
  },
  {
   "cell_type": "code",
   "execution_count": 117,
   "metadata": {},
   "outputs": [
    {
     "name": "stdout",
     "output_type": "stream",
     "text": [
      "Accuracy score: 0.789\n",
      "F1 score: 0.7890000000000001\n",
      "AUC-ROC: 0.8450408264006195\n"
     ]
    }
   ],
   "source": [
    "print('Accuracy score:', accuracy_score(valid_target, valid_pred_rf_dns))\n",
    "print('F1 score:', f1_score(valid_target, valid_pred_rf_dns, average='micro'))\n",
    "print('AUC-ROC:', roc_auc_score(valid_target, proba_valid_rf_dns[:,1], average='micro'))"
   ]
  },
  {
   "cell_type": "markdown",
   "metadata": {},
   "source": [
    "####  Вывод\n",
    "Все три способа дают примерно одинаковый результат, но лучше всех (по величине accuracy) обучаются модели с использованием параметра class_weight с аргументом 'balanced'. По сравнению с моделями, обученными на несбалансированной выборке, величина AUC-ROC и F1-меры снизилась (за исключением логистической регрессии за счет того, что она научилась распознавать положительные ответы), поскольку увеличилось количество положительных классов, следовательно, увеличилось кол-во ложноположительных ответов. \n",
    "Посмотрим примеры матриц ошибок у случайного леса, обученного на несбалансированной выборке и на уравновешенной с помощью параметра class_weight выборке:"
   ]
  },
  {
   "cell_type": "code",
   "execution_count": 118,
   "metadata": {},
   "outputs": [
    {
     "name": "stdout",
     "output_type": "stream",
     "text": [
      "Матрица ошибок модели \"случайный лес\", обученной на несбалансированной выборке:\n",
      "[[1555   26]\n",
      " [ 283  136]]\n"
     ]
    }
   ],
   "source": [
    "print('Матрица ошибок модели \"случайный лес\", обученной на несбалансированной выборке:')\n",
    "print(confusion_matrix(valid_target, valid_pred_ranfor))"
   ]
  },
  {
   "cell_type": "code",
   "execution_count": 119,
   "metadata": {},
   "outputs": [
    {
     "name": "stdout",
     "output_type": "stream",
     "text": [
      "Матрица ошибок модели \"случайный лес\", обученной на уравновешенной выборке:\n",
      "[[1320  261]\n",
      " [ 122  297]]\n"
     ]
    }
   ],
   "source": [
    "print('Матрица ошибок модели \"случайный лес\", обученной на уравновешенной выборке:')\n",
    "print(confusion_matrix(valid_target, valid_pred_ranfor_balanced))"
   ]
  },
  {
   "cell_type": "markdown",
   "metadata": {},
   "source": [
    "Самая высокая F1-мера наблюдается у трех моделей, обученных с помощью уравновешивания выборок (способ №1). Проверим их на тестовой выборке."
   ]
  },
  {
   "cell_type": "markdown",
   "metadata": {},
   "source": [
    "# 4. Тестирование модели"
   ]
  },
  {
   "cell_type": "code",
   "execution_count": 120,
   "metadata": {},
   "outputs": [
    {
     "data": {
      "text/html": [
       "<div>\n",
       "<style scoped>\n",
       "    .dataframe tbody tr th:only-of-type {\n",
       "        vertical-align: middle;\n",
       "    }\n",
       "\n",
       "    .dataframe tbody tr th {\n",
       "        vertical-align: top;\n",
       "    }\n",
       "\n",
       "    .dataframe thead th {\n",
       "        text-align: right;\n",
       "    }\n",
       "</style>\n",
       "<table border=\"1\" class=\"dataframe\">\n",
       "  <thead>\n",
       "    <tr style=\"text-align: right;\">\n",
       "      <th></th>\n",
       "      <th>credit_score</th>\n",
       "      <th>age</th>\n",
       "      <th>tenure</th>\n",
       "      <th>balance</th>\n",
       "      <th>num_of_products</th>\n",
       "      <th>has_cr_card</th>\n",
       "      <th>is_active_member</th>\n",
       "      <th>estimated_salary</th>\n",
       "      <th>exited</th>\n",
       "      <th>geography_France</th>\n",
       "      <th>geography_Germany</th>\n",
       "      <th>geography_Spain</th>\n",
       "      <th>gender_Female</th>\n",
       "      <th>gender_Male</th>\n",
       "    </tr>\n",
       "  </thead>\n",
       "  <tbody>\n",
       "    <tr>\n",
       "      <td>9405</td>\n",
       "      <td>575</td>\n",
       "      <td>36</td>\n",
       "      <td>7</td>\n",
       "      <td>0.00</td>\n",
       "      <td>1</td>\n",
       "      <td>1</td>\n",
       "      <td>1</td>\n",
       "      <td>55868.97</td>\n",
       "      <td>1</td>\n",
       "      <td>1</td>\n",
       "      <td>0</td>\n",
       "      <td>0</td>\n",
       "      <td>0</td>\n",
       "      <td>1</td>\n",
       "    </tr>\n",
       "    <tr>\n",
       "      <td>9753</td>\n",
       "      <td>656</td>\n",
       "      <td>68</td>\n",
       "      <td>7</td>\n",
       "      <td>153545.11</td>\n",
       "      <td>1</td>\n",
       "      <td>1</td>\n",
       "      <td>1</td>\n",
       "      <td>186574.68</td>\n",
       "      <td>0</td>\n",
       "      <td>0</td>\n",
       "      <td>1</td>\n",
       "      <td>0</td>\n",
       "      <td>0</td>\n",
       "      <td>1</td>\n",
       "    </tr>\n",
       "    <tr>\n",
       "      <td>8780</td>\n",
       "      <td>820</td>\n",
       "      <td>39</td>\n",
       "      <td>9</td>\n",
       "      <td>111336.89</td>\n",
       "      <td>1</td>\n",
       "      <td>1</td>\n",
       "      <td>0</td>\n",
       "      <td>16770.31</td>\n",
       "      <td>1</td>\n",
       "      <td>0</td>\n",
       "      <td>1</td>\n",
       "      <td>0</td>\n",
       "      <td>0</td>\n",
       "      <td>1</td>\n",
       "    </tr>\n",
       "    <tr>\n",
       "      <td>1585</td>\n",
       "      <td>538</td>\n",
       "      <td>33</td>\n",
       "      <td>6</td>\n",
       "      <td>93791.38</td>\n",
       "      <td>1</td>\n",
       "      <td>1</td>\n",
       "      <td>1</td>\n",
       "      <td>199249.29</td>\n",
       "      <td>0</td>\n",
       "      <td>1</td>\n",
       "      <td>0</td>\n",
       "      <td>0</td>\n",
       "      <td>0</td>\n",
       "      <td>1</td>\n",
       "    </tr>\n",
       "    <tr>\n",
       "      <td>3795</td>\n",
       "      <td>554</td>\n",
       "      <td>22</td>\n",
       "      <td>8</td>\n",
       "      <td>0.00</td>\n",
       "      <td>2</td>\n",
       "      <td>0</td>\n",
       "      <td>1</td>\n",
       "      <td>142670.61</td>\n",
       "      <td>0</td>\n",
       "      <td>1</td>\n",
       "      <td>0</td>\n",
       "      <td>0</td>\n",
       "      <td>1</td>\n",
       "      <td>0</td>\n",
       "    </tr>\n",
       "    <tr>\n",
       "      <td>...</td>\n",
       "      <td>...</td>\n",
       "      <td>...</td>\n",
       "      <td>...</td>\n",
       "      <td>...</td>\n",
       "      <td>...</td>\n",
       "      <td>...</td>\n",
       "      <td>...</td>\n",
       "      <td>...</td>\n",
       "      <td>...</td>\n",
       "      <td>...</td>\n",
       "      <td>...</td>\n",
       "      <td>...</td>\n",
       "      <td>...</td>\n",
       "      <td>...</td>\n",
       "    </tr>\n",
       "    <tr>\n",
       "      <td>1789</td>\n",
       "      <td>763</td>\n",
       "      <td>37</td>\n",
       "      <td>6</td>\n",
       "      <td>0.00</td>\n",
       "      <td>2</td>\n",
       "      <td>1</td>\n",
       "      <td>1</td>\n",
       "      <td>149705.25</td>\n",
       "      <td>0</td>\n",
       "      <td>0</td>\n",
       "      <td>0</td>\n",
       "      <td>1</td>\n",
       "      <td>1</td>\n",
       "      <td>0</td>\n",
       "    </tr>\n",
       "    <tr>\n",
       "      <td>8441</td>\n",
       "      <td>624</td>\n",
       "      <td>23</td>\n",
       "      <td>5</td>\n",
       "      <td>0.00</td>\n",
       "      <td>2</td>\n",
       "      <td>0</td>\n",
       "      <td>0</td>\n",
       "      <td>132418.59</td>\n",
       "      <td>0</td>\n",
       "      <td>1</td>\n",
       "      <td>0</td>\n",
       "      <td>0</td>\n",
       "      <td>1</td>\n",
       "      <td>0</td>\n",
       "    </tr>\n",
       "    <tr>\n",
       "      <td>2344</td>\n",
       "      <td>714</td>\n",
       "      <td>49</td>\n",
       "      <td>4</td>\n",
       "      <td>93059.34</td>\n",
       "      <td>1</td>\n",
       "      <td>1</td>\n",
       "      <td>0</td>\n",
       "      <td>7571.51</td>\n",
       "      <td>1</td>\n",
       "      <td>0</td>\n",
       "      <td>1</td>\n",
       "      <td>0</td>\n",
       "      <td>1</td>\n",
       "      <td>0</td>\n",
       "    </tr>\n",
       "    <tr>\n",
       "      <td>1993</td>\n",
       "      <td>824</td>\n",
       "      <td>60</td>\n",
       "      <td>8</td>\n",
       "      <td>134250.17</td>\n",
       "      <td>3</td>\n",
       "      <td>0</td>\n",
       "      <td>0</td>\n",
       "      <td>153046.16</td>\n",
       "      <td>1</td>\n",
       "      <td>0</td>\n",
       "      <td>1</td>\n",
       "      <td>0</td>\n",
       "      <td>0</td>\n",
       "      <td>1</td>\n",
       "    </tr>\n",
       "    <tr>\n",
       "      <td>1786</td>\n",
       "      <td>711</td>\n",
       "      <td>37</td>\n",
       "      <td>2</td>\n",
       "      <td>0.00</td>\n",
       "      <td>2</td>\n",
       "      <td>1</td>\n",
       "      <td>0</td>\n",
       "      <td>83978.86</td>\n",
       "      <td>1</td>\n",
       "      <td>0</td>\n",
       "      <td>0</td>\n",
       "      <td>1</td>\n",
       "      <td>0</td>\n",
       "      <td>1</td>\n",
       "    </tr>\n",
       "  </tbody>\n",
       "</table>\n",
       "<p>2000 rows × 14 columns</p>\n",
       "</div>"
      ],
      "text/plain": [
       "      credit_score  age  tenure    balance  num_of_products  has_cr_card  \\\n",
       "9405           575   36       7       0.00                1            1   \n",
       "9753           656   68       7  153545.11                1            1   \n",
       "8780           820   39       9  111336.89                1            1   \n",
       "1585           538   33       6   93791.38                1            1   \n",
       "3795           554   22       8       0.00                2            0   \n",
       "...            ...  ...     ...        ...              ...          ...   \n",
       "1789           763   37       6       0.00                2            1   \n",
       "8441           624   23       5       0.00                2            0   \n",
       "2344           714   49       4   93059.34                1            1   \n",
       "1993           824   60       8  134250.17                3            0   \n",
       "1786           711   37       2       0.00                2            1   \n",
       "\n",
       "      is_active_member  estimated_salary  exited  geography_France  \\\n",
       "9405                 1          55868.97       1                 1   \n",
       "9753                 1         186574.68       0                 0   \n",
       "8780                 0          16770.31       1                 0   \n",
       "1585                 1         199249.29       0                 1   \n",
       "3795                 1         142670.61       0                 1   \n",
       "...                ...               ...     ...               ...   \n",
       "1789                 1         149705.25       0                 0   \n",
       "8441                 0         132418.59       0                 1   \n",
       "2344                 0           7571.51       1                 0   \n",
       "1993                 0         153046.16       1                 0   \n",
       "1786                 0          83978.86       1                 0   \n",
       "\n",
       "      geography_Germany  geography_Spain  gender_Female  gender_Male  \n",
       "9405                  0                0              0            1  \n",
       "9753                  1                0              0            1  \n",
       "8780                  1                0              0            1  \n",
       "1585                  0                0              0            1  \n",
       "3795                  0                0              1            0  \n",
       "...                 ...              ...            ...          ...  \n",
       "1789                  0                1              1            0  \n",
       "8441                  0                0              1            0  \n",
       "2344                  1                0              1            0  \n",
       "1993                  1                0              0            1  \n",
       "1786                  0                1              0            1  \n",
       "\n",
       "[2000 rows x 14 columns]"
      ]
     },
     "execution_count": 120,
     "metadata": {},
     "output_type": "execute_result"
    }
   ],
   "source": [
    "test_data"
   ]
  },
  {
   "cell_type": "code",
   "execution_count": 121,
   "metadata": {},
   "outputs": [
    {
     "name": "stdout",
     "output_type": "stream",
     "text": [
      "F1 score:\n",
      "Логистическая регрессия: 0.695\n",
      "Дерево решений: 0.767\n",
      "Случайный лес: 0.8135\n"
     ]
    }
   ],
   "source": [
    "test_target = test_data['exited']\n",
    "test_features = test_data.drop(['exited'], axis=1)\n",
    "test_pred_logregr_balanced = log_regr_model_bal.predict(test_features)\n",
    "test_pred_des_tree_balanced = model_des_tree_balanced.predict(test_features)\n",
    "test_pred_ranfor_balanced = model_ranfor_balanced.predict(test_features)\n",
    "print('F1 score:')\n",
    "print('Логистическая регрессия:', f1_score(test_target, test_pred_logregr_balanced, average='micro'))\n",
    "print('Дерево решений:', f1_score(test_target, test_pred_des_tree_balanced, average='micro'))\n",
    "print('Случайный лес:', f1_score(test_target, test_pred_ranfor_balanced, average='micro'))"
   ]
  },
  {
   "cell_type": "code",
   "execution_count": 122,
   "metadata": {},
   "outputs": [
    {
     "name": "stdout",
     "output_type": "stream",
     "text": [
      "AUC-ROC:\n",
      "Логистическая регрессия: 0.766993856837607\n",
      "Дерево решений: 0.8378807607323232\n",
      "Случайный лес: 0.8561425553613053\n"
     ]
    }
   ],
   "source": [
    "proba_test_logregr_balanced = log_regr_model_bal.predict_proba(test_features)\n",
    "proba_test_des_tree_balanced = model_des_tree_balanced.predict_proba(test_features)\n",
    "proba_test_ranfor_balanced = model_ranfor_balanced.predict_proba(test_features)\n",
    "print('AUC-ROC:')\n",
    "print('Логистическая регрессия:', roc_auc_score(test_target, proba_test_logregr_balanced[:,1], average='micro'))\n",
    "print('Дерево решений:', roc_auc_score(test_target, proba_test_des_tree_balanced[:,1], average='micro'))\n",
    "print('Случайный лес:', roc_auc_score(test_target, proba_test_ranfor_balanced[:,1], average='micro'))"
   ]
  }
 ],
 "metadata": {
  "kernelspec": {
   "display_name": "Python 3",
   "language": "python",
   "name": "python3"
  },
  "language_info": {
   "codemirror_mode": {
    "name": "ipython",
    "version": 3
   },
   "file_extension": ".py",
   "mimetype": "text/x-python",
   "name": "python",
   "nbconvert_exporter": "python",
   "pygments_lexer": "ipython3",
   "version": "3.7.4"
  }
 },
 "nbformat": 4,
 "nbformat_minor": 2
}
